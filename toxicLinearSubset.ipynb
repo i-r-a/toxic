{
  "nbformat": 4,
  "nbformat_minor": 0,
  "metadata": {
    "colab": {
      "name": "toxicLinear.ipynb",
      "provenance": [],
      "collapsed_sections": [],
      "authorship_tag": "ABX9TyNisgiOj1XB2UwSaplB3LE3",
      "include_colab_link": true
    },
    "kernelspec": {
      "name": "python3",
      "display_name": "Python 3"
    }
  },
  "cells": [
    {
      "cell_type": "markdown",
      "metadata": {
        "id": "view-in-github",
        "colab_type": "text"
      },
      "source": [
        "<a href=\"https://colab.research.google.com/github/i-r-a/toxic/blob/master/toxicLinearSubset.ipynb\" target=\"_parent\"><img src=\"https://colab.research.google.com/assets/colab-badge.svg\" alt=\"Open In Colab\"/></a>"
      ]
    },
    {
      "cell_type": "code",
      "metadata": {
        "id": "2cT8-4eu0DRP",
        "colab_type": "code",
        "colab": {}
      },
      "source": [
        "import os\n",
        "import io\n",
        "import matplotlib as mpl\n",
        "import matplotlib.pyplot as plt\n",
        "from IPython.display import display\n",
        "%matplotlib inline\n",
        "\n",
        "import pandas as pd\n",
        "import numpy as np\n",
        "from sklearn.model_selection import train_test_split\n",
        "from sklearn.metrics import accuracy_score\n",
        "from sklearn.metrics import confusion_matrix, classification_report, roc_curve, auc\n",
        "from sklearn import preprocessing\n",
        "from sklearn import metrics\n",
        "from sklearn.linear_model import LinearRegression\n",
        "from sklearn.feature_extraction.text import TfidfVectorizer\n",
        "from nltk.corpus import stopwords\n",
        "import seaborn as sns"
      ],
      "execution_count": 5,
      "outputs": []
    },
    {
      "cell_type": "code",
      "metadata": {
        "id": "Cv9Z7hS50bNB",
        "colab_type": "code",
        "colab": {
          "base_uri": "https://localhost:8080/",
          "height": 34
        },
        "outputId": "bc2a92da-a1b2-41b0-d048-ed45239a01dc"
      },
      "source": [
        "from google.colab import drive\n",
        "drive.mount('/content/drive')"
      ],
      "execution_count": 6,
      "outputs": [
        {
          "output_type": "stream",
          "text": [
            "Drive already mounted at /content/drive; to attempt to forcibly remount, call drive.mount(\"/content/drive\", force_remount=True).\n"
          ],
          "name": "stdout"
        }
      ]
    },
    {
      "cell_type": "code",
      "metadata": {
        "id": "mB1XE5Ry1Vej",
        "colab_type": "code",
        "colab": {}
      },
      "source": [
        "train = pd.read_csv('drive/My Drive/clean_new_train.csv')"
      ],
      "execution_count": 7,
      "outputs": []
    },
    {
      "cell_type": "code",
      "metadata": {
        "id": "-GD5p9f-A7-z",
        "colab_type": "code",
        "colab": {}
      },
      "source": [
        "le = preprocessing.LabelEncoder()\n",
        "cz = le.fit_transform(train.comment_text)"
      ],
      "execution_count": 9,
      "outputs": []
    },
    {
      "cell_type": "code",
      "metadata": {
        "id": "A2eeGQMX1lkp",
        "colab_type": "code",
        "colab": {}
      },
      "source": [
        "y_columns = \"toxic\""
      ],
      "execution_count": 10,
      "outputs": []
    },
    {
      "cell_type": "code",
      "metadata": {
        "id": "BOZpQ86y1wH8",
        "colab_type": "code",
        "colab": {}
      },
      "source": [
        "y = train[y_columns]\n",
        "x = cz\n",
        "x_train, x_test, y_train, y_test = train_test_split(x, y, train_size=0.8, random_state=300)"
      ],
      "execution_count": 11,
      "outputs": []
    },
    {
      "cell_type": "code",
      "metadata": {
        "id": "lITfTVKa4ZGv",
        "colab_type": "code",
        "colab": {
          "base_uri": "https://localhost:8080/",
          "height": 221
        },
        "outputId": "6145eca6-a0cf-4d36-8083-dabe17d7877d"
      },
      "source": [
        "x_train,y_train"
      ],
      "execution_count": null,
      "outputs": [
        {
          "output_type": "execute_result",
          "data": {
            "text/plain": [
              "(array([  2434, 203820,  90921, ..., 160558, 126719,   4174]), 50459     0\n",
              " 102570    0\n",
              " 6659      0\n",
              " 90824     0\n",
              " 212885    0\n",
              "          ..\n",
              " 7146      0\n",
              " 169681    0\n",
              " 60310     0\n",
              " 203244    1\n",
              " 50385     0\n",
              " Name: toxic, Length: 178827, dtype: int64)"
            ]
          },
          "metadata": {
            "tags": []
          },
          "execution_count": 8
        }
      ]
    },
    {
      "cell_type": "code",
      "metadata": {
        "id": "VfsZy5B-6EFc",
        "colab_type": "code",
        "colab": {}
      },
      "source": [
        "x_train = x_train.reshape(-1,1)"
      ],
      "execution_count": 12,
      "outputs": []
    },
    {
      "cell_type": "code",
      "metadata": {
        "id": "BUXv6ZWTBS5Q",
        "colab_type": "code",
        "colab": {
          "base_uri": "https://localhost:8080/",
          "height": 34
        },
        "outputId": "2abaeb44-2663-4e28-9157-79c0b4e610c0"
      },
      "source": [
        "LIN = LinearRegression()\n",
        "LIN.fit(x_train, y_train)"
      ],
      "execution_count": 13,
      "outputs": [
        {
          "output_type": "execute_result",
          "data": {
            "text/plain": [
              "LinearRegression(copy_X=True, fit_intercept=True, n_jobs=None, normalize=False)"
            ]
          },
          "metadata": {
            "tags": []
          },
          "execution_count": 13
        }
      ]
    },
    {
      "cell_type": "code",
      "metadata": {
        "id": "ibAlXSffBVPE",
        "colab_type": "code",
        "colab": {}
      },
      "source": [
        "x_test = x_test.reshape(-1,1)\n",
        "y_pred = LIN.predict(x_train)\n",
        "y_pred2 = LIN.predict(x_test)\n"
      ],
      "execution_count": 14,
      "outputs": []
    },
    {
      "cell_type": "code",
      "metadata": {
        "id": "V8FOi2Y0BXRi",
        "colab_type": "code",
        "colab": {
          "base_uri": "https://localhost:8080/",
          "height": 153
        },
        "outputId": "a18c24ba-4428-4c37-a003-b87f558b012a"
      },
      "source": [
        "print(\"Train MAE: \")\n",
        "print(metrics.mean_absolute_error(y_train,y_pred))\n",
        "print()\n",
        "print(\"Test MAE: \")\n",
        "print(metrics.mean_absolute_error(y_test,y_pred2))\n",
        "print()\n",
        "print(\"Test MSE: \")\n",
        "print(np.sqrt(metrics.mean_squared_error(y_test,y_pred2)))"
      ],
      "execution_count": 15,
      "outputs": [
        {
          "output_type": "stream",
          "text": [
            "Train MAE: \n",
            "0.4917563919696707\n",
            "\n",
            "Test MAE: \n",
            "0.49213868790962295\n",
            "\n",
            "Test MSE: \n",
            "0.49621047082015446\n"
          ],
          "name": "stdout"
        }
      ]
    },
    {
      "cell_type": "code",
      "metadata": {
        "id": "QdPEHjKRh3rT",
        "colab_type": "code",
        "colab": {
          "base_uri": "https://localhost:8080/",
          "height": 204
        },
        "outputId": "55e08af8-ad3d-4ab6-d6a3-40b399dd83a8"
      },
      "source": [
        "pred = []\n",
        "for elem in y_pred:\n",
        "  pred.append(int(round(elem)))\n",
        "print(classification_report(y_train,pred))\n",
        "print(confusion_matrix(y_train,pred))\n",
        "fpr,tpr,thresh = roc_curve(y_train,pred)\n",
        "roc_auc = auc(fpr,tpr)"
      ],
      "execution_count": 16,
      "outputs": [
        {
          "output_type": "stream",
          "text": [
            "              precision    recall  f1-score   support\n",
            "\n",
            "           0       0.57      0.67      0.62     18829\n",
            "           1       0.55      0.45      0.49     17119\n",
            "\n",
            "    accuracy                           0.56     35948\n",
            "   macro avg       0.56      0.56      0.56     35948\n",
            "weighted avg       0.56      0.56      0.56     35948\n",
            "\n",
            "[[12643  6186]\n",
            " [ 9479  7640]]\n"
          ],
          "name": "stdout"
        }
      ]
    },
    {
      "cell_type": "code",
      "metadata": {
        "id": "NnUKZ7G9inBn",
        "colab_type": "code",
        "colab": {
          "base_uri": "https://localhost:8080/",
          "height": 283
        },
        "outputId": "e69d5348-fe34-47fa-b641-f8656e921834"
      },
      "source": [
        "plt.plot(fpr, tpr, 'b', label = 'AUC = %0.2f' % roc_auc)\n",
        "plt.legend(loc = 'lower right')\n",
        "plt.plot([0, 1], [0, 1],'r--')\n",
        "plt.xlim([0, 1])\n",
        "plt.ylim([0, 1])\n",
        "plt.ylabel('True Positive Rate')\n",
        "plt.xlabel('False Positive Rate')\n",
        "plt.show()\n"
      ],
      "execution_count": 17,
      "outputs": [
        {
          "output_type": "display_data",
          "data": {
            "image/png": "[encoded data removed]",
            "text/plain": [
              "<Figure size 432x288 with 1 Axes>"
            ]
          },
          "metadata": {
            "tags": [],
            "needs_background": "light"
          }
        }
      ]
    },
    {
      "cell_type": "code",
      "metadata": {
        "id": "5vKzIW_Ti0NB",
        "colab_type": "code",
        "colab": {
          "base_uri": "https://localhost:8080/",
          "height": 204
        },
        "outputId": "fdb6e089-f827-426c-d55a-6534425d1b26"
      },
      "source": [
        "pred = []\n",
        "for elem in y_pred2:\n",
        "  pred.append(int(round(elem)))\n",
        "print(classification_report(y_test,pred))\n",
        "print(confusion_matrix(y_test,pred))\n",
        "fpr,tpr,thresh = roc_curve(y_test,pred)\n",
        "roc_auc = auc(fpr,tpr)"
      ],
      "execution_count": 18,
      "outputs": [
        {
          "output_type": "stream",
          "text": [
            "              precision    recall  f1-score   support\n",
            "\n",
            "           0       0.57      0.67      0.62      4723\n",
            "           1       0.55      0.44      0.49      4265\n",
            "\n",
            "    accuracy                           0.56      8988\n",
            "   macro avg       0.56      0.56      0.55      8988\n",
            "weighted avg       0.56      0.56      0.56      8988\n",
            "\n",
            "[[3156 1567]\n",
            " [2371 1894]]\n"
          ],
          "name": "stdout"
        }
      ]
    },
    {
      "cell_type": "code",
      "metadata": {
        "id": "VNuy2DKEi0SG",
        "colab_type": "code",
        "colab": {
          "base_uri": "https://localhost:8080/",
          "height": 283
        },
        "outputId": "bbb43775-3a92-47a1-8c16-94de64e9beee"
      },
      "source": [
        "plt.plot(fpr, tpr, 'b', label = 'AUC = %0.2f' % roc_auc)\n",
        "plt.legend(loc = 'lower right')\n",
        "plt.plot([0, 1], [0, 1],'r--')\n",
        "plt.xlim([0, 1])\n",
        "plt.ylim([0, 1])\n",
        "plt.ylabel('True Positive Rate')\n",
        "plt.xlabel('False Positive Rate')\n",
        "plt.show()\n"
      ],
      "execution_count": 19,
      "outputs": [
        {
          "output_type": "display_data",
          "data": {
            "image/png": "[encoded data removed]",
            "text/plain": [
              "<Figure size 432x288 with 1 Axes>"
            ]
          },
          "metadata": {
            "tags": [],
            "needs_background": "light"
          }
        }
      ]
    },
    {
      "cell_type": "code",
      "metadata": {
        "id": "N8l59VbEBpcV",
        "colab_type": "code",
        "colab": {
          "base_uri": "https://localhost:8080/",
          "height": 153
        },
        "outputId": "8094849e-035e-47b5-a70f-6117510a119c"
      },
      "source": [
        "y_columns = \"severe_toxic\"\n",
        "y = train[y_columns]\n",
        "x_train, x_test, y_train, y_test = train_test_split(x, y, train_size=0.8, random_state=300)\n",
        "x_train = x_train.reshape(-1,1)\n",
        "LIN = LinearRegression()\n",
        "LIN.fit(x_train, y_train)\n",
        "x_test = x_test.reshape(-1,1)\n",
        "y_pred = LIN.predict(x_train)\n",
        "y_pred2 = LIN.predict(x_test)\n",
        "print(\"Train MAE: \")\n",
        "print(metrics.mean_absolute_error(y_train,y_pred))\n",
        "print()\n",
        "print(\"Test MAE: \")\n",
        "print(metrics.mean_absolute_error(y_test,y_pred2))\n",
        "print()\n",
        "print(\"Test MSE: \")\n",
        "print(np.sqrt(metrics.mean_squared_error(y_test,y_pred2)))"
      ],
      "execution_count": 20,
      "outputs": [
        {
          "output_type": "stream",
          "text": [
            "Train MAE: \n",
            "0.08383379207471808\n",
            "\n",
            "Test MAE: \n",
            "0.08287033385424307\n",
            "\n",
            "Test MSE: \n",
            "0.20238918905462858\n"
          ],
          "name": "stdout"
        }
      ]
    },
    {
      "cell_type": "code",
      "metadata": {
        "id": "OGYvez5Pi96h",
        "colab_type": "code",
        "colab": {
          "base_uri": "https://localhost:8080/",
          "height": 258
        },
        "outputId": "fa6ed6b4-3915-457d-8373-25b9d4161a30"
      },
      "source": [
        "pred = []\n",
        "for elem in y_pred:\n",
        "  pred.append(int(round(elem)))\n",
        "print(classification_report(y_train,pred))\n",
        "print(confusion_matrix(y_train,pred))\n",
        "fpr,tpr,thresh = roc_curve(y_train,pred)\n",
        "roc_auc = auc(fpr,tpr)"
      ],
      "execution_count": 21,
      "outputs": [
        {
          "output_type": "stream",
          "text": [
            "              precision    recall  f1-score   support\n",
            "\n",
            "           0       0.96      1.00      0.98     34371\n",
            "           1       0.00      0.00      0.00      1577\n",
            "\n",
            "    accuracy                           0.96     35948\n",
            "   macro avg       0.48      0.50      0.49     35948\n",
            "weighted avg       0.91      0.96      0.93     35948\n",
            "\n",
            "[[34371     0]\n",
            " [ 1577     0]]\n"
          ],
          "name": "stdout"
        },
        {
          "output_type": "stream",
          "text": [
            "/usr/local/lib/python3.6/dist-packages/sklearn/metrics/_classification.py:1272: UndefinedMetricWarning: Precision and F-score are ill-defined and being set to 0.0 in labels with no predicted samples. Use `zero_division` parameter to control this behavior.\n",
            "  _warn_prf(average, modifier, msg_start, len(result))\n"
          ],
          "name": "stderr"
        }
      ]
    },
    {
      "cell_type": "code",
      "metadata": {
        "id": "G4TVCfoxi99v",
        "colab_type": "code",
        "colab": {
          "base_uri": "https://localhost:8080/",
          "height": 283
        },
        "outputId": "e814ea3f-2d08-4358-a0c9-9f8d4d27a2a4"
      },
      "source": [
        "plt.plot(fpr, tpr, 'b', label = 'AUC = %0.2f' % roc_auc)\n",
        "plt.legend(loc = 'lower right')\n",
        "plt.plot([0, 1], [0, 1],'r--')\n",
        "plt.xlim([0, 1])\n",
        "plt.ylim([0, 1])\n",
        "plt.ylabel('True Positive Rate')\n",
        "plt.xlabel('False Positive Rate')\n",
        "plt.show()"
      ],
      "execution_count": 22,
      "outputs": [
        {
          "output_type": "display_data",
          "data": {
            "image/png": "[encoded data removed]",
            "text/plain": [
              "<Figure size 432x288 with 1 Axes>"
            ]
          },
          "metadata": {
            "tags": [],
            "needs_background": "light"
          }
        }
      ]
    },
    {
      "cell_type": "code",
      "metadata": {
        "id": "me4xgrH1i-Bf",
        "colab_type": "code",
        "colab": {
          "base_uri": "https://localhost:8080/",
          "height": 258
        },
        "outputId": "2bc3c8d1-bace-4170-cd31-2a55cb99eba3"
      },
      "source": [
        "pred = []\n",
        "for elem in y_pred2:\n",
        "  pred.append(int(round(elem)))\n",
        "print(classification_report(y_test,pred))\n",
        "print(confusion_matrix(y_test,pred))\n",
        "fpr,tpr,thresh = roc_curve(y_test,pred)\n",
        "roc_auc = auc(fpr,tpr)"
      ],
      "execution_count": 23,
      "outputs": [
        {
          "output_type": "stream",
          "text": [
            "              precision    recall  f1-score   support\n",
            "\n",
            "           0       0.96      1.00      0.98      8603\n",
            "           1       0.00      0.00      0.00       385\n",
            "\n",
            "    accuracy                           0.96      8988\n",
            "   macro avg       0.48      0.50      0.49      8988\n",
            "weighted avg       0.92      0.96      0.94      8988\n",
            "\n",
            "[[8603    0]\n",
            " [ 385    0]]\n"
          ],
          "name": "stdout"
        },
        {
          "output_type": "stream",
          "text": [
            "/usr/local/lib/python3.6/dist-packages/sklearn/metrics/_classification.py:1272: UndefinedMetricWarning: Precision and F-score are ill-defined and being set to 0.0 in labels with no predicted samples. Use `zero_division` parameter to control this behavior.\n",
            "  _warn_prf(average, modifier, msg_start, len(result))\n"
          ],
          "name": "stderr"
        }
      ]
    },
    {
      "cell_type": "code",
      "metadata": {
        "id": "xWaxiGwfi-FO",
        "colab_type": "code",
        "colab": {
          "base_uri": "https://localhost:8080/",
          "height": 283
        },
        "outputId": "4ccf473b-c6fc-4458-a1bb-7085fc9fc962"
      },
      "source": [
        "plt.plot(fpr, tpr, 'b', label = 'AUC = %0.2f' % roc_auc)\n",
        "plt.legend(loc = 'lower right')\n",
        "plt.plot([0, 1], [0, 1],'r--')\n",
        "plt.xlim([0, 1])\n",
        "plt.ylim([0, 1])\n",
        "plt.ylabel('True Positive Rate')\n",
        "plt.xlabel('False Positive Rate')\n",
        "plt.show()"
      ],
      "execution_count": 24,
      "outputs": [
        {
          "output_type": "display_data",
          "data": {
            "image/png": "[encoded data removed]",
            "text/plain": [
              "<Figure size 432x288 with 1 Axes>"
            ]
          },
          "metadata": {
            "tags": [],
            "needs_background": "light"
          }
        }
      ]
    },
    {
      "cell_type": "code",
      "metadata": {
        "id": "q90VXoU4DJfd",
        "colab_type": "code",
        "colab": {
          "base_uri": "https://localhost:8080/",
          "height": 153
        },
        "outputId": "b449cc7a-fea5-4b8f-9998-64e989ecfca6"
      },
      "source": [
        "y_columns = \"obscene\"\n",
        "y = train[y_columns]\n",
        "x_train, x_test, y_train, y_test = train_test_split(x, y, train_size=0.8, random_state=300)\n",
        "x_train = x_train.reshape(-1,1)\n",
        "LIN = LinearRegression()\n",
        "LIN.fit(x_train, y_train)\n",
        "x_test = x_test.reshape(-1,1)\n",
        "y_pred = LIN.predict(x_train)\n",
        "y_pred2 = LIN.predict(x_test)\n",
        "print(\"Train MAE: \")\n",
        "print(metrics.mean_absolute_error(y_train,y_pred))\n",
        "print()\n",
        "print(\"Test MAE: \")\n",
        "print(metrics.mean_absolute_error(y_test,y_pred2))\n",
        "print()\n",
        "print(\"Test MSE: \")\n",
        "print(np.sqrt(metrics.mean_squared_error(y_test,y_pred2)))"
      ],
      "execution_count": 25,
      "outputs": [
        {
          "output_type": "stream",
          "text": [
            "Train MAE: \n",
            "0.3916301012672297\n",
            "\n",
            "Test MAE: \n",
            "0.39280668411815073\n",
            "\n",
            "Test MSE: \n",
            "0.4438529776433877\n"
          ],
          "name": "stdout"
        }
      ]
    },
    {
      "cell_type": "code",
      "metadata": {
        "id": "_2PfS0ukjQ1J",
        "colab_type": "code",
        "colab": {
          "base_uri": "https://localhost:8080/",
          "height": 258
        },
        "outputId": "4ee08c1d-17d0-490f-c784-05b5307d1821"
      },
      "source": [
        "pred = []\n",
        "for elem in y_pred:\n",
        "  pred.append(int(round(elem)))\n",
        "print(classification_report(y_train,pred))\n",
        "print(confusion_matrix(y_train,pred))\n",
        "fpr,tpr,thresh = roc_curve(y_train,pred)\n",
        "roc_auc = auc(fpr,tpr)"
      ],
      "execution_count": 26,
      "outputs": [
        {
          "output_type": "stream",
          "text": [
            "              precision    recall  f1-score   support\n",
            "\n",
            "           0       0.73      1.00      0.84     26253\n",
            "           1       0.00      0.00      0.00      9695\n",
            "\n",
            "    accuracy                           0.73     35948\n",
            "   macro avg       0.37      0.50      0.42     35948\n",
            "weighted avg       0.53      0.73      0.62     35948\n",
            "\n",
            "[[26253     0]\n",
            " [ 9695     0]]\n"
          ],
          "name": "stdout"
        },
        {
          "output_type": "stream",
          "text": [
            "/usr/local/lib/python3.6/dist-packages/sklearn/metrics/_classification.py:1272: UndefinedMetricWarning: Precision and F-score are ill-defined and being set to 0.0 in labels with no predicted samples. Use `zero_division` parameter to control this behavior.\n",
            "  _warn_prf(average, modifier, msg_start, len(result))\n"
          ],
          "name": "stderr"
        }
      ]
    },
    {
      "cell_type": "code",
      "metadata": {
        "id": "r9_B27t_jQ6B",
        "colab_type": "code",
        "colab": {
          "base_uri": "https://localhost:8080/",
          "height": 283
        },
        "outputId": "332118aa-80e1-46d6-f05f-2df44d6e9e13"
      },
      "source": [
        "plt.plot(fpr, tpr, 'b', label = 'AUC = %0.2f' % roc_auc)\n",
        "plt.legend(loc = 'lower right')\n",
        "plt.plot([0, 1], [0, 1],'r--')\n",
        "plt.xlim([0, 1])\n",
        "plt.ylim([0, 1])\n",
        "plt.ylabel('True Positive Rate')\n",
        "plt.xlabel('False Positive Rate')\n",
        "plt.show()"
      ],
      "execution_count": 27,
      "outputs": [
        {
          "output_type": "display_data",
          "data": {
            "image/png": "[encoded data removed]",
            "text/plain": [
              "<Figure size 432x288 with 1 Axes>"
            ]
          },
          "metadata": {
            "tags": [],
            "needs_background": "light"
          }
        }
      ]
    },
    {
      "cell_type": "code",
      "metadata": {
        "id": "mJPPLiAKjQ-p",
        "colab_type": "code",
        "colab": {
          "base_uri": "https://localhost:8080/",
          "height": 258
        },
        "outputId": "8a0f05fd-b099-4e3e-9c4a-92beb117bcdb"
      },
      "source": [
        "pred = []\n",
        "for elem in y_pred2:\n",
        "  pred.append(int(round(elem)))\n",
        "print(classification_report(y_test,pred))\n",
        "print(confusion_matrix(y_test,pred))\n",
        "fpr,tpr,thresh = roc_curve(y_test,pred)\n",
        "roc_auc = auc(fpr,tpr)"
      ],
      "execution_count": 28,
      "outputs": [
        {
          "output_type": "stream",
          "text": [
            "              precision    recall  f1-score   support\n",
            "\n",
            "           0       0.73      1.00      0.84      6543\n",
            "           1       0.00      0.00      0.00      2445\n",
            "\n",
            "    accuracy                           0.73      8988\n",
            "   macro avg       0.36      0.50      0.42      8988\n",
            "weighted avg       0.53      0.73      0.61      8988\n",
            "\n",
            "[[6543    0]\n",
            " [2445    0]]\n"
          ],
          "name": "stdout"
        },
        {
          "output_type": "stream",
          "text": [
            "/usr/local/lib/python3.6/dist-packages/sklearn/metrics/_classification.py:1272: UndefinedMetricWarning: Precision and F-score are ill-defined and being set to 0.0 in labels with no predicted samples. Use `zero_division` parameter to control this behavior.\n",
            "  _warn_prf(average, modifier, msg_start, len(result))\n"
          ],
          "name": "stderr"
        }
      ]
    },
    {
      "cell_type": "code",
      "metadata": {
        "id": "4ZDdhrEEjRDn",
        "colab_type": "code",
        "colab": {
          "base_uri": "https://localhost:8080/",
          "height": 283
        },
        "outputId": "a9c0f4a5-8bb8-4a92-e851-4a1bed7d0aaf"
      },
      "source": [
        "plt.plot(fpr, tpr, 'b', label = 'AUC = %0.2f' % roc_auc)\n",
        "plt.legend(loc = 'lower right')\n",
        "plt.plot([0, 1], [0, 1],'r--')\n",
        "plt.xlim([0, 1])\n",
        "plt.ylim([0, 1])\n",
        "plt.ylabel('True Positive Rate')\n",
        "plt.xlabel('False Positive Rate')\n",
        "plt.show()"
      ],
      "execution_count": 29,
      "outputs": [
        {
          "output_type": "display_data",
          "data": {
            "image/png": "[encoded data removed]",
            "text/plain": [
              "<Figure size 432x288 with 1 Axes>"
            ]
          },
          "metadata": {
            "tags": [],
            "needs_background": "light"
          }
        }
      ]
    },
    {
      "cell_type": "code",
      "metadata": {
        "id": "IadrrMWiDM8T",
        "colab_type": "code",
        "colab": {
          "base_uri": "https://localhost:8080/",
          "height": 153
        },
        "outputId": "5c24877d-b71e-45ef-9b9a-5a8aea8508e9"
      },
      "source": [
        "y_columns = \"threat\"\n",
        "y = train[y_columns]\n",
        "x_train, x_test, y_train, y_test = train_test_split(x, y, train_size=0.8, random_state=300)\n",
        "x_train = x_train.reshape(-1,1)\n",
        "LIN = LinearRegression()\n",
        "LIN.fit(x_train, y_train)\n",
        "x_test = x_test.reshape(-1,1)\n",
        "y_pred = LIN.predict(x_train)\n",
        "y_pred2 = LIN.predict(x_test)\n",
        "print(\"Train MAE: \")\n",
        "print(metrics.mean_absolute_error(y_train,y_pred))\n",
        "print()\n",
        "print(\"Test MAE: \")\n",
        "print(metrics.mean_absolute_error(y_test,y_pred2))\n",
        "print()\n",
        "print(\"Test MSE: \")\n",
        "print(np.sqrt(metrics.mean_squared_error(y_test,y_pred2)))"
      ],
      "execution_count": 30,
      "outputs": [
        {
          "output_type": "stream",
          "text": [
            "Train MAE: \n",
            "0.03163921063348258\n",
            "\n",
            "Test MAE: \n",
            "0.028033176189439814\n",
            "\n",
            "Test MSE: \n",
            "0.11052107312298556\n"
          ],
          "name": "stdout"
        }
      ]
    },
    {
      "cell_type": "code",
      "metadata": {
        "id": "jIso3lbzjH2u",
        "colab_type": "code",
        "colab": {
          "base_uri": "https://localhost:8080/",
          "height": 258
        },
        "outputId": "20e76e98-0d34-420c-f414-87e16d6330a3"
      },
      "source": [
        "pred = []\n",
        "for elem in y_pred:\n",
        "  pred.append(int(round(elem)))\n",
        "print(classification_report(y_train,pred))\n",
        "print(confusion_matrix(y_train,pred))\n",
        "fpr,tpr,thresh = roc_curve(y_train,pred)\n",
        "roc_auc = auc(fpr,tpr)"
      ],
      "execution_count": 31,
      "outputs": [
        {
          "output_type": "stream",
          "text": [
            "              precision    recall  f1-score   support\n",
            "\n",
            "           0       0.98      1.00      0.99     35370\n",
            "           1       0.00      0.00      0.00       578\n",
            "\n",
            "    accuracy                           0.98     35948\n",
            "   macro avg       0.49      0.50      0.50     35948\n",
            "weighted avg       0.97      0.98      0.98     35948\n",
            "\n",
            "[[35370     0]\n",
            " [  578     0]]\n"
          ],
          "name": "stdout"
        },
        {
          "output_type": "stream",
          "text": [
            "/usr/local/lib/python3.6/dist-packages/sklearn/metrics/_classification.py:1272: UndefinedMetricWarning: Precision and F-score are ill-defined and being set to 0.0 in labels with no predicted samples. Use `zero_division` parameter to control this behavior.\n",
            "  _warn_prf(average, modifier, msg_start, len(result))\n"
          ],
          "name": "stderr"
        }
      ]
    },
    {
      "cell_type": "code",
      "metadata": {
        "id": "12Rhx79ujH7B",
        "colab_type": "code",
        "colab": {
          "base_uri": "https://localhost:8080/",
          "height": 283
        },
        "outputId": "21efc3e3-1113-4ada-ee6f-631263d25a47"
      },
      "source": [
        "plt.plot(fpr, tpr, 'b', label = 'AUC = %0.2f' % roc_auc)\n",
        "plt.legend(loc = 'lower right')\n",
        "plt.plot([0, 1], [0, 1],'r--')\n",
        "plt.xlim([0, 1])\n",
        "plt.ylim([0, 1])\n",
        "plt.ylabel('True Positive Rate')\n",
        "plt.xlabel('False Positive Rate')\n",
        "plt.show()"
      ],
      "execution_count": 32,
      "outputs": [
        {
          "output_type": "display_data",
          "data": {
            "image/png": "[encoded data removed]",
            "text/plain": [
              "<Figure size 432x288 with 1 Axes>"
            ]
          },
          "metadata": {
            "tags": [],
            "needs_background": "light"
          }
        }
      ]
    },
    {
      "cell_type": "code",
      "metadata": {
        "id": "C34e5oVsjIBe",
        "colab_type": "code",
        "colab": {
          "base_uri": "https://localhost:8080/",
          "height": 258
        },
        "outputId": "3e31f45f-d1b4-411b-83a8-10638c2c0578"
      },
      "source": [
        "pred = []\n",
        "for elem in y_pred2:\n",
        "  pred.append(int(round(elem)))\n",
        "print(classification_report(y_test,pred))\n",
        "print(confusion_matrix(y_test,pred))\n",
        "fpr,tpr,thresh = roc_curve(y_test,pred)\n",
        "roc_auc = auc(fpr,tpr)"
      ],
      "execution_count": 33,
      "outputs": [
        {
          "output_type": "stream",
          "text": [
            "              precision    recall  f1-score   support\n",
            "\n",
            "           0       0.99      1.00      0.99      8877\n",
            "           1       0.00      0.00      0.00       111\n",
            "\n",
            "    accuracy                           0.99      8988\n",
            "   macro avg       0.49      0.50      0.50      8988\n",
            "weighted avg       0.98      0.99      0.98      8988\n",
            "\n",
            "[[8877    0]\n",
            " [ 111    0]]\n"
          ],
          "name": "stdout"
        },
        {
          "output_type": "stream",
          "text": [
            "/usr/local/lib/python3.6/dist-packages/sklearn/metrics/_classification.py:1272: UndefinedMetricWarning: Precision and F-score are ill-defined and being set to 0.0 in labels with no predicted samples. Use `zero_division` parameter to control this behavior.\n",
            "  _warn_prf(average, modifier, msg_start, len(result))\n"
          ],
          "name": "stderr"
        }
      ]
    },
    {
      "cell_type": "code",
      "metadata": {
        "id": "6aO_aGCwjIG5",
        "colab_type": "code",
        "colab": {
          "base_uri": "https://localhost:8080/",
          "height": 283
        },
        "outputId": "6c8e0412-4b91-4fa5-bc2d-5938be39a1b6"
      },
      "source": [
        "plt.plot(fpr, tpr, 'b', label = 'AUC = %0.2f' % roc_auc)\n",
        "plt.legend(loc = 'lower right')\n",
        "plt.plot([0, 1], [0, 1],'r--')\n",
        "plt.xlim([0, 1])\n",
        "plt.ylim([0, 1])\n",
        "plt.ylabel('True Positive Rate')\n",
        "plt.xlabel('False Positive Rate')\n",
        "plt.show()"
      ],
      "execution_count": 34,
      "outputs": [
        {
          "output_type": "display_data",
          "data": {
            "image/png": "[encoded data removed]",
            "text/plain": [
              "<Figure size 432x288 with 1 Axes>"
            ]
          },
          "metadata": {
            "tags": [],
            "needs_background": "light"
          }
        }
      ]
    },
    {
      "cell_type": "code",
      "metadata": {
        "id": "rGG2ijLXDSJx",
        "colab_type": "code",
        "colab": {
          "base_uri": "https://localhost:8080/",
          "height": 153
        },
        "outputId": "2c3d3bfb-e47d-4dd5-abaa-6170771e493a"
      },
      "source": [
        "y_columns = \"insult\"\n",
        "y = train[y_columns]\n",
        "x_train, x_test, y_train, y_test = train_test_split(x, y, train_size=0.8, random_state=300)\n",
        "x_train = x_train.reshape(-1,1)\n",
        "LIN = LinearRegression()\n",
        "LIN.fit(x_train, y_train)\n",
        "x_test = x_test.reshape(-1,1)\n",
        "y_pred = LIN.predict(x_train)\n",
        "y_pred2 = LIN.predict(x_test)\n",
        "print(\"Train MAE: \")\n",
        "print(metrics.mean_absolute_error(y_train,y_pred))\n",
        "print()\n",
        "print(\"Test MAE: \")\n",
        "print(metrics.mean_absolute_error(y_test,y_pred2))\n",
        "print()\n",
        "print(\"Test MSE: \")\n",
        "print(np.sqrt(metrics.mean_squared_error(y_test,y_pred2)))"
      ],
      "execution_count": 35,
      "outputs": [
        {
          "output_type": "stream",
          "text": [
            "Train MAE: \n",
            "0.3735334808412247\n",
            "\n",
            "Test MAE: \n",
            "0.3741772177094136\n",
            "\n",
            "Test MSE: \n",
            "0.4329279619298365\n"
          ],
          "name": "stdout"
        }
      ]
    },
    {
      "cell_type": "code",
      "metadata": {
        "id": "NESLRUXUjgts",
        "colab_type": "code",
        "colab": {
          "base_uri": "https://localhost:8080/",
          "height": 258
        },
        "outputId": "7dfc37b6-8f68-417f-a0e7-b6e0268cf747"
      },
      "source": [
        "pred = []\n",
        "for elem in y_pred:\n",
        "  pred.append(int(round(elem)))\n",
        "print(classification_report(y_train,pred))\n",
        "print(confusion_matrix(y_train,pred))\n",
        "fpr,tpr,thresh = roc_curve(y_train,pred)\n",
        "roc_auc = auc(fpr,tpr)"
      ],
      "execution_count": 36,
      "outputs": [
        {
          "output_type": "stream",
          "text": [
            "              precision    recall  f1-score   support\n",
            "\n",
            "           0       0.75      1.00      0.86     26916\n",
            "           1       0.00      0.00      0.00      9032\n",
            "\n",
            "    accuracy                           0.75     35948\n",
            "   macro avg       0.37      0.50      0.43     35948\n",
            "weighted avg       0.56      0.75      0.64     35948\n",
            "\n",
            "[[26916     0]\n",
            " [ 9032     0]]\n"
          ],
          "name": "stdout"
        },
        {
          "output_type": "stream",
          "text": [
            "/usr/local/lib/python3.6/dist-packages/sklearn/metrics/_classification.py:1272: UndefinedMetricWarning: Precision and F-score are ill-defined and being set to 0.0 in labels with no predicted samples. Use `zero_division` parameter to control this behavior.\n",
            "  _warn_prf(average, modifier, msg_start, len(result))\n"
          ],
          "name": "stderr"
        }
      ]
    },
    {
      "cell_type": "code",
      "metadata": {
        "id": "SSnmyrnXjgyg",
        "colab_type": "code",
        "colab": {
          "base_uri": "https://localhost:8080/",
          "height": 283
        },
        "outputId": "8439ad1b-709e-4cdc-ae0a-0c4d6f2cfef0"
      },
      "source": [
        "plt.plot(fpr, tpr, 'b', label = 'AUC = %0.2f' % roc_auc)\n",
        "plt.legend(loc = 'lower right')\n",
        "plt.plot([0, 1], [0, 1],'r--')\n",
        "plt.xlim([0, 1])\n",
        "plt.ylim([0, 1])\n",
        "plt.ylabel('True Positive Rate')\n",
        "plt.xlabel('False Positive Rate')\n",
        "plt.show()"
      ],
      "execution_count": 37,
      "outputs": [
        {
          "output_type": "display_data",
          "data": {
            "image/png": "[encoded data removed]",
            "text/plain": [
              "<Figure size 432x288 with 1 Axes>"
            ]
          },
          "metadata": {
            "tags": [],
            "needs_background": "light"
          }
        }
      ]
    },
    {
      "cell_type": "code",
      "metadata": {
        "id": "mLi5zZUZjg27",
        "colab_type": "code",
        "colab": {
          "base_uri": "https://localhost:8080/",
          "height": 258
        },
        "outputId": "c986203f-cbbf-4560-f653-695690e7a4ef"
      },
      "source": [
        "pred = []\n",
        "for elem in y_pred2:\n",
        "  pred.append(int(round(elem)))\n",
        "print(classification_report(y_test,pred))\n",
        "print(confusion_matrix(y_test,pred))\n",
        "fpr,tpr,thresh = roc_curve(y_test,pred)\n",
        "roc_auc = auc(fpr,tpr)"
      ],
      "execution_count": 38,
      "outputs": [
        {
          "output_type": "stream",
          "text": [
            "              precision    recall  f1-score   support\n",
            "\n",
            "           0       0.75      1.00      0.86      6716\n",
            "           1       0.00      0.00      0.00      2272\n",
            "\n",
            "    accuracy                           0.75      8988\n",
            "   macro avg       0.37      0.50      0.43      8988\n",
            "weighted avg       0.56      0.75      0.64      8988\n",
            "\n",
            "[[6716    0]\n",
            " [2272    0]]\n"
          ],
          "name": "stdout"
        },
        {
          "output_type": "stream",
          "text": [
            "/usr/local/lib/python3.6/dist-packages/sklearn/metrics/_classification.py:1272: UndefinedMetricWarning: Precision and F-score are ill-defined and being set to 0.0 in labels with no predicted samples. Use `zero_division` parameter to control this behavior.\n",
            "  _warn_prf(average, modifier, msg_start, len(result))\n"
          ],
          "name": "stderr"
        }
      ]
    },
    {
      "cell_type": "code",
      "metadata": {
        "id": "pvwzBZhdjg7x",
        "colab_type": "code",
        "colab": {
          "base_uri": "https://localhost:8080/",
          "height": 283
        },
        "outputId": "289ff493-0858-4d34-c619-a79ae9fe5be7"
      },
      "source": [
        "plt.plot(fpr, tpr, 'b', label = 'AUC = %0.2f' % roc_auc)\n",
        "plt.legend(loc = 'lower right')\n",
        "plt.plot([0, 1], [0, 1],'r--')\n",
        "plt.xlim([0, 1])\n",
        "plt.ylim([0, 1])\n",
        "plt.ylabel('True Positive Rate')\n",
        "plt.xlabel('False Positive Rate')\n",
        "plt.show()"
      ],
      "execution_count": 39,
      "outputs": [
        {
          "output_type": "display_data",
          "data": {
            "image/png": "[encoded data removed]",
            "text/plain": [
              "<Figure size 432x288 with 1 Axes>"
            ]
          },
          "metadata": {
            "tags": [],
            "needs_background": "light"
          }
        }
      ]
    },
    {
      "cell_type": "code",
      "metadata": {
        "id": "XQuGF0r1DTnE",
        "colab_type": "code",
        "colab": {
          "base_uri": "https://localhost:8080/",
          "height": 153
        },
        "outputId": "ffc4df18-49b2-4806-8e8a-5d30b1487786"
      },
      "source": [
        "y_columns = \"identity_hate\"\n",
        "y = train[y_columns]\n",
        "x_train, x_test, y_train, y_test = train_test_split(x, y, train_size=0.8, random_state=300)\n",
        "x_train = x_train.reshape(-1,1)\n",
        "LIN = LinearRegression()\n",
        "LIN.fit(x_train, y_train)\n",
        "x_test = x_test.reshape(-1,1)\n",
        "y_pred = LIN.predict(x_train)\n",
        "y_pred2 = LIN.predict(x_test)\n",
        "print(\"Train MAE: \")\n",
        "print(metrics.mean_absolute_error(y_train,y_pred))\n",
        "print()\n",
        "print(\"Test MAE: \")\n",
        "print(metrics.mean_absolute_error(y_test,y_pred2))\n",
        "print()\n",
        "print(\"Test MSE: \")\n",
        "print(np.sqrt(metrics.mean_squared_error(y_test,y_pred2)))"
      ],
      "execution_count": 40,
      "outputs": [
        {
          "output_type": "stream",
          "text": [
            "Train MAE: \n",
            "0.09006536586278747\n",
            "\n",
            "Test MAE: \n",
            "0.08911005389037088\n",
            "\n",
            "Test MSE: \n",
            "0.20997025143549028\n"
          ],
          "name": "stdout"
        }
      ]
    },
    {
      "cell_type": "code",
      "metadata": {
        "id": "mHri_iTEjpgL",
        "colab_type": "code",
        "colab": {
          "base_uri": "https://localhost:8080/",
          "height": 258
        },
        "outputId": "23137fc1-0154-4fa3-e3ea-fd0341fb156f"
      },
      "source": [
        "pred = []\n",
        "for elem in y_pred:\n",
        "  pred.append(int(round(elem)))\n",
        "print(classification_report(y_train,pred))\n",
        "print(confusion_matrix(y_train,pred))\n",
        "fpr,tpr,thresh = roc_curve(y_train,pred)\n",
        "roc_auc = auc(fpr,tpr)"
      ],
      "execution_count": 41,
      "outputs": [
        {
          "output_type": "stream",
          "text": [
            "              precision    recall  f1-score   support\n",
            "\n",
            "           0       0.95      1.00      0.98     34247\n",
            "           1       0.00      0.00      0.00      1701\n",
            "\n",
            "    accuracy                           0.95     35948\n",
            "   macro avg       0.48      0.50      0.49     35948\n",
            "weighted avg       0.91      0.95      0.93     35948\n",
            "\n",
            "[[34247     0]\n",
            " [ 1701     0]]\n"
          ],
          "name": "stdout"
        },
        {
          "output_type": "stream",
          "text": [
            "/usr/local/lib/python3.6/dist-packages/sklearn/metrics/_classification.py:1272: UndefinedMetricWarning: Precision and F-score are ill-defined and being set to 0.0 in labels with no predicted samples. Use `zero_division` parameter to control this behavior.\n",
            "  _warn_prf(average, modifier, msg_start, len(result))\n"
          ],
          "name": "stderr"
        }
      ]
    },
    {
      "cell_type": "code",
      "metadata": {
        "id": "rwC79K9_jplq",
        "colab_type": "code",
        "colab": {
          "base_uri": "https://localhost:8080/",
          "height": 283
        },
        "outputId": "2edd6d85-fe40-4d8f-92a3-6ba2e063251e"
      },
      "source": [
        "plt.plot(fpr, tpr, 'b', label = 'AUC = %0.2f' % roc_auc)\n",
        "plt.legend(loc = 'lower right')\n",
        "plt.plot([0, 1], [0, 1],'r--')\n",
        "plt.xlim([0, 1])\n",
        "plt.ylim([0, 1])\n",
        "plt.ylabel('True Positive Rate')\n",
        "plt.xlabel('False Positive Rate')\n",
        "plt.show()"
      ],
      "execution_count": 42,
      "outputs": [
        {
          "output_type": "display_data",
          "data": {
            "image/png": "[encoded data removed]",
            "text/plain": [
              "<Figure size 432x288 with 1 Axes>"
            ]
          },
          "metadata": {
            "tags": [],
            "needs_background": "light"
          }
        }
      ]
    },
    {
      "cell_type": "code",
      "metadata": {
        "id": "DH0t5fGhjpqf",
        "colab_type": "code",
        "colab": {
          "base_uri": "https://localhost:8080/",
          "height": 258
        },
        "outputId": "36be9800-7668-4daa-b45b-0ebdad70887b"
      },
      "source": [
        "pred = []\n",
        "for elem in y_pred2:\n",
        "  pred.append(int(round(elem)))\n",
        "print(classification_report(y_test,pred))\n",
        "print(confusion_matrix(y_test,pred))\n",
        "fpr,tpr,thresh = roc_curve(y_test,pred)\n",
        "roc_auc = auc(fpr,tpr)"
      ],
      "execution_count": 43,
      "outputs": [
        {
          "output_type": "stream",
          "text": [
            "              precision    recall  f1-score   support\n",
            "\n",
            "           0       0.95      1.00      0.98      8572\n",
            "           1       0.00      0.00      0.00       416\n",
            "\n",
            "    accuracy                           0.95      8988\n",
            "   macro avg       0.48      0.50      0.49      8988\n",
            "weighted avg       0.91      0.95      0.93      8988\n",
            "\n",
            "[[8572    0]\n",
            " [ 416    0]]\n"
          ],
          "name": "stdout"
        },
        {
          "output_type": "stream",
          "text": [
            "/usr/local/lib/python3.6/dist-packages/sklearn/metrics/_classification.py:1272: UndefinedMetricWarning: Precision and F-score are ill-defined and being set to 0.0 in labels with no predicted samples. Use `zero_division` parameter to control this behavior.\n",
            "  _warn_prf(average, modifier, msg_start, len(result))\n"
          ],
          "name": "stderr"
        }
      ]
    },
    {
      "cell_type": "code",
      "metadata": {
        "id": "PTsCbjGrjpuz",
        "colab_type": "code",
        "colab": {
          "base_uri": "https://localhost:8080/",
          "height": 283
        },
        "outputId": "fd17cea1-d48b-4c7d-f266-48132b22d130"
      },
      "source": [
        "plt.plot(fpr, tpr, 'b', label = 'AUC = %0.2f' % roc_auc)\n",
        "plt.legend(loc = 'lower right')\n",
        "plt.plot([0, 1], [0, 1],'r--')\n",
        "plt.xlim([0, 1])\n",
        "plt.ylim([0, 1])\n",
        "plt.ylabel('True Positive Rate')\n",
        "plt.xlabel('False Positive Rate')\n",
        "plt.show()"
      ],
      "execution_count": 44,
      "outputs": [
        {
          "output_type": "display_data",
          "data": {
            "image/png": "[encoded data removed]",
            "text/plain": [
              "<Figure size 432x288 with 1 Axes>"
            ]
          },
          "metadata": {
            "tags": [],
            "needs_background": "light"
          }
        }
      ]
    },
    {
      "cell_type": "code",
      "metadata": {
        "id": "G4fk_baY3t7y",
        "colab_type": "code",
        "colab": {
          "base_uri": "https://localhost:8080/",
          "height": 419
        },
        "outputId": "4f4c48aa-ae5f-437b-b40e-d3f6ad52b944"
      },
      "source": [
        "train"
      ],
      "execution_count": 45,
      "outputs": [
        {
          "output_type": "execute_result",
          "data": {
            "text/html": [
              "<div>\n",
              "<style scoped>\n",
              "    .dataframe tbody tr th:only-of-type {\n",
              "        vertical-align: middle;\n",
              "    }\n",
              "\n",
              "    .dataframe tbody tr th {\n",
              "        vertical-align: top;\n",
              "    }\n",
              "\n",
              "    .dataframe thead th {\n",
              "        text-align: right;\n",
              "    }\n",
              "</style>\n",
              "<table border=\"1\" class=\"dataframe\">\n",
              "  <thead>\n",
              "    <tr style=\"text-align: right;\">\n",
              "      <th></th>\n",
              "      <th>Unnamed: 0</th>\n",
              "      <th>id</th>\n",
              "      <th>comment_text</th>\n",
              "      <th>toxic</th>\n",
              "      <th>severe_toxic</th>\n",
              "      <th>obscene</th>\n",
              "      <th>threat</th>\n",
              "      <th>insult</th>\n",
              "      <th>identity_hate</th>\n",
              "      <th>sum</th>\n",
              "    </tr>\n",
              "  </thead>\n",
              "  <tbody>\n",
              "    <tr>\n",
              "      <th>0</th>\n",
              "      <td>43346</td>\n",
              "      <td>73b77bbc3fd5f2e6</td>\n",
              "      <td>listas Henke Brad William</td>\n",
              "      <td>0</td>\n",
              "      <td>0</td>\n",
              "      <td>0</td>\n",
              "      <td>0</td>\n",
              "      <td>0</td>\n",
              "      <td>0</td>\n",
              "      <td>0</td>\n",
              "    </tr>\n",
              "    <tr>\n",
              "      <th>1</th>\n",
              "      <td>30221</td>\n",
              "      <td>503848e8a9f376fa</td>\n",
              "      <td>Good job Its now much better referenced I move...</td>\n",
              "      <td>0</td>\n",
              "      <td>0</td>\n",
              "      <td>0</td>\n",
              "      <td>0</td>\n",
              "      <td>0</td>\n",
              "      <td>0</td>\n",
              "      <td>0</td>\n",
              "    </tr>\n",
              "    <tr>\n",
              "      <th>2</th>\n",
              "      <td>198074</td>\n",
              "      <td>999f2b6f546d0199</td>\n",
              "      <td>I swear I scoured the talk help pages for the ...</td>\n",
              "      <td>0</td>\n",
              "      <td>0</td>\n",
              "      <td>0</td>\n",
              "      <td>0</td>\n",
              "      <td>0</td>\n",
              "      <td>0</td>\n",
              "      <td>0</td>\n",
              "    </tr>\n",
              "    <tr>\n",
              "      <th>3</th>\n",
              "      <td>40765</td>\n",
              "      <td>6ccc5301a9e456da</td>\n",
              "      <td>Tax Document from Vector Marketing Hi 72Dino I...</td>\n",
              "      <td>0</td>\n",
              "      <td>0</td>\n",
              "      <td>0</td>\n",
              "      <td>0</td>\n",
              "      <td>0</td>\n",
              "      <td>0</td>\n",
              "      <td>0</td>\n",
              "    </tr>\n",
              "    <tr>\n",
              "      <th>4</th>\n",
              "      <td>147574</td>\n",
              "      <td>3ebba7ac63bb771e</td>\n",
              "      <td>Time to unprotect Banjo Paterson Its been thre...</td>\n",
              "      <td>0</td>\n",
              "      <td>0</td>\n",
              "      <td>0</td>\n",
              "      <td>0</td>\n",
              "      <td>0</td>\n",
              "      <td>0</td>\n",
              "      <td>0</td>\n",
              "    </tr>\n",
              "    <tr>\n",
              "      <th>...</th>\n",
              "      <td>...</td>\n",
              "      <td>...</td>\n",
              "      <td>...</td>\n",
              "      <td>...</td>\n",
              "      <td>...</td>\n",
              "      <td>...</td>\n",
              "      <td>...</td>\n",
              "      <td>...</td>\n",
              "      <td>...</td>\n",
              "      <td>...</td>\n",
              "    </tr>\n",
              "    <tr>\n",
              "      <th>44931</th>\n",
              "      <td>123780</td>\n",
              "      <td>9622c82f97eb26cd</td>\n",
              "      <td>She is a Motherfucker I will block you Motherf...</td>\n",
              "      <td>1</td>\n",
              "      <td>1</td>\n",
              "      <td>1</td>\n",
              "      <td>1</td>\n",
              "      <td>1</td>\n",
              "      <td>1</td>\n",
              "      <td>6</td>\n",
              "    </tr>\n",
              "    <tr>\n",
              "      <th>44932</th>\n",
              "      <td>29966</td>\n",
              "      <td>4f95394c7229f84c</td>\n",
              "      <td>u motherfukkin bitch i want to rape you smelly...</td>\n",
              "      <td>1</td>\n",
              "      <td>1</td>\n",
              "      <td>1</td>\n",
              "      <td>1</td>\n",
              "      <td>1</td>\n",
              "      <td>1</td>\n",
              "      <td>6</td>\n",
              "    </tr>\n",
              "    <tr>\n",
              "      <th>44933</th>\n",
              "      <td>38576</td>\n",
              "      <td>66f0a9006c188820</td>\n",
              "      <td>fuck you honkey why you hatin on blacks You fu...</td>\n",
              "      <td>1</td>\n",
              "      <td>1</td>\n",
              "      <td>1</td>\n",
              "      <td>1</td>\n",
              "      <td>1</td>\n",
              "      <td>1</td>\n",
              "      <td>6</td>\n",
              "    </tr>\n",
              "    <tr>\n",
              "      <th>44934</th>\n",
              "      <td>67240</td>\n",
              "      <td>b3e7b8a6ea14ddc5</td>\n",
              "      <td>YOURE A FRREAKING JEW AND PLEAZE COMMIT SUICIDE</td>\n",
              "      <td>1</td>\n",
              "      <td>1</td>\n",
              "      <td>1</td>\n",
              "      <td>1</td>\n",
              "      <td>1</td>\n",
              "      <td>1</td>\n",
              "      <td>6</td>\n",
              "    </tr>\n",
              "    <tr>\n",
              "      <th>44935</th>\n",
              "      <td>208326</td>\n",
              "      <td>c26941cbaad63533</td>\n",
              "      <td>Oi dickhead you call Straight Edge Gay or reta...</td>\n",
              "      <td>1</td>\n",
              "      <td>1</td>\n",
              "      <td>1</td>\n",
              "      <td>1</td>\n",
              "      <td>1</td>\n",
              "      <td>1</td>\n",
              "      <td>6</td>\n",
              "    </tr>\n",
              "  </tbody>\n",
              "</table>\n",
              "<p>44936 rows × 10 columns</p>\n",
              "</div>"
            ],
            "text/plain": [
              "       Unnamed: 0                id  ... identity_hate  sum\n",
              "0           43346  73b77bbc3fd5f2e6  ...             0    0\n",
              "1           30221  503848e8a9f376fa  ...             0    0\n",
              "2          198074  999f2b6f546d0199  ...             0    0\n",
              "3           40765  6ccc5301a9e456da  ...             0    0\n",
              "4          147574  3ebba7ac63bb771e  ...             0    0\n",
              "...           ...               ...  ...           ...  ...\n",
              "44931      123780  9622c82f97eb26cd  ...             1    6\n",
              "44932       29966  4f95394c7229f84c  ...             1    6\n",
              "44933       38576  66f0a9006c188820  ...             1    6\n",
              "44934       67240  b3e7b8a6ea14ddc5  ...             1    6\n",
              "44935      208326  c26941cbaad63533  ...             1    6\n",
              "\n",
              "[44936 rows x 10 columns]"
            ]
          },
          "metadata": {
            "tags": []
          },
          "execution_count": 45
        }
      ]
    },
    {
      "cell_type": "code",
      "metadata": {
        "id": "tOuvHl0y3vMG",
        "colab_type": "code",
        "colab": {
          "base_uri": "https://localhost:8080/",
          "height": 419
        },
        "outputId": "2d1efa61-6f5c-4ee3-9449-e576c1448d26"
      },
      "source": [
        "train['comment_text'] = cz\n",
        "train"
      ],
      "execution_count": null,
      "outputs": [
        {
          "output_type": "execute_result",
          "data": {
            "text/html": [
              "<div>\n",
              "<style scoped>\n",
              "    .dataframe tbody tr th:only-of-type {\n",
              "        vertical-align: middle;\n",
              "    }\n",
              "\n",
              "    .dataframe tbody tr th {\n",
              "        vertical-align: top;\n",
              "    }\n",
              "\n",
              "    .dataframe thead th {\n",
              "        text-align: right;\n",
              "    }\n",
              "</style>\n",
              "<table border=\"1\" class=\"dataframe\">\n",
              "  <thead>\n",
              "    <tr style=\"text-align: right;\">\n",
              "      <th></th>\n",
              "      <th>id</th>\n",
              "      <th>comment_text</th>\n",
              "      <th>toxic</th>\n",
              "      <th>severe_toxic</th>\n",
              "      <th>obscene</th>\n",
              "      <th>threat</th>\n",
              "      <th>insult</th>\n",
              "      <th>identity_hate</th>\n",
              "    </tr>\n",
              "  </thead>\n",
              "  <tbody>\n",
              "    <tr>\n",
              "      <th>0</th>\n",
              "      <td>0000997932d777bf</td>\n",
              "      <td>101456</td>\n",
              "      <td>0</td>\n",
              "      <td>0</td>\n",
              "      <td>0</td>\n",
              "      <td>0</td>\n",
              "      <td>0</td>\n",
              "      <td>0</td>\n",
              "    </tr>\n",
              "    <tr>\n",
              "      <th>1</th>\n",
              "      <td>000103f0d9cfb60f</td>\n",
              "      <td>96303</td>\n",
              "      <td>0</td>\n",
              "      <td>0</td>\n",
              "      <td>0</td>\n",
              "      <td>0</td>\n",
              "      <td>0</td>\n",
              "      <td>0</td>\n",
              "    </tr>\n",
              "    <tr>\n",
              "      <th>2</th>\n",
              "      <td>000113f07ec002fd</td>\n",
              "      <td>110961</td>\n",
              "      <td>0</td>\n",
              "      <td>0</td>\n",
              "      <td>0</td>\n",
              "      <td>0</td>\n",
              "      <td>0</td>\n",
              "      <td>0</td>\n",
              "    </tr>\n",
              "    <tr>\n",
              "      <th>3</th>\n",
              "      <td>0001b41b1c6bb37e</td>\n",
              "      <td>36656</td>\n",
              "      <td>0</td>\n",
              "      <td>0</td>\n",
              "      <td>0</td>\n",
              "      <td>0</td>\n",
              "      <td>0</td>\n",
              "      <td>0</td>\n",
              "    </tr>\n",
              "    <tr>\n",
              "      <th>4</th>\n",
              "      <td>0001d958c54c6e35</td>\n",
              "      <td>202984</td>\n",
              "      <td>0</td>\n",
              "      <td>0</td>\n",
              "      <td>0</td>\n",
              "      <td>0</td>\n",
              "      <td>0</td>\n",
              "      <td>0</td>\n",
              "    </tr>\n",
              "    <tr>\n",
              "      <th>...</th>\n",
              "      <td>...</td>\n",
              "      <td>...</td>\n",
              "      <td>...</td>\n",
              "      <td>...</td>\n",
              "      <td>...</td>\n",
              "      <td>...</td>\n",
              "      <td>...</td>\n",
              "      <td>...</td>\n",
              "    </tr>\n",
              "    <tr>\n",
              "      <th>223544</th>\n",
              "      <td>fff8f64043129fa2</td>\n",
              "      <td>136111</td>\n",
              "      <td>0</td>\n",
              "      <td>0</td>\n",
              "      <td>0</td>\n",
              "      <td>0</td>\n",
              "      <td>0</td>\n",
              "      <td>0</td>\n",
              "    </tr>\n",
              "    <tr>\n",
              "      <th>223545</th>\n",
              "      <td>fff9d70fe0722906</td>\n",
              "      <td>140114</td>\n",
              "      <td>0</td>\n",
              "      <td>0</td>\n",
              "      <td>0</td>\n",
              "      <td>0</td>\n",
              "      <td>0</td>\n",
              "      <td>0</td>\n",
              "    </tr>\n",
              "    <tr>\n",
              "      <th>223546</th>\n",
              "      <td>fffa8a11c4378854</td>\n",
              "      <td>216907</td>\n",
              "      <td>0</td>\n",
              "      <td>0</td>\n",
              "      <td>0</td>\n",
              "      <td>0</td>\n",
              "      <td>0</td>\n",
              "      <td>0</td>\n",
              "    </tr>\n",
              "    <tr>\n",
              "      <th>223547</th>\n",
              "      <td>fffac2a094c8e0e2</td>\n",
              "      <td>140258</td>\n",
              "      <td>1</td>\n",
              "      <td>0</td>\n",
              "      <td>1</td>\n",
              "      <td>0</td>\n",
              "      <td>1</td>\n",
              "      <td>0</td>\n",
              "    </tr>\n",
              "    <tr>\n",
              "      <th>223548</th>\n",
              "      <td>fffb5451268fb5ba</td>\n",
              "      <td>61841</td>\n",
              "      <td>0</td>\n",
              "      <td>0</td>\n",
              "      <td>0</td>\n",
              "      <td>0</td>\n",
              "      <td>0</td>\n",
              "      <td>0</td>\n",
              "    </tr>\n",
              "  </tbody>\n",
              "</table>\n",
              "<p>223534 rows × 8 columns</p>\n",
              "</div>"
            ],
            "text/plain": [
              "                      id  comment_text  toxic  ...  threat  insult  identity_hate\n",
              "0       0000997932d777bf        101456      0  ...       0       0              0\n",
              "1       000103f0d9cfb60f         96303      0  ...       0       0              0\n",
              "2       000113f07ec002fd        110961      0  ...       0       0              0\n",
              "3       0001b41b1c6bb37e         36656      0  ...       0       0              0\n",
              "4       0001d958c54c6e35        202984      0  ...       0       0              0\n",
              "...                  ...           ...    ...  ...     ...     ...            ...\n",
              "223544  fff8f64043129fa2        136111      0  ...       0       0              0\n",
              "223545  fff9d70fe0722906        140114      0  ...       0       0              0\n",
              "223546  fffa8a11c4378854        216907      0  ...       0       0              0\n",
              "223547  fffac2a094c8e0e2        140258      1  ...       0       1              0\n",
              "223548  fffb5451268fb5ba         61841      0  ...       0       0              0\n",
              "\n",
              "[223534 rows x 8 columns]"
            ]
          },
          "metadata": {
            "tags": []
          },
          "execution_count": 8
        }
      ]
    },
    {
      "cell_type": "code",
      "metadata": {
        "id": "7oK4MDvMCFEl",
        "colab_type": "code",
        "colab": {
          "base_uri": "https://localhost:8080/",
          "height": 623
        },
        "outputId": "4983ffb0-487e-4bbe-da01-0afd1229f97b"
      },
      "source": [
        "import matplotlib.pyplot as plt\n",
        "import seaborn as sns\n",
        "fig, axs = plt.subplots(2, 3, figsize=(20,10))\n",
        "# sns.set(style=\"darkgrid\")\n",
        "sns.countplot(train['toxic'],ax=axs[0,0])\n",
        "sns.countplot(train['severe_toxic'],ax=axs[0,1])\n",
        "sns.countplot(train['obscene'],ax=axs[0,2])\n",
        "sns.countplot(train['threat'], ax = axs[1,0])\n",
        "sns.countplot(train['insult'], ax=axs[1,1])\n",
        "sns.countplot(train['identity_hate'],  ax = axs[1,2])"
      ],
      "execution_count": 50,
      "outputs": [
        {
          "output_type": "execute_result",
          "data": {
            "text/plain": [
              "<matplotlib.axes._subplots.AxesSubplot at 0x7faf6905acf8>"
            ]
          },
          "metadata": {
            "tags": []
          },
          "execution_count": 50
        },
        {
          "output_type": "display_data",
          "data": {
            "image/png": "[encoded data removed]",
            "text/plain": [
              "<Figure size 1440x720 with 6 Axes>"
            ]
          },
          "metadata": {
            "tags": [],
            "needs_background": "light"
          }
        }
      ]
    }
  ]
}