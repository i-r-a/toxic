{
  "nbformat": 4,
  "nbformat_minor": 0,
  "metadata": {
    "colab": {
      "name": "toxicLinear.ipynb",
      "provenance": [],
      "collapsed_sections": [],
      "authorship_tag": "ABX9TyN2peC8L4djiQXofoOX4qpL",
      "include_colab_link": true
    },
    "kernelspec": {
      "name": "python3",
      "display_name": "Python 3"
    }
  },
  "cells": [
    {
      "cell_type": "markdown",
      "metadata": {
        "id": "view-in-github",
        "colab_type": "text"
      },
      "source": [
        "<a href=\"https://colab.research.google.com/github/i-r-a/toxic/blob/master/Linear.ipynb\" target=\"_parent\"><img src=\"https://colab.research.google.com/assets/colab-badge.svg\" alt=\"Open In Colab\"/></a>"
      ]
    },
    {
      "cell_type": "code",
      "metadata": {
        "id": "2cT8-4eu0DRP",
        "colab_type": "code",
        "colab": {}
      },
      "source": [
        "import os\n",
        "import io\n",
        "import matplotlib as mpl\n",
        "import matplotlib.pyplot as plt\n",
        "from IPython.display import display\n",
        "%matplotlib inline\n",
        "\n",
        "import pandas as pd\n",
        "import numpy as np\n",
        "from sklearn.model_selection import train_test_split\n",
        "from sklearn.metrics import accuracy_score\n",
        "from sklearn.metrics import confusion_matrix, classification_report, roc_curve, auc\n",
        "from sklearn import preprocessing\n",
        "from sklearn import metrics\n",
        "from sklearn.linear_model import LinearRegression\n",
        "from sklearn.feature_extraction.text import TfidfVectorizer\n",
        "from nltk.corpus import stopwords\n",
        "import seaborn as sns"
      ],
      "execution_count": 18,
      "outputs": []
    },
    {
      "cell_type": "code",
      "metadata": {
        "id": "Cv9Z7hS50bNB",
        "colab_type": "code",
        "colab": {
          "base_uri": "https://localhost:8080/",
          "height": 122
        },
        "outputId": "ffeb0e66-e200-4df4-8d05-72f2cd5d4e6b"
      },
      "source": [
        "from google.colab import drive\n",
        "drive.mount('/content/drive')"
      ],
      "execution_count": 2,
      "outputs": [
        {
          "output_type": "stream",
          "text": [
            "Go to this URL in a browser: https://accounts.google.com/o/oauth2/auth?client_id=947318989803-6bn6qk8qdgf4n4g3pfee6491hc0brc4i.apps.googleusercontent.com&redirect_uri=urn%3aietf%3awg%3aoauth%3a2.0%3aoob&response_type=code&scope=email%20https%3a%2f%2fwww.googleapis.com%2fauth%2fdocs.test%20https%3a%2f%2fwww.googleapis.com%2fauth%2fdrive%20https%3a%2f%2fwww.googleapis.com%2fauth%2fdrive.photos.readonly%20https%3a%2f%2fwww.googleapis.com%2fauth%2fpeopleapi.readonly\n",
            "\n",
            "Enter your authorization code:\n",
            "··········\n",
            "Mounted at /content/drive\n"
          ],
          "name": "stdout"
        }
      ]
    },
    {
      "cell_type": "code",
      "metadata": {
        "id": "mB1XE5Ry1Vej",
        "colab_type": "code",
        "colab": {}
      },
      "source": [
        "train = pd.read_csv('drive/My Drive/clean_data.csv')"
      ],
      "execution_count": 3,
      "outputs": []
    },
    {
      "cell_type": "code",
      "metadata": {
        "id": "GiKRPc0i18qM",
        "colab_type": "code",
        "colab": {}
      },
      "source": [
        "train.drop([53787,64904,76037,106891,141293,163251,\n",
        "168946,\n",
        "178686,\n",
        "193979,\n",
        "200638,\n",
        "202961,\n",
        "204721,\n",
        "210601,\n",
        "213685,\n",
        "217810],inplace=True)"
      ],
      "execution_count": 4,
      "outputs": []
    },
    {
      "cell_type": "code",
      "metadata": {
        "id": "-GD5p9f-A7-z",
        "colab_type": "code",
        "colab": {}
      },
      "source": [
        "le = preprocessing.LabelEncoder()\n",
        "cz = le.fit_transform(train.comment_text)"
      ],
      "execution_count": 5,
      "outputs": []
    },
    {
      "cell_type": "code",
      "metadata": {
        "id": "A2eeGQMX1lkp",
        "colab_type": "code",
        "colab": {}
      },
      "source": [
        "y_columns = \"toxic\""
      ],
      "execution_count": 6,
      "outputs": []
    },
    {
      "cell_type": "code",
      "metadata": {
        "id": "BOZpQ86y1wH8",
        "colab_type": "code",
        "colab": {}
      },
      "source": [
        "y = train[y_columns]\n",
        "x = cz\n",
        "x_train, x_test, y_train, y_test = train_test_split(x, y, train_size=0.8, random_state=300)"
      ],
      "execution_count": 7,
      "outputs": []
    },
    {
      "cell_type": "code",
      "metadata": {
        "id": "lITfTVKa4ZGv",
        "colab_type": "code",
        "colab": {
          "base_uri": "https://localhost:8080/",
          "height": 221
        },
        "outputId": "6145eca6-a0cf-4d36-8083-dabe17d7877d"
      },
      "source": [
        "x_train,y_train"
      ],
      "execution_count": 8,
      "outputs": [
        {
          "output_type": "execute_result",
          "data": {
            "text/plain": [
              "(array([  2434, 203820,  90921, ..., 160558, 126719,   4174]), 50459     0\n",
              " 102570    0\n",
              " 6659      0\n",
              " 90824     0\n",
              " 212885    0\n",
              "          ..\n",
              " 7146      0\n",
              " 169681    0\n",
              " 60310     0\n",
              " 203244    1\n",
              " 50385     0\n",
              " Name: toxic, Length: 178827, dtype: int64)"
            ]
          },
          "metadata": {
            "tags": []
          },
          "execution_count": 8
        }
      ]
    },
    {
      "cell_type": "code",
      "metadata": {
        "id": "VfsZy5B-6EFc",
        "colab_type": "code",
        "colab": {}
      },
      "source": [
        "x_train = x_train.reshape(-1,1)"
      ],
      "execution_count": 9,
      "outputs": []
    },
    {
      "cell_type": "code",
      "metadata": {
        "id": "BUXv6ZWTBS5Q",
        "colab_type": "code",
        "colab": {
          "base_uri": "https://localhost:8080/",
          "height": 34
        },
        "outputId": "3df1dd3f-38e2-43de-b4b0-88cdbcadee7d"
      },
      "source": [
        "LIN = LinearRegression()\n",
        "LIN.fit(x_train, y_train)"
      ],
      "execution_count": 10,
      "outputs": [
        {
          "output_type": "execute_result",
          "data": {
            "text/plain": [
              "LinearRegression(copy_X=True, fit_intercept=True, n_jobs=None, normalize=False)"
            ]
          },
          "metadata": {
            "tags": []
          },
          "execution_count": 10
        }
      ]
    },
    {
      "cell_type": "code",
      "metadata": {
        "id": "ibAlXSffBVPE",
        "colab_type": "code",
        "colab": {}
      },
      "source": [
        "x_test = x_test.reshape(-1,1)\n",
        "y_pred = LIN.predict(x_train)\n",
        "y_pred2 = LIN.predict(x_test)\n"
      ],
      "execution_count": 11,
      "outputs": []
    },
    {
      "cell_type": "code",
      "metadata": {
        "id": "V8FOi2Y0BXRi",
        "colab_type": "code",
        "colab": {
          "base_uri": "https://localhost:8080/",
          "height": 153
        },
        "outputId": "ea9d85e1-c042-4555-8507-1cc0e375e3d9"
      },
      "source": [
        "print(\"Train MAE: \")\n",
        "print(metrics.mean_absolute_error(y_train,y_pred))\n",
        "print()\n",
        "print(\"Test MAE: \")\n",
        "print(metrics.mean_absolute_error(y_test,y_pred2))\n",
        "print()\n",
        "print(\"Test MSE: \")\n",
        "print(np.sqrt(metrics.mean_squared_error(y_test,y_pred2)))"
      ],
      "execution_count": 12,
      "outputs": [
        {
          "output_type": "stream",
          "text": [
            "Train MAE: \n",
            "0.17088284958018007\n",
            "\n",
            "Test MAE: \n",
            "0.1695663878364376\n",
            "\n",
            "Test MSE: \n",
            "0.2900735877586742\n"
          ],
          "name": "stdout"
        }
      ]
    },
    {
      "cell_type": "code",
      "metadata": {
        "id": "QdPEHjKRh3rT",
        "colab_type": "code",
        "colab": {
          "base_uri": "https://localhost:8080/",
          "height": 258
        },
        "outputId": "0c78627f-bf1a-482e-fb7a-febd19ebab09"
      },
      "source": [
        "pred = []\n",
        "for elem in y_pred:\n",
        "  pred.append(int(round(elem)))\n",
        "print(classification_report(y_train,pred))\n",
        "print(confusion_matrix(y_train,pred))\n",
        "fpr,tpr,thresh = roc_curve(y_train,pred)\n",
        "roc_auc = auc(fpr,tpr)"
      ],
      "execution_count": 19,
      "outputs": [
        {
          "output_type": "stream",
          "text": [
            "/usr/local/lib/python3.6/dist-packages/sklearn/metrics/_classification.py:1272: UndefinedMetricWarning: Precision and F-score are ill-defined and being set to 0.0 in labels with no predicted samples. Use `zero_division` parameter to control this behavior.\n",
            "  _warn_prf(average, modifier, msg_start, len(result))\n"
          ],
          "name": "stderr"
        },
        {
          "output_type": "stream",
          "text": [
            "              precision    recall  f1-score   support\n",
            "\n",
            "           0       0.90      1.00      0.95    161660\n",
            "           1       0.00      0.00      0.00     17167\n",
            "\n",
            "    accuracy                           0.90    178827\n",
            "   macro avg       0.45      0.50      0.47    178827\n",
            "weighted avg       0.82      0.90      0.86    178827\n",
            "\n",
            "[[161660      0]\n",
            " [ 17167      0]]\n"
          ],
          "name": "stdout"
        }
      ]
    },
    {
      "cell_type": "code",
      "metadata": {
        "id": "NnUKZ7G9inBn",
        "colab_type": "code",
        "colab": {
          "base_uri": "https://localhost:8080/",
          "height": 283
        },
        "outputId": "e6ab0466-b762-4fd0-9f16-a494ff95e4d2"
      },
      "source": [
        "plt.plot(fpr, tpr, 'b', label = 'AUC = %0.2f' % roc_auc)\n",
        "plt.legend(loc = 'lower right')\n",
        "plt.plot([0, 1], [0, 1],'r--')\n",
        "plt.xlim([0, 1])\n",
        "plt.ylim([0, 1])\n",
        "plt.ylabel('True Positive Rate')\n",
        "plt.xlabel('False Positive Rate')\n",
        "plt.show()\n"
      ],
      "execution_count": 20,
      "outputs": [
        {
          "output_type": "display_data",
          "data": {
            "image/png": "[encoded data removed]",
            "text/plain": [
              "<Figure size 432x288 with 1 Axes>"
            ]
          },
          "metadata": {
            "tags": [],
            "needs_background": "light"
          }
        }
      ]
    },
    {
      "cell_type": "code",
      "metadata": {
        "id": "5vKzIW_Ti0NB",
        "colab_type": "code",
        "colab": {
          "base_uri": "https://localhost:8080/",
          "height": 258
        },
        "outputId": "934afad3-7b48-45a2-8f43-93d9e957960b"
      },
      "source": [
        "pred = []\n",
        "for elem in y_pred2:\n",
        "  pred.append(int(round(elem)))\n",
        "print(classification_report(y_test,pred))\n",
        "print(confusion_matrix(y_test,pred))\n",
        "fpr,tpr,thresh = roc_curve(y_test,pred)\n",
        "roc_auc = auc(fpr,tpr)"
      ],
      "execution_count": 21,
      "outputs": [
        {
          "output_type": "stream",
          "text": [
            "              precision    recall  f1-score   support\n",
            "\n",
            "           0       0.91      1.00      0.95     40490\n",
            "           1       0.00      0.00      0.00      4217\n",
            "\n",
            "    accuracy                           0.91     44707\n",
            "   macro avg       0.45      0.50      0.48     44707\n",
            "weighted avg       0.82      0.91      0.86     44707\n",
            "\n",
            "[[40490     0]\n",
            " [ 4217     0]]\n"
          ],
          "name": "stdout"
        },
        {
          "output_type": "stream",
          "text": [
            "/usr/local/lib/python3.6/dist-packages/sklearn/metrics/_classification.py:1272: UndefinedMetricWarning: Precision and F-score are ill-defined and being set to 0.0 in labels with no predicted samples. Use `zero_division` parameter to control this behavior.\n",
            "  _warn_prf(average, modifier, msg_start, len(result))\n"
          ],
          "name": "stderr"
        }
      ]
    },
    {
      "cell_type": "code",
      "metadata": {
        "id": "VNuy2DKEi0SG",
        "colab_type": "code",
        "colab": {
          "base_uri": "https://localhost:8080/",
          "height": 283
        },
        "outputId": "da06f2b4-b122-4f52-8df2-4e62f18b22bc"
      },
      "source": [
        "plt.plot(fpr, tpr, 'b', label = 'AUC = %0.2f' % roc_auc)\n",
        "plt.legend(loc = 'lower right')\n",
        "plt.plot([0, 1], [0, 1],'r--')\n",
        "plt.xlim([0, 1])\n",
        "plt.ylim([0, 1])\n",
        "plt.ylabel('True Positive Rate')\n",
        "plt.xlabel('False Positive Rate')\n",
        "plt.show()\n"
      ],
      "execution_count": 22,
      "outputs": [
        {
          "output_type": "display_data",
          "data": {
            "image/png": "[encoded data removed]",
            "text/plain": [
              "<Figure size 432x288 with 1 Axes>"
            ]
          },
          "metadata": {
            "tags": [],
            "needs_background": "light"
          }
        }
      ]
    },
    {
      "cell_type": "code",
      "metadata": {
        "id": "N8l59VbEBpcV",
        "colab_type": "code",
        "colab": {
          "base_uri": "https://localhost:8080/",
          "height": 153
        },
        "outputId": "b13e1054-25ae-4a4c-81ec-229d984f31e4"
      },
      "source": [
        "y_columns = \"severe_toxic\"\n",
        "y = train[y_columns]\n",
        "x_train, x_test, y_train, y_test = train_test_split(x, y, train_size=0.8, random_state=300)\n",
        "x_train = x_train.reshape(-1,1)\n",
        "LIN = LinearRegression()\n",
        "LIN.fit(x_train, y_train)\n",
        "x_test = x_test.reshape(-1,1)\n",
        "y_pred = LIN.predict(x_train)\n",
        "y_pred2 = LIN.predict(x_test)\n",
        "print(\"Train MAE: \")\n",
        "print(metrics.mean_absolute_error(y_train,y_pred))\n",
        "print()\n",
        "print(\"Test MAE: \")\n",
        "print(metrics.mean_absolute_error(y_test,y_pred2))\n",
        "print()\n",
        "print(\"Test MSE: \")\n",
        "print(np.sqrt(metrics.mean_squared_error(y_test,y_pred2)))"
      ],
      "execution_count": 23,
      "outputs": [
        {
          "output_type": "stream",
          "text": [
            "Train MAE: \n",
            "0.016947969170342116\n",
            "\n",
            "Test MAE: \n",
            "0.017973584579362878\n",
            "\n",
            "Test MSE: \n",
            "0.09747961912780906\n"
          ],
          "name": "stdout"
        }
      ]
    },
    {
      "cell_type": "code",
      "metadata": {
        "id": "OGYvez5Pi96h",
        "colab_type": "code",
        "colab": {
          "base_uri": "https://localhost:8080/",
          "height": 258
        },
        "outputId": "e02bd365-65ce-4fda-a597-ff732a0b8c03"
      },
      "source": [
        "pred = []\n",
        "for elem in y_pred:\n",
        "  pred.append(int(round(elem)))\n",
        "print(classification_report(y_train,pred))\n",
        "print(confusion_matrix(y_train,pred))\n",
        "fpr,tpr,thresh = roc_curve(y_train,pred)\n",
        "roc_auc = auc(fpr,tpr)"
      ],
      "execution_count": 24,
      "outputs": [
        {
          "output_type": "stream",
          "text": [
            "/usr/local/lib/python3.6/dist-packages/sklearn/metrics/_classification.py:1272: UndefinedMetricWarning: Precision and F-score are ill-defined and being set to 0.0 in labels with no predicted samples. Use `zero_division` parameter to control this behavior.\n",
            "  _warn_prf(average, modifier, msg_start, len(result))\n"
          ],
          "name": "stderr"
        },
        {
          "output_type": "stream",
          "text": [
            "              precision    recall  f1-score   support\n",
            "\n",
            "           0       0.99      1.00      1.00    177295\n",
            "           1       0.00      0.00      0.00      1532\n",
            "\n",
            "    accuracy                           0.99    178827\n",
            "   macro avg       0.50      0.50      0.50    178827\n",
            "weighted avg       0.98      0.99      0.99    178827\n",
            "\n",
            "[[177295      0]\n",
            " [  1532      0]]\n"
          ],
          "name": "stdout"
        }
      ]
    },
    {
      "cell_type": "code",
      "metadata": {
        "id": "G4TVCfoxi99v",
        "colab_type": "code",
        "colab": {
          "base_uri": "https://localhost:8080/",
          "height": 283
        },
        "outputId": "5a7abcbc-c83d-49ea-b114-6c3b2d6223f9"
      },
      "source": [
        "plt.plot(fpr, tpr, 'b', label = 'AUC = %0.2f' % roc_auc)\n",
        "plt.legend(loc = 'lower right')\n",
        "plt.plot([0, 1], [0, 1],'r--')\n",
        "plt.xlim([0, 1])\n",
        "plt.ylim([0, 1])\n",
        "plt.ylabel('True Positive Rate')\n",
        "plt.xlabel('False Positive Rate')\n",
        "plt.show()"
      ],
      "execution_count": 25,
      "outputs": [
        {
          "output_type": "display_data",
          "data": {
            "image/png": "[encoded data removed]",
            "text/plain": [
              "<Figure size 432x288 with 1 Axes>"
            ]
          },
          "metadata": {
            "tags": [],
            "needs_background": "light"
          }
        }
      ]
    },
    {
      "cell_type": "code",
      "metadata": {
        "id": "me4xgrH1i-Bf",
        "colab_type": "code",
        "colab": {
          "base_uri": "https://localhost:8080/",
          "height": 258
        },
        "outputId": "891a8bce-dee5-4346-8c08-979bb10cc7b9"
      },
      "source": [
        "pred = []\n",
        "for elem in y_pred2:\n",
        "  pred.append(int(round(elem)))\n",
        "print(classification_report(y_test,pred))\n",
        "print(confusion_matrix(y_test,pred))\n",
        "fpr,tpr,thresh = roc_curve(y_test,pred)\n",
        "roc_auc = auc(fpr,tpr)"
      ],
      "execution_count": 26,
      "outputs": [
        {
          "output_type": "stream",
          "text": [
            "              precision    recall  f1-score   support\n",
            "\n",
            "           0       0.99      1.00      1.00     44277\n",
            "           1       0.00      0.00      0.00       430\n",
            "\n",
            "    accuracy                           0.99     44707\n",
            "   macro avg       0.50      0.50      0.50     44707\n",
            "weighted avg       0.98      0.99      0.99     44707\n",
            "\n",
            "[[44277     0]\n",
            " [  430     0]]\n"
          ],
          "name": "stdout"
        },
        {
          "output_type": "stream",
          "text": [
            "/usr/local/lib/python3.6/dist-packages/sklearn/metrics/_classification.py:1272: UndefinedMetricWarning: Precision and F-score are ill-defined and being set to 0.0 in labels with no predicted samples. Use `zero_division` parameter to control this behavior.\n",
            "  _warn_prf(average, modifier, msg_start, len(result))\n"
          ],
          "name": "stderr"
        }
      ]
    },
    {
      "cell_type": "code",
      "metadata": {
        "id": "xWaxiGwfi-FO",
        "colab_type": "code",
        "colab": {
          "base_uri": "https://localhost:8080/",
          "height": 283
        },
        "outputId": "bcf97f96-390c-4a87-c3f6-8f181aae35b5"
      },
      "source": [
        "plt.plot(fpr, tpr, 'b', label = 'AUC = %0.2f' % roc_auc)\n",
        "plt.legend(loc = 'lower right')\n",
        "plt.plot([0, 1], [0, 1],'r--')\n",
        "plt.xlim([0, 1])\n",
        "plt.ylim([0, 1])\n",
        "plt.ylabel('True Positive Rate')\n",
        "plt.xlabel('False Positive Rate')\n",
        "plt.show()"
      ],
      "execution_count": 27,
      "outputs": [
        {
          "output_type": "display_data",
          "data": {
            "image/png": "[encoded data removed]",
            "text/plain": [
              "<Figure size 432x288 with 1 Axes>"
            ]
          },
          "metadata": {
            "tags": [],
            "needs_background": "light"
          }
        }
      ]
    },
    {
      "cell_type": "code",
      "metadata": {
        "id": "q90VXoU4DJfd",
        "colab_type": "code",
        "colab": {
          "base_uri": "https://localhost:8080/",
          "height": 153
        },
        "outputId": "23a0a0d6-9cc6-45f6-eccc-f4358ad8ad68"
      },
      "source": [
        "y_columns = \"obscene\"\n",
        "y = train[y_columns]\n",
        "x_train, x_test, y_train, y_test = train_test_split(x, y, train_size=0.8, random_state=300)\n",
        "x_train = x_train.reshape(-1,1)\n",
        "LIN = LinearRegression()\n",
        "LIN.fit(x_train, y_train)\n",
        "x_test = x_test.reshape(-1,1)\n",
        "y_pred = LIN.predict(x_train)\n",
        "y_pred2 = LIN.predict(x_test)\n",
        "print(\"Train MAE: \")\n",
        "print(metrics.mean_absolute_error(y_train,y_pred))\n",
        "print()\n",
        "print(\"Test MAE: \")\n",
        "print(metrics.mean_absolute_error(y_test,y_pred2))\n",
        "print()\n",
        "print(\"Test MSE: \")\n",
        "print(np.sqrt(metrics.mean_squared_error(y_test,y_pred2)))"
      ],
      "execution_count": 28,
      "outputs": [
        {
          "output_type": "stream",
          "text": [
            "Train MAE: \n",
            "0.10237608841078746\n",
            "\n",
            "Test MAE: \n",
            "0.10091781605579937\n",
            "\n",
            "Test MSE: \n",
            "0.22302764432217032\n"
          ],
          "name": "stdout"
        }
      ]
    },
    {
      "cell_type": "code",
      "metadata": {
        "id": "_2PfS0ukjQ1J",
        "colab_type": "code",
        "colab": {
          "base_uri": "https://localhost:8080/",
          "height": 258
        },
        "outputId": "84288ac2-6474-4906-fefe-5c8b40edba0d"
      },
      "source": [
        "pred = []\n",
        "for elem in y_pred:\n",
        "  pred.append(int(round(elem)))\n",
        "print(classification_report(y_train,pred))\n",
        "print(confusion_matrix(y_train,pred))\n",
        "fpr,tpr,thresh = roc_curve(y_train,pred)\n",
        "roc_auc = auc(fpr,tpr)"
      ],
      "execution_count": 29,
      "outputs": [
        {
          "output_type": "stream",
          "text": [
            "/usr/local/lib/python3.6/dist-packages/sklearn/metrics/_classification.py:1272: UndefinedMetricWarning: Precision and F-score are ill-defined and being set to 0.0 in labels with no predicted samples. Use `zero_division` parameter to control this behavior.\n",
            "  _warn_prf(average, modifier, msg_start, len(result))\n"
          ],
          "name": "stderr"
        },
        {
          "output_type": "stream",
          "text": [
            "              precision    recall  f1-score   support\n",
            "\n",
            "           0       0.95      1.00      0.97    169058\n",
            "           1       0.00      0.00      0.00      9769\n",
            "\n",
            "    accuracy                           0.95    178827\n",
            "   macro avg       0.47      0.50      0.49    178827\n",
            "weighted avg       0.89      0.95      0.92    178827\n",
            "\n",
            "[[169058      0]\n",
            " [  9769      0]]\n"
          ],
          "name": "stdout"
        }
      ]
    },
    {
      "cell_type": "code",
      "metadata": {
        "id": "r9_B27t_jQ6B",
        "colab_type": "code",
        "colab": {
          "base_uri": "https://localhost:8080/",
          "height": 283
        },
        "outputId": "63cf4b81-5582-43e9-a26b-3fa796caebb4"
      },
      "source": [
        "plt.plot(fpr, tpr, 'b', label = 'AUC = %0.2f' % roc_auc)\n",
        "plt.legend(loc = 'lower right')\n",
        "plt.plot([0, 1], [0, 1],'r--')\n",
        "plt.xlim([0, 1])\n",
        "plt.ylim([0, 1])\n",
        "plt.ylabel('True Positive Rate')\n",
        "plt.xlabel('False Positive Rate')\n",
        "plt.show()"
      ],
      "execution_count": 30,
      "outputs": [
        {
          "output_type": "display_data",
          "data": {
            "image/png": "[encoded data removed]",
            "text/plain": [
              "<Figure size 432x288 with 1 Axes>"
            ]
          },
          "metadata": {
            "tags": [],
            "needs_background": "light"
          }
        }
      ]
    },
    {
      "cell_type": "code",
      "metadata": {
        "id": "mJPPLiAKjQ-p",
        "colab_type": "code",
        "colab": {
          "base_uri": "https://localhost:8080/",
          "height": 258
        },
        "outputId": "73ff5f7c-57f2-484d-e0f1-6a6fe5b92ef7"
      },
      "source": [
        "pred = []\n",
        "for elem in y_pred2:\n",
        "  pred.append(int(round(elem)))\n",
        "print(classification_report(y_test,pred))\n",
        "print(confusion_matrix(y_test,pred))\n",
        "fpr,tpr,thresh = roc_curve(y_test,pred)\n",
        "roc_auc = auc(fpr,tpr)"
      ],
      "execution_count": 31,
      "outputs": [
        {
          "output_type": "stream",
          "text": [
            "              precision    recall  f1-score   support\n",
            "\n",
            "           0       0.95      1.00      0.97     42336\n",
            "           1       0.00      0.00      0.00      2371\n",
            "\n",
            "    accuracy                           0.95     44707\n",
            "   macro avg       0.47      0.50      0.49     44707\n",
            "weighted avg       0.90      0.95      0.92     44707\n",
            "\n",
            "[[42336     0]\n",
            " [ 2371     0]]\n"
          ],
          "name": "stdout"
        },
        {
          "output_type": "stream",
          "text": [
            "/usr/local/lib/python3.6/dist-packages/sklearn/metrics/_classification.py:1272: UndefinedMetricWarning: Precision and F-score are ill-defined and being set to 0.0 in labels with no predicted samples. Use `zero_division` parameter to control this behavior.\n",
            "  _warn_prf(average, modifier, msg_start, len(result))\n"
          ],
          "name": "stderr"
        }
      ]
    },
    {
      "cell_type": "code",
      "metadata": {
        "id": "4ZDdhrEEjRDn",
        "colab_type": "code",
        "colab": {
          "base_uri": "https://localhost:8080/",
          "height": 283
        },
        "outputId": "8b890d11-c34a-44bd-98dc-1b441dd5ec28"
      },
      "source": [
        "plt.plot(fpr, tpr, 'b', label = 'AUC = %0.2f' % roc_auc)\n",
        "plt.legend(loc = 'lower right')\n",
        "plt.plot([0, 1], [0, 1],'r--')\n",
        "plt.xlim([0, 1])\n",
        "plt.ylim([0, 1])\n",
        "plt.ylabel('True Positive Rate')\n",
        "plt.xlabel('False Positive Rate')\n",
        "plt.show()"
      ],
      "execution_count": 32,
      "outputs": [
        {
          "output_type": "display_data",
          "data": {
            "image/png": "[encoded data removed]",
            "text/plain": [
              "<Figure size 432x288 with 1 Axes>"
            ]
          },
          "metadata": {
            "tags": [],
            "needs_background": "light"
          }
        }
      ]
    },
    {
      "cell_type": "code",
      "metadata": {
        "id": "IadrrMWiDM8T",
        "colab_type": "code",
        "colab": {
          "base_uri": "https://localhost:8080/",
          "height": 153
        },
        "outputId": "126debe7-7607-49a6-f7a6-e889d660ced2"
      },
      "source": [
        "y_columns = \"threat\"\n",
        "y = train[y_columns]\n",
        "x_train, x_test, y_train, y_test = train_test_split(x, y, train_size=0.8, random_state=300)\n",
        "x_train = x_train.reshape(-1,1)\n",
        "LIN = LinearRegression()\n",
        "LIN.fit(x_train, y_train)\n",
        "x_test = x_test.reshape(-1,1)\n",
        "y_pred = LIN.predict(x_train)\n",
        "y_pred2 = LIN.predict(x_test)\n",
        "print(\"Train MAE: \")\n",
        "print(metrics.mean_absolute_error(y_train,y_pred))\n",
        "print()\n",
        "print(\"Test MAE: \")\n",
        "print(metrics.mean_absolute_error(y_test,y_pred2))\n",
        "print()\n",
        "print(\"Test MSE: \")\n",
        "print(np.sqrt(metrics.mean_squared_error(y_test,y_pred2)))"
      ],
      "execution_count": 33,
      "outputs": [
        {
          "output_type": "stream",
          "text": [
            "Train MAE: \n",
            "0.006118083181715099\n",
            "\n",
            "Test MAE: \n",
            "0.00617771448929243\n",
            "\n",
            "Test MSE: \n",
            "0.05585189090279451\n"
          ],
          "name": "stdout"
        }
      ]
    },
    {
      "cell_type": "code",
      "metadata": {
        "id": "jIso3lbzjH2u",
        "colab_type": "code",
        "colab": {
          "base_uri": "https://localhost:8080/",
          "height": 258
        },
        "outputId": "6125e3bd-d9d9-4537-d302-98c42ca5a32c"
      },
      "source": [
        "pred = []\n",
        "for elem in y_pred:\n",
        "  pred.append(int(round(elem)))\n",
        "print(classification_report(y_train,pred))\n",
        "print(confusion_matrix(y_train,pred))\n",
        "fpr,tpr,thresh = roc_curve(y_train,pred)\n",
        "roc_auc = auc(fpr,tpr)"
      ],
      "execution_count": 34,
      "outputs": [
        {
          "output_type": "stream",
          "text": [
            "/usr/local/lib/python3.6/dist-packages/sklearn/metrics/_classification.py:1272: UndefinedMetricWarning: Precision and F-score are ill-defined and being set to 0.0 in labels with no predicted samples. Use `zero_division` parameter to control this behavior.\n",
            "  _warn_prf(average, modifier, msg_start, len(result))\n"
          ],
          "name": "stderr"
        },
        {
          "output_type": "stream",
          "text": [
            "              precision    recall  f1-score   support\n",
            "\n",
            "           0       1.00      1.00      1.00    178278\n",
            "           1       0.00      0.00      0.00       549\n",
            "\n",
            "    accuracy                           1.00    178827\n",
            "   macro avg       0.50      0.50      0.50    178827\n",
            "weighted avg       0.99      1.00      1.00    178827\n",
            "\n",
            "[[178278      0]\n",
            " [   549      0]]\n"
          ],
          "name": "stdout"
        }
      ]
    },
    {
      "cell_type": "code",
      "metadata": {
        "id": "12Rhx79ujH7B",
        "colab_type": "code",
        "colab": {
          "base_uri": "https://localhost:8080/",
          "height": 283
        },
        "outputId": "6a1a0594-129e-4b95-a339-fe1a96b70d1f"
      },
      "source": [
        "plt.plot(fpr, tpr, 'b', label = 'AUC = %0.2f' % roc_auc)\n",
        "plt.legend(loc = 'lower right')\n",
        "plt.plot([0, 1], [0, 1],'r--')\n",
        "plt.xlim([0, 1])\n",
        "plt.ylim([0, 1])\n",
        "plt.ylabel('True Positive Rate')\n",
        "plt.xlabel('False Positive Rate')\n",
        "plt.show()"
      ],
      "execution_count": 35,
      "outputs": [
        {
          "output_type": "display_data",
          "data": {
            "image/png": "[encoded data removed]",
            "text/plain": [
              "<Figure size 432x288 with 1 Axes>"
            ]
          },
          "metadata": {
            "tags": [],
            "needs_background": "light"
          }
        }
      ]
    },
    {
      "cell_type": "code",
      "metadata": {
        "id": "C34e5oVsjIBe",
        "colab_type": "code",
        "colab": {
          "base_uri": "https://localhost:8080/",
          "height": 258
        },
        "outputId": "12b2adcf-2fed-4c8d-9e8f-a3dff3dfac22"
      },
      "source": [
        "pred = []\n",
        "for elem in y_pred2:\n",
        "  pred.append(int(round(elem)))\n",
        "print(classification_report(y_test,pred))\n",
        "print(confusion_matrix(y_test,pred))\n",
        "fpr,tpr,thresh = roc_curve(y_test,pred)\n",
        "roc_auc = auc(fpr,tpr)"
      ],
      "execution_count": 36,
      "outputs": [
        {
          "output_type": "stream",
          "text": [
            "              precision    recall  f1-score   support\n",
            "\n",
            "           0       1.00      1.00      1.00     44567\n",
            "           1       0.00      0.00      0.00       140\n",
            "\n",
            "    accuracy                           1.00     44707\n",
            "   macro avg       0.50      0.50      0.50     44707\n",
            "weighted avg       0.99      1.00      1.00     44707\n",
            "\n",
            "[[44567     0]\n",
            " [  140     0]]\n"
          ],
          "name": "stdout"
        },
        {
          "output_type": "stream",
          "text": [
            "/usr/local/lib/python3.6/dist-packages/sklearn/metrics/_classification.py:1272: UndefinedMetricWarning: Precision and F-score are ill-defined and being set to 0.0 in labels with no predicted samples. Use `zero_division` parameter to control this behavior.\n",
            "  _warn_prf(average, modifier, msg_start, len(result))\n"
          ],
          "name": "stderr"
        }
      ]
    },
    {
      "cell_type": "code",
      "metadata": {
        "id": "6aO_aGCwjIG5",
        "colab_type": "code",
        "colab": {
          "base_uri": "https://localhost:8080/",
          "height": 283
        },
        "outputId": "34af7064-0685-4007-e289-946e9c18c320"
      },
      "source": [
        "plt.plot(fpr, tpr, 'b', label = 'AUC = %0.2f' % roc_auc)\n",
        "plt.legend(loc = 'lower right')\n",
        "plt.plot([0, 1], [0, 1],'r--')\n",
        "plt.xlim([0, 1])\n",
        "plt.ylim([0, 1])\n",
        "plt.ylabel('True Positive Rate')\n",
        "plt.xlabel('False Positive Rate')\n",
        "plt.show()"
      ],
      "execution_count": 37,
      "outputs": [
        {
          "output_type": "display_data",
          "data": {
            "image/png": "[encoded data removed]",
            "text/plain": [
              "<Figure size 432x288 with 1 Axes>"
            ]
          },
          "metadata": {
            "tags": [],
            "needs_background": "light"
          }
        }
      ]
    },
    {
      "cell_type": "code",
      "metadata": {
        "id": "rGG2ijLXDSJx",
        "colab_type": "code",
        "colab": {
          "base_uri": "https://localhost:8080/",
          "height": 153
        },
        "outputId": "53bcd246-9df2-4e33-95a5-8bf7b60217f8"
      },
      "source": [
        "y_columns = \"insult\"\n",
        "y = train[y_columns]\n",
        "x_train, x_test, y_train, y_test = train_test_split(x, y, train_size=0.8, random_state=300)\n",
        "x_train = x_train.reshape(-1,1)\n",
        "LIN = LinearRegression()\n",
        "LIN.fit(x_train, y_train)\n",
        "x_test = x_test.reshape(-1,1)\n",
        "y_pred = LIN.predict(x_train)\n",
        "y_pred2 = LIN.predict(x_test)\n",
        "print(\"Train MAE: \")\n",
        "print(metrics.mean_absolute_error(y_train,y_pred))\n",
        "print()\n",
        "print(\"Test MAE: \")\n",
        "print(metrics.mean_absolute_error(y_test,y_pred2))\n",
        "print()\n",
        "print(\"Test MSE: \")\n",
        "print(np.sqrt(metrics.mean_squared_error(y_test,y_pred2)))"
      ],
      "execution_count": 38,
      "outputs": [
        {
          "output_type": "stream",
          "text": [
            "Train MAE: \n",
            "0.0954625616510162\n",
            "\n",
            "Test MAE: \n",
            "0.09442487215664988\n",
            "\n",
            "Test MSE: \n",
            "0.2161144103313393\n"
          ],
          "name": "stdout"
        }
      ]
    },
    {
      "cell_type": "code",
      "metadata": {
        "id": "NESLRUXUjgts",
        "colab_type": "code",
        "colab": {
          "base_uri": "https://localhost:8080/",
          "height": 258
        },
        "outputId": "15ea68d2-5356-4972-c0fe-066b92899b10"
      },
      "source": [
        "pred = []\n",
        "for elem in y_pred:\n",
        "  pred.append(int(round(elem)))\n",
        "print(classification_report(y_train,pred))\n",
        "print(confusion_matrix(y_train,pred))\n",
        "fpr,tpr,thresh = roc_curve(y_train,pred)\n",
        "roc_auc = auc(fpr,tpr)"
      ],
      "execution_count": 39,
      "outputs": [
        {
          "output_type": "stream",
          "text": [
            "/usr/local/lib/python3.6/dist-packages/sklearn/metrics/_classification.py:1272: UndefinedMetricWarning: Precision and F-score are ill-defined and being set to 0.0 in labels with no predicted samples. Use `zero_division` parameter to control this behavior.\n",
            "  _warn_prf(average, modifier, msg_start, len(result))\n"
          ],
          "name": "stderr"
        },
        {
          "output_type": "stream",
          "text": [
            "              precision    recall  f1-score   support\n",
            "\n",
            "           0       0.95      1.00      0.97    169746\n",
            "           1       0.00      0.00      0.00      9081\n",
            "\n",
            "    accuracy                           0.95    178827\n",
            "   macro avg       0.47      0.50      0.49    178827\n",
            "weighted avg       0.90      0.95      0.92    178827\n",
            "\n",
            "[[169746      0]\n",
            " [  9081      0]]\n"
          ],
          "name": "stdout"
        }
      ]
    },
    {
      "cell_type": "code",
      "metadata": {
        "id": "SSnmyrnXjgyg",
        "colab_type": "code",
        "colab": {
          "base_uri": "https://localhost:8080/",
          "height": 283
        },
        "outputId": "bd6858b0-dddd-4baf-fa0d-d5a8d8339c73"
      },
      "source": [
        "plt.plot(fpr, tpr, 'b', label = 'AUC = %0.2f' % roc_auc)\n",
        "plt.legend(loc = 'lower right')\n",
        "plt.plot([0, 1], [0, 1],'r--')\n",
        "plt.xlim([0, 1])\n",
        "plt.ylim([0, 1])\n",
        "plt.ylabel('True Positive Rate')\n",
        "plt.xlabel('False Positive Rate')\n",
        "plt.show()"
      ],
      "execution_count": 40,
      "outputs": [
        {
          "output_type": "display_data",
          "data": {
            "image/png": "[encoded data removed]",
            "text/plain": [
              "<Figure size 432x288 with 1 Axes>"
            ]
          },
          "metadata": {
            "tags": [],
            "needs_background": "light"
          }
        }
      ]
    },
    {
      "cell_type": "code",
      "metadata": {
        "id": "mLi5zZUZjg27",
        "colab_type": "code",
        "colab": {
          "base_uri": "https://localhost:8080/",
          "height": 258
        },
        "outputId": "035b52af-543a-449d-83af-68300f9fbe0c"
      },
      "source": [
        "pred = []\n",
        "for elem in y_pred2:\n",
        "  pred.append(int(round(elem)))\n",
        "print(classification_report(y_test,pred))\n",
        "print(confusion_matrix(y_test,pred))\n",
        "fpr,tpr,thresh = roc_curve(y_test,pred)\n",
        "roc_auc = auc(fpr,tpr)"
      ],
      "execution_count": 41,
      "outputs": [
        {
          "output_type": "stream",
          "text": [
            "              precision    recall  f1-score   support\n",
            "\n",
            "           0       0.95      1.00      0.97     42484\n",
            "           1       0.00      0.00      0.00      2223\n",
            "\n",
            "    accuracy                           0.95     44707\n",
            "   macro avg       0.48      0.50      0.49     44707\n",
            "weighted avg       0.90      0.95      0.93     44707\n",
            "\n",
            "[[42484     0]\n",
            " [ 2223     0]]\n"
          ],
          "name": "stdout"
        },
        {
          "output_type": "stream",
          "text": [
            "/usr/local/lib/python3.6/dist-packages/sklearn/metrics/_classification.py:1272: UndefinedMetricWarning: Precision and F-score are ill-defined and being set to 0.0 in labels with no predicted samples. Use `zero_division` parameter to control this behavior.\n",
            "  _warn_prf(average, modifier, msg_start, len(result))\n"
          ],
          "name": "stderr"
        }
      ]
    },
    {
      "cell_type": "code",
      "metadata": {
        "id": "pvwzBZhdjg7x",
        "colab_type": "code",
        "colab": {
          "base_uri": "https://localhost:8080/",
          "height": 283
        },
        "outputId": "dedfdec6-ebf6-4b0b-a3a9-be9f1b27656d"
      },
      "source": [
        "plt.plot(fpr, tpr, 'b', label = 'AUC = %0.2f' % roc_auc)\n",
        "plt.legend(loc = 'lower right')\n",
        "plt.plot([0, 1], [0, 1],'r--')\n",
        "plt.xlim([0, 1])\n",
        "plt.ylim([0, 1])\n",
        "plt.ylabel('True Positive Rate')\n",
        "plt.xlabel('False Positive Rate')\n",
        "plt.show()"
      ],
      "execution_count": 42,
      "outputs": [
        {
          "output_type": "display_data",
          "data": {
            "image/png": "[encoded data removed]",
            "text/plain": [
              "<Figure size 432x288 with 1 Axes>"
            ]
          },
          "metadata": {
            "tags": [],
            "needs_background": "light"
          }
        }
      ]
    },
    {
      "cell_type": "code",
      "metadata": {
        "id": "XQuGF0r1DTnE",
        "colab_type": "code",
        "colab": {
          "base_uri": "https://localhost:8080/",
          "height": 153
        },
        "outputId": "5d1a71b2-9104-4718-9319-96ee096bd52f"
      },
      "source": [
        "y_columns = \"identity_hate\"\n",
        "y = train[y_columns]\n",
        "x_train, x_test, y_train, y_test = train_test_split(x, y, train_size=0.8, random_state=300)\n",
        "x_train = x_train.reshape(-1,1)\n",
        "LIN = LinearRegression()\n",
        "LIN.fit(x_train, y_train)\n",
        "x_test = x_test.reshape(-1,1)\n",
        "y_pred = LIN.predict(x_train)\n",
        "y_pred2 = LIN.predict(x_test)\n",
        "print(\"Train MAE: \")\n",
        "print(metrics.mean_absolute_error(y_train,y_pred))\n",
        "print()\n",
        "print(\"Test MAE: \")\n",
        "print(metrics.mean_absolute_error(y_test,y_pred2))\n",
        "print()\n",
        "print(\"Test MSE: \")\n",
        "print(np.sqrt(metrics.mean_squared_error(y_test,y_pred2)))"
      ],
      "execution_count": 43,
      "outputs": [
        {
          "output_type": "stream",
          "text": [
            "Train MAE: \n",
            "0.018928416442130766\n",
            "\n",
            "Test MAE: \n",
            "0.018422149594094432\n",
            "\n",
            "Test MSE: \n",
            "0.09465979980338887\n"
          ],
          "name": "stdout"
        }
      ]
    },
    {
      "cell_type": "code",
      "metadata": {
        "id": "mHri_iTEjpgL",
        "colab_type": "code",
        "colab": {
          "base_uri": "https://localhost:8080/",
          "height": 258
        },
        "outputId": "4bc92b31-0a91-4f5d-ba9b-d66800addac8"
      },
      "source": [
        "pred = []\n",
        "for elem in y_pred:\n",
        "  pred.append(int(round(elem)))\n",
        "print(classification_report(y_train,pred))\n",
        "print(confusion_matrix(y_train,pred))\n",
        "fpr,tpr,thresh = roc_curve(y_train,pred)\n",
        "roc_auc = auc(fpr,tpr)"
      ],
      "execution_count": 44,
      "outputs": [
        {
          "output_type": "stream",
          "text": [
            "/usr/local/lib/python3.6/dist-packages/sklearn/metrics/_classification.py:1272: UndefinedMetricWarning: Precision and F-score are ill-defined and being set to 0.0 in labels with no predicted samples. Use `zero_division` parameter to control this behavior.\n",
            "  _warn_prf(average, modifier, msg_start, len(result))\n"
          ],
          "name": "stderr"
        },
        {
          "output_type": "stream",
          "text": [
            "              precision    recall  f1-score   support\n",
            "\n",
            "           0       0.99      1.00      1.00    177115\n",
            "           1       0.00      0.00      0.00      1712\n",
            "\n",
            "    accuracy                           0.99    178827\n",
            "   macro avg       0.50      0.50      0.50    178827\n",
            "weighted avg       0.98      0.99      0.99    178827\n",
            "\n",
            "[[177115      0]\n",
            " [  1712      0]]\n"
          ],
          "name": "stdout"
        }
      ]
    },
    {
      "cell_type": "code",
      "metadata": {
        "id": "rwC79K9_jplq",
        "colab_type": "code",
        "colab": {
          "base_uri": "https://localhost:8080/",
          "height": 283
        },
        "outputId": "e5ffbb9e-17a8-49d8-e5ad-90a4e2e2c62c"
      },
      "source": [
        "plt.plot(fpr, tpr, 'b', label = 'AUC = %0.2f' % roc_auc)\n",
        "plt.legend(loc = 'lower right')\n",
        "plt.plot([0, 1], [0, 1],'r--')\n",
        "plt.xlim([0, 1])\n",
        "plt.ylim([0, 1])\n",
        "plt.ylabel('True Positive Rate')\n",
        "plt.xlabel('False Positive Rate')\n",
        "plt.show()"
      ],
      "execution_count": 45,
      "outputs": [
        {
          "output_type": "display_data",
          "data": {
            "image/png": "[encoded data removed]",
            "text/plain": [
              "<Figure size 432x288 with 1 Axes>"
            ]
          },
          "metadata": {
            "tags": [],
            "needs_background": "light"
          }
        }
      ]
    },
    {
      "cell_type": "code",
      "metadata": {
        "id": "DH0t5fGhjpqf",
        "colab_type": "code",
        "colab": {
          "base_uri": "https://localhost:8080/",
          "height": 258
        },
        "outputId": "2f6cd4d2-f4eb-4962-e151-e1f3091585fd"
      },
      "source": [
        "pred = []\n",
        "for elem in y_pred2:\n",
        "  pred.append(int(round(elem)))\n",
        "print(classification_report(y_test,pred))\n",
        "print(confusion_matrix(y_test,pred))\n",
        "fpr,tpr,thresh = roc_curve(y_test,pred)\n",
        "roc_auc = auc(fpr,tpr)"
      ],
      "execution_count": 46,
      "outputs": [
        {
          "output_type": "stream",
          "text": [
            "              precision    recall  f1-score   support\n",
            "\n",
            "           0       0.99      1.00      1.00     44302\n",
            "           1       0.00      0.00      0.00       405\n",
            "\n",
            "    accuracy                           0.99     44707\n",
            "   macro avg       0.50      0.50      0.50     44707\n",
            "weighted avg       0.98      0.99      0.99     44707\n",
            "\n",
            "[[44302     0]\n",
            " [  405     0]]\n"
          ],
          "name": "stdout"
        },
        {
          "output_type": "stream",
          "text": [
            "/usr/local/lib/python3.6/dist-packages/sklearn/metrics/_classification.py:1272: UndefinedMetricWarning: Precision and F-score are ill-defined and being set to 0.0 in labels with no predicted samples. Use `zero_division` parameter to control this behavior.\n",
            "  _warn_prf(average, modifier, msg_start, len(result))\n"
          ],
          "name": "stderr"
        }
      ]
    },
    {
      "cell_type": "code",
      "metadata": {
        "id": "PTsCbjGrjpuz",
        "colab_type": "code",
        "colab": {
          "base_uri": "https://localhost:8080/",
          "height": 283
        },
        "outputId": "407717f0-9a44-4458-efcb-d0067fa365f7"
      },
      "source": [
        "plt.plot(fpr, tpr, 'b', label = 'AUC = %0.2f' % roc_auc)\n",
        "plt.legend(loc = 'lower right')\n",
        "plt.plot([0, 1], [0, 1],'r--')\n",
        "plt.xlim([0, 1])\n",
        "plt.ylim([0, 1])\n",
        "plt.ylabel('True Positive Rate')\n",
        "plt.xlabel('False Positive Rate')\n",
        "plt.show()"
      ],
      "execution_count": 47,
      "outputs": [
        {
          "output_type": "display_data",
          "data": {
            "image/png": "[encoded data removed]",
            "text/plain": [
              "<Figure size 432x288 with 1 Axes>"
            ]
          },
          "metadata": {
            "tags": [],
            "needs_background": "light"
          }
        }
      ]
    },
    {
      "cell_type": "code",
      "metadata": {
        "id": "G4fk_baY3t7y",
        "colab_type": "code",
        "colab": {
          "base_uri": "https://localhost:8080/",
          "height": 419
        },
        "outputId": "c38c09df-41cf-42a5-b63f-a9d81738237a"
      },
      "source": [
        "train"
      ],
      "execution_count": null,
      "outputs": [
        {
          "output_type": "execute_result",
          "data": {
            "text/html": [
              "<div>\n",
              "<style scoped>\n",
              "    .dataframe tbody tr th:only-of-type {\n",
              "        vertical-align: middle;\n",
              "    }\n",
              "\n",
              "    .dataframe tbody tr th {\n",
              "        vertical-align: top;\n",
              "    }\n",
              "\n",
              "    .dataframe thead th {\n",
              "        text-align: right;\n",
              "    }\n",
              "</style>\n",
              "<table border=\"1\" class=\"dataframe\">\n",
              "  <thead>\n",
              "    <tr style=\"text-align: right;\">\n",
              "      <th></th>\n",
              "      <th>id</th>\n",
              "      <th>comment_text</th>\n",
              "      <th>toxic</th>\n",
              "      <th>severe_toxic</th>\n",
              "      <th>obscene</th>\n",
              "      <th>threat</th>\n",
              "      <th>insult</th>\n",
              "      <th>identity_hate</th>\n",
              "    </tr>\n",
              "  </thead>\n",
              "  <tbody>\n",
              "    <tr>\n",
              "      <th>0</th>\n",
              "      <td>0000997932d777bf</td>\n",
              "      <td>Explanation Why the edits made under my userna...</td>\n",
              "      <td>0</td>\n",
              "      <td>0</td>\n",
              "      <td>0</td>\n",
              "      <td>0</td>\n",
              "      <td>0</td>\n",
              "      <td>0</td>\n",
              "    </tr>\n",
              "    <tr>\n",
              "      <th>1</th>\n",
              "      <td>000103f0d9cfb60f</td>\n",
              "      <td>Daww He matches this background colour Im seem...</td>\n",
              "      <td>0</td>\n",
              "      <td>0</td>\n",
              "      <td>0</td>\n",
              "      <td>0</td>\n",
              "      <td>0</td>\n",
              "      <td>0</td>\n",
              "    </tr>\n",
              "    <tr>\n",
              "      <th>2</th>\n",
              "      <td>000113f07ec002fd</td>\n",
              "      <td>Hey man Im really not trying to edit war Its j...</td>\n",
              "      <td>0</td>\n",
              "      <td>0</td>\n",
              "      <td>0</td>\n",
              "      <td>0</td>\n",
              "      <td>0</td>\n",
              "      <td>0</td>\n",
              "    </tr>\n",
              "    <tr>\n",
              "      <th>3</th>\n",
              "      <td>0001b41b1c6bb37e</td>\n",
              "      <td>More I cant make any real suggestions on impr...</td>\n",
              "      <td>0</td>\n",
              "      <td>0</td>\n",
              "      <td>0</td>\n",
              "      <td>0</td>\n",
              "      <td>0</td>\n",
              "      <td>0</td>\n",
              "    </tr>\n",
              "    <tr>\n",
              "      <th>4</th>\n",
              "      <td>0001d958c54c6e35</td>\n",
              "      <td>You sir are my hero Any chance you remember wh...</td>\n",
              "      <td>0</td>\n",
              "      <td>0</td>\n",
              "      <td>0</td>\n",
              "      <td>0</td>\n",
              "      <td>0</td>\n",
              "      <td>0</td>\n",
              "    </tr>\n",
              "    <tr>\n",
              "      <th>...</th>\n",
              "      <td>...</td>\n",
              "      <td>...</td>\n",
              "      <td>...</td>\n",
              "      <td>...</td>\n",
              "      <td>...</td>\n",
              "      <td>...</td>\n",
              "      <td>...</td>\n",
              "      <td>...</td>\n",
              "    </tr>\n",
              "    <tr>\n",
              "      <th>223544</th>\n",
              "      <td>fff8f64043129fa2</td>\n",
              "      <td>Jerome I see you never got around to this… I’m...</td>\n",
              "      <td>0</td>\n",
              "      <td>0</td>\n",
              "      <td>0</td>\n",
              "      <td>0</td>\n",
              "      <td>0</td>\n",
              "      <td>0</td>\n",
              "    </tr>\n",
              "    <tr>\n",
              "      <th>223545</th>\n",
              "      <td>fff9d70fe0722906</td>\n",
              "      <td>Lucky bastard Heh you are famous now I kida en...</td>\n",
              "      <td>0</td>\n",
              "      <td>0</td>\n",
              "      <td>0</td>\n",
              "      <td>0</td>\n",
              "      <td>0</td>\n",
              "      <td>0</td>\n",
              "    </tr>\n",
              "    <tr>\n",
              "      <th>223546</th>\n",
              "      <td>fffa8a11c4378854</td>\n",
              "      <td>shame on you all You want to speak about gays ...</td>\n",
              "      <td>0</td>\n",
              "      <td>0</td>\n",
              "      <td>0</td>\n",
              "      <td>0</td>\n",
              "      <td>0</td>\n",
              "      <td>0</td>\n",
              "    </tr>\n",
              "    <tr>\n",
              "      <th>223547</th>\n",
              "      <td>fffac2a094c8e0e2</td>\n",
              "      <td>MEL GIBSON IS A NAZI BITCH WHO MAKES SHITTY MO...</td>\n",
              "      <td>1</td>\n",
              "      <td>0</td>\n",
              "      <td>1</td>\n",
              "      <td>0</td>\n",
              "      <td>1</td>\n",
              "      <td>0</td>\n",
              "    </tr>\n",
              "    <tr>\n",
              "      <th>223548</th>\n",
              "      <td>fffb5451268fb5ba</td>\n",
              "      <td>Unicorn lair discovery Supposedly a unicorn l...</td>\n",
              "      <td>0</td>\n",
              "      <td>0</td>\n",
              "      <td>0</td>\n",
              "      <td>0</td>\n",
              "      <td>0</td>\n",
              "      <td>0</td>\n",
              "    </tr>\n",
              "  </tbody>\n",
              "</table>\n",
              "<p>223534 rows × 8 columns</p>\n",
              "</div>"
            ],
            "text/plain": [
              "                      id  ... identity_hate\n",
              "0       0000997932d777bf  ...             0\n",
              "1       000103f0d9cfb60f  ...             0\n",
              "2       000113f07ec002fd  ...             0\n",
              "3       0001b41b1c6bb37e  ...             0\n",
              "4       0001d958c54c6e35  ...             0\n",
              "...                  ...  ...           ...\n",
              "223544  fff8f64043129fa2  ...             0\n",
              "223545  fff9d70fe0722906  ...             0\n",
              "223546  fffa8a11c4378854  ...             0\n",
              "223547  fffac2a094c8e0e2  ...             0\n",
              "223548  fffb5451268fb5ba  ...             0\n",
              "\n",
              "[223534 rows x 8 columns]"
            ]
          },
          "metadata": {
            "tags": []
          },
          "execution_count": 7
        }
      ]
    },
    {
      "cell_type": "code",
      "metadata": {
        "id": "tOuvHl0y3vMG",
        "colab_type": "code",
        "colab": {
          "base_uri": "https://localhost:8080/",
          "height": 419
        },
        "outputId": "2d1efa61-6f5c-4ee3-9449-e576c1448d26"
      },
      "source": [
        "train['comment_text'] = cz\n",
        "train"
      ],
      "execution_count": null,
      "outputs": [
        {
          "output_type": "execute_result",
          "data": {
            "text/html": [
              "<div>\n",
              "<style scoped>\n",
              "    .dataframe tbody tr th:only-of-type {\n",
              "        vertical-align: middle;\n",
              "    }\n",
              "\n",
              "    .dataframe tbody tr th {\n",
              "        vertical-align: top;\n",
              "    }\n",
              "\n",
              "    .dataframe thead th {\n",
              "        text-align: right;\n",
              "    }\n",
              "</style>\n",
              "<table border=\"1\" class=\"dataframe\">\n",
              "  <thead>\n",
              "    <tr style=\"text-align: right;\">\n",
              "      <th></th>\n",
              "      <th>id</th>\n",
              "      <th>comment_text</th>\n",
              "      <th>toxic</th>\n",
              "      <th>severe_toxic</th>\n",
              "      <th>obscene</th>\n",
              "      <th>threat</th>\n",
              "      <th>insult</th>\n",
              "      <th>identity_hate</th>\n",
              "    </tr>\n",
              "  </thead>\n",
              "  <tbody>\n",
              "    <tr>\n",
              "      <th>0</th>\n",
              "      <td>0000997932d777bf</td>\n",
              "      <td>101456</td>\n",
              "      <td>0</td>\n",
              "      <td>0</td>\n",
              "      <td>0</td>\n",
              "      <td>0</td>\n",
              "      <td>0</td>\n",
              "      <td>0</td>\n",
              "    </tr>\n",
              "    <tr>\n",
              "      <th>1</th>\n",
              "      <td>000103f0d9cfb60f</td>\n",
              "      <td>96303</td>\n",
              "      <td>0</td>\n",
              "      <td>0</td>\n",
              "      <td>0</td>\n",
              "      <td>0</td>\n",
              "      <td>0</td>\n",
              "      <td>0</td>\n",
              "    </tr>\n",
              "    <tr>\n",
              "      <th>2</th>\n",
              "      <td>000113f07ec002fd</td>\n",
              "      <td>110961</td>\n",
              "      <td>0</td>\n",
              "      <td>0</td>\n",
              "      <td>0</td>\n",
              "      <td>0</td>\n",
              "      <td>0</td>\n",
              "      <td>0</td>\n",
              "    </tr>\n",
              "    <tr>\n",
              "      <th>3</th>\n",
              "      <td>0001b41b1c6bb37e</td>\n",
              "      <td>36656</td>\n",
              "      <td>0</td>\n",
              "      <td>0</td>\n",
              "      <td>0</td>\n",
              "      <td>0</td>\n",
              "      <td>0</td>\n",
              "      <td>0</td>\n",
              "    </tr>\n",
              "    <tr>\n",
              "      <th>4</th>\n",
              "      <td>0001d958c54c6e35</td>\n",
              "      <td>202984</td>\n",
              "      <td>0</td>\n",
              "      <td>0</td>\n",
              "      <td>0</td>\n",
              "      <td>0</td>\n",
              "      <td>0</td>\n",
              "      <td>0</td>\n",
              "    </tr>\n",
              "    <tr>\n",
              "      <th>...</th>\n",
              "      <td>...</td>\n",
              "      <td>...</td>\n",
              "      <td>...</td>\n",
              "      <td>...</td>\n",
              "      <td>...</td>\n",
              "      <td>...</td>\n",
              "      <td>...</td>\n",
              "      <td>...</td>\n",
              "    </tr>\n",
              "    <tr>\n",
              "      <th>223544</th>\n",
              "      <td>fff8f64043129fa2</td>\n",
              "      <td>136111</td>\n",
              "      <td>0</td>\n",
              "      <td>0</td>\n",
              "      <td>0</td>\n",
              "      <td>0</td>\n",
              "      <td>0</td>\n",
              "      <td>0</td>\n",
              "    </tr>\n",
              "    <tr>\n",
              "      <th>223545</th>\n",
              "      <td>fff9d70fe0722906</td>\n",
              "      <td>140114</td>\n",
              "      <td>0</td>\n",
              "      <td>0</td>\n",
              "      <td>0</td>\n",
              "      <td>0</td>\n",
              "      <td>0</td>\n",
              "      <td>0</td>\n",
              "    </tr>\n",
              "    <tr>\n",
              "      <th>223546</th>\n",
              "      <td>fffa8a11c4378854</td>\n",
              "      <td>216907</td>\n",
              "      <td>0</td>\n",
              "      <td>0</td>\n",
              "      <td>0</td>\n",
              "      <td>0</td>\n",
              "      <td>0</td>\n",
              "      <td>0</td>\n",
              "    </tr>\n",
              "    <tr>\n",
              "      <th>223547</th>\n",
              "      <td>fffac2a094c8e0e2</td>\n",
              "      <td>140258</td>\n",
              "      <td>1</td>\n",
              "      <td>0</td>\n",
              "      <td>1</td>\n",
              "      <td>0</td>\n",
              "      <td>1</td>\n",
              "      <td>0</td>\n",
              "    </tr>\n",
              "    <tr>\n",
              "      <th>223548</th>\n",
              "      <td>fffb5451268fb5ba</td>\n",
              "      <td>61841</td>\n",
              "      <td>0</td>\n",
              "      <td>0</td>\n",
              "      <td>0</td>\n",
              "      <td>0</td>\n",
              "      <td>0</td>\n",
              "      <td>0</td>\n",
              "    </tr>\n",
              "  </tbody>\n",
              "</table>\n",
              "<p>223534 rows × 8 columns</p>\n",
              "</div>"
            ],
            "text/plain": [
              "                      id  comment_text  toxic  ...  threat  insult  identity_hate\n",
              "0       0000997932d777bf        101456      0  ...       0       0              0\n",
              "1       000103f0d9cfb60f         96303      0  ...       0       0              0\n",
              "2       000113f07ec002fd        110961      0  ...       0       0              0\n",
              "3       0001b41b1c6bb37e         36656      0  ...       0       0              0\n",
              "4       0001d958c54c6e35        202984      0  ...       0       0              0\n",
              "...                  ...           ...    ...  ...     ...     ...            ...\n",
              "223544  fff8f64043129fa2        136111      0  ...       0       0              0\n",
              "223545  fff9d70fe0722906        140114      0  ...       0       0              0\n",
              "223546  fffa8a11c4378854        216907      0  ...       0       0              0\n",
              "223547  fffac2a094c8e0e2        140258      1  ...       0       1              0\n",
              "223548  fffb5451268fb5ba         61841      0  ...       0       0              0\n",
              "\n",
              "[223534 rows x 8 columns]"
            ]
          },
          "metadata": {
            "tags": []
          },
          "execution_count": 8
        }
      ]
    }
  ]
}