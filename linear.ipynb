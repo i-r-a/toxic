{
  "nbformat": 4,
  "nbformat_minor": 0,
  "metadata": {
    "colab": {
      "name": "Untitled2.ipynb",
      "provenance": [],
      "collapsed_sections": [],
      "authorship_tag": "ABX9TyMPNoRnN9/nF+Hm9yipbWLs",
      "include_colab_link": true
    },
    "kernelspec": {
      "name": "python3",
      "display_name": "Python 3"
    }
  },
  "cells": [
    {
      "cell_type": "markdown",
      "metadata": {
        "id": "view-in-github",
        "colab_type": "text"
      },
      "source": [
        "<a href=\"https://colab.research.google.com/github/i-r-a/toxic/blob/master/linear.ipynb\" target=\"_parent\"><img src=\"https://colab.research.google.com/assets/colab-badge.svg\" alt=\"Open In Colab\"/></a>"
      ]
    },
    {
      "cell_type": "code",
      "metadata": {
        "id": "2cT8-4eu0DRP",
        "colab_type": "code",
        "colab": {}
      },
      "source": [
        "import os\n",
        "import io\n",
        "import matplotlib as mpl\n",
        "import matplotlib.pyplot as plt\n",
        "from IPython.display import display\n",
        "%matplotlib inline\n",
        "\n",
        "import pandas as pd\n",
        "import numpy as np\n",
        "from sklearn.model_selection import train_test_split\n",
        "from sklearn.metrics import accuracy_score\n",
        "from sklearn.metrics import confusion_matrix\n",
        "from sklearn import preprocessing\n",
        "from sklearn import metrics\n",
        "from sklearn.linear_model import LinearRegression\n",
        "from sklearn.feature_extraction.text import TfidfVectorizer\n",
        "from nltk.corpus import stopwords\n",
        "import seaborn as sns"
      ],
      "execution_count": 15,
      "outputs": []
    },
    {
      "cell_type": "code",
      "metadata": {
        "id": "Cv9Z7hS50bNB",
        "colab_type": "code",
        "colab": {
          "base_uri": "https://localhost:8080/",
          "height": 122
        },
        "outputId": "b5856ee3-044b-4334-9c69-2da5892218f1"
      },
      "source": [
        "from google.colab import drive\n",
        "drive.mount('/content/drive')"
      ],
      "execution_count": 2,
      "outputs": [
        {
          "output_type": "stream",
          "text": [
            "Go to this URL in a browser: https://accounts.google.com/o/oauth2/auth?client_id=947318989803-6bn6qk8qdgf4n4g3pfee6491hc0brc4i.apps.googleusercontent.com&redirect_uri=urn%3aietf%3awg%3aoauth%3a2.0%3aoob&response_type=code&scope=email%20https%3a%2f%2fwww.googleapis.com%2fauth%2fdocs.test%20https%3a%2f%2fwww.googleapis.com%2fauth%2fdrive%20https%3a%2f%2fwww.googleapis.com%2fauth%2fdrive.photos.readonly%20https%3a%2f%2fwww.googleapis.com%2fauth%2fpeopleapi.readonly\n",
            "\n",
            "Enter your authorization code:\n",
            "··········\n",
            "Mounted at /content/drive\n"
          ],
          "name": "stdout"
        }
      ]
    },
    {
      "cell_type": "code",
      "metadata": {
        "id": "mB1XE5Ry1Vej",
        "colab_type": "code",
        "colab": {}
      },
      "source": [
        "train = pd.read_csv('drive/My Drive/clean_data.csv')"
      ],
      "execution_count": 3,
      "outputs": []
    },
    {
      "cell_type": "code",
      "metadata": {
        "id": "GiKRPc0i18qM",
        "colab_type": "code",
        "colab": {}
      },
      "source": [
        "train.drop([53787,64904,76037,106891,141293,163251,\n",
        "168946,\n",
        "178686,\n",
        "193979,\n",
        "200638,\n",
        "202961,\n",
        "204721,\n",
        "210601,\n",
        "213685,\n",
        "217810],inplace=True)"
      ],
      "execution_count": 4,
      "outputs": []
    },
    {
      "cell_type": "code",
      "metadata": {
        "id": "-GD5p9f-A7-z",
        "colab_type": "code",
        "colab": {}
      },
      "source": [
        "le = preprocessing.LabelEncoder()\n",
        "cz = le.fit_transform(train.comment_text)"
      ],
      "execution_count": 8,
      "outputs": []
    },
    {
      "cell_type": "code",
      "metadata": {
        "id": "A2eeGQMX1lkp",
        "colab_type": "code",
        "colab": {}
      },
      "source": [
        "y_columns = \"toxic\""
      ],
      "execution_count": 9,
      "outputs": []
    },
    {
      "cell_type": "code",
      "metadata": {
        "id": "BOZpQ86y1wH8",
        "colab_type": "code",
        "colab": {}
      },
      "source": [
        "y = train[y_columns]\n",
        "x = cz\n",
        "x_train, x_test, y_train, y_test = train_test_split(x, y, train_size=0.8, random_state=300)"
      ],
      "execution_count": 10,
      "outputs": []
    },
    {
      "cell_type": "code",
      "metadata": {
        "id": "lITfTVKa4ZGv",
        "colab_type": "code",
        "colab": {
          "base_uri": "https://localhost:8080/",
          "height": 221
        },
        "outputId": "8aa9ae2c-9bac-453c-e227-52311f637046"
      },
      "source": [
        "x_train,y_train"
      ],
      "execution_count": 11,
      "outputs": [
        {
          "output_type": "execute_result",
          "data": {
            "text/plain": [
              "(array([  2434, 203820,  90921, ..., 160558, 126719,   4174]), 50459     0\n",
              " 102570    0\n",
              " 6659      0\n",
              " 90824     0\n",
              " 212885    0\n",
              "          ..\n",
              " 7146      0\n",
              " 169681    0\n",
              " 60310     0\n",
              " 203244    1\n",
              " 50385     0\n",
              " Name: toxic, Length: 178827, dtype: int64)"
            ]
          },
          "metadata": {
            "tags": []
          },
          "execution_count": 11
        }
      ]
    },
    {
      "cell_type": "code",
      "metadata": {
        "id": "VfsZy5B-6EFc",
        "colab_type": "code",
        "colab": {}
      },
      "source": [
        "x_train = x_train.reshape(-1,1)"
      ],
      "execution_count": 12,
      "outputs": []
    },
    {
      "cell_type": "code",
      "metadata": {
        "id": "BUXv6ZWTBS5Q",
        "colab_type": "code",
        "colab": {
          "base_uri": "https://localhost:8080/",
          "height": 34
        },
        "outputId": "dc39b641-e24c-490e-87b1-848dec50ed13"
      },
      "source": [
        "LIN = LinearRegression()\n",
        "LIN.fit(x_train, y_train)"
      ],
      "execution_count": 13,
      "outputs": [
        {
          "output_type": "execute_result",
          "data": {
            "text/plain": [
              "LinearRegression(copy_X=True, fit_intercept=True, n_jobs=None, normalize=False)"
            ]
          },
          "metadata": {
            "tags": []
          },
          "execution_count": 13
        }
      ]
    },
    {
      "cell_type": "code",
      "metadata": {
        "id": "ibAlXSffBVPE",
        "colab_type": "code",
        "colab": {}
      },
      "source": [
        "x_test = x_test.reshape(-1,1)\n",
        "y_pred = LIN.predict(x_train)\n",
        "y_pred2 = LIN.predict(x_test)\n"
      ],
      "execution_count": 14,
      "outputs": []
    },
    {
      "cell_type": "code",
      "metadata": {
        "id": "V8FOi2Y0BXRi",
        "colab_type": "code",
        "colab": {
          "base_uri": "https://localhost:8080/",
          "height": 153
        },
        "outputId": "92ff7ba5-7dbe-46a5-e0ba-de9e3059bd4b"
      },
      "source": [
        "print(\"Train MAE: \")\n",
        "print(metrics.mean_absolute_error(y_train,y_pred))\n",
        "print()\n",
        "print(\"Test MAE: \")\n",
        "print(metrics.mean_absolute_error(y_test,y_pred2))\n",
        "print()\n",
        "print(\"Test MSE: \")\n",
        "print(np.sqrt(metrics.mean_squared_error(y_test,y_pred2)))"
      ],
      "execution_count": 18,
      "outputs": [
        {
          "output_type": "stream",
          "text": [
            "Train MAE: \n",
            "0.17088284958018007\n",
            "\n",
            "Test MAE: \n",
            "0.1695663878364376\n",
            "\n",
            "Test MSE: \n",
            "0.2900735877586742\n"
          ],
          "name": "stdout"
        }
      ]
    },
    {
      "cell_type": "code",
      "metadata": {
        "id": "N8l59VbEBpcV",
        "colab_type": "code",
        "colab": {
          "base_uri": "https://localhost:8080/",
          "height": 153
        },
        "outputId": "c3665c30-aa87-4940-ccbc-e3dbac1834ec"
      },
      "source": [
        "y_columns = \"severe_toxic\"\n",
        "y = train[y_columns]\n",
        "x_train, x_test, y_train, y_test = train_test_split(x, y, train_size=0.8, random_state=300)\n",
        "x_train = x_train.reshape(-1,1)\n",
        "LIN = LinearRegression()\n",
        "LIN.fit(x_train, y_train)\n",
        "x_test = x_test.reshape(-1,1)\n",
        "y_pred = LIN.predict(x_train)\n",
        "y_pred2 = LIN.predict(x_test)\n",
        "print(\"Train MAE: \")\n",
        "print(metrics.mean_absolute_error(y_train,y_pred))\n",
        "print()\n",
        "print(\"Test MAE: \")\n",
        "print(metrics.mean_absolute_error(y_test,y_pred2))\n",
        "print()\n",
        "print(\"Test MSE: \")\n",
        "print(np.sqrt(metrics.mean_squared_error(y_test,y_pred2)))"
      ],
      "execution_count": 19,
      "outputs": [
        {
          "output_type": "stream",
          "text": [
            "Train MAE: \n",
            "0.016947969170342116\n",
            "\n",
            "Test MAE: \n",
            "0.017973584579362878\n",
            "\n",
            "Test MSE: \n",
            "0.09747961912780906\n"
          ],
          "name": "stdout"
        }
      ]
    },
    {
      "cell_type": "code",
      "metadata": {
        "id": "q90VXoU4DJfd",
        "colab_type": "code",
        "colab": {
          "base_uri": "https://localhost:8080/",
          "height": 153
        },
        "outputId": "ae9904c9-c928-49a6-ffcf-6730424b911f"
      },
      "source": [
        "y_columns = \"obscene\"\n",
        "y = train[y_columns]\n",
        "x_train, x_test, y_train, y_test = train_test_split(x, y, train_size=0.8, random_state=300)\n",
        "x_train = x_train.reshape(-1,1)\n",
        "LIN = LinearRegression()\n",
        "LIN.fit(x_train, y_train)\n",
        "x_test = x_test.reshape(-1,1)\n",
        "y_pred = LIN.predict(x_train)\n",
        "y_pred2 = LIN.predict(x_test)\n",
        "print(\"Train MAE: \")\n",
        "print(metrics.mean_absolute_error(y_train,y_pred))\n",
        "print()\n",
        "print(\"Test MAE: \")\n",
        "print(metrics.mean_absolute_error(y_test,y_pred2))\n",
        "print()\n",
        "print(\"Test MSE: \")\n",
        "print(np.sqrt(metrics.mean_squared_error(y_test,y_pred2)))"
      ],
      "execution_count": 20,
      "outputs": [
        {
          "output_type": "stream",
          "text": [
            "Train MAE: \n",
            "0.10237608841078746\n",
            "\n",
            "Test MAE: \n",
            "0.10091781605579937\n",
            "\n",
            "Test MSE: \n",
            "0.22302764432217032\n"
          ],
          "name": "stdout"
        }
      ]
    },
    {
      "cell_type": "code",
      "metadata": {
        "id": "IadrrMWiDM8T",
        "colab_type": "code",
        "colab": {
          "base_uri": "https://localhost:8080/",
          "height": 153
        },
        "outputId": "7b8e397a-4717-4c3b-e1cc-5a9a1ff9bf86"
      },
      "source": [
        "y_columns = \"threat\"\n",
        "y = train[y_columns]\n",
        "x_train, x_test, y_train, y_test = train_test_split(x, y, train_size=0.8, random_state=300)\n",
        "x_train = x_train.reshape(-1,1)\n",
        "LIN = LinearRegression()\n",
        "LIN.fit(x_train, y_train)\n",
        "x_test = x_test.reshape(-1,1)\n",
        "y_pred = LIN.predict(x_train)\n",
        "y_pred2 = LIN.predict(x_test)\n",
        "print(\"Train MAE: \")\n",
        "print(metrics.mean_absolute_error(y_train,y_pred))\n",
        "print()\n",
        "print(\"Test MAE: \")\n",
        "print(metrics.mean_absolute_error(y_test,y_pred2))\n",
        "print()\n",
        "print(\"Test MSE: \")\n",
        "print(np.sqrt(metrics.mean_squared_error(y_test,y_pred2)))"
      ],
      "execution_count": 21,
      "outputs": [
        {
          "output_type": "stream",
          "text": [
            "Train MAE: \n",
            "0.006118083181715099\n",
            "\n",
            "Test MAE: \n",
            "0.00617771448929243\n",
            "\n",
            "Test MSE: \n",
            "0.05585189090279451\n"
          ],
          "name": "stdout"
        }
      ]
    },
    {
      "cell_type": "code",
      "metadata": {
        "id": "rGG2ijLXDSJx",
        "colab_type": "code",
        "colab": {
          "base_uri": "https://localhost:8080/",
          "height": 153
        },
        "outputId": "750163de-36d9-4be7-8738-b9d66064b7f1"
      },
      "source": [
        "y_columns = \"insult\"\n",
        "y = train[y_columns]\n",
        "x_train, x_test, y_train, y_test = train_test_split(x, y, train_size=0.8, random_state=300)\n",
        "x_train = x_train.reshape(-1,1)\n",
        "LIN = LinearRegression()\n",
        "LIN.fit(x_train, y_train)\n",
        "x_test = x_test.reshape(-1,1)\n",
        "y_pred = LIN.predict(x_train)\n",
        "y_pred2 = LIN.predict(x_test)\n",
        "print(\"Train MAE: \")\n",
        "print(metrics.mean_absolute_error(y_train,y_pred))\n",
        "print()\n",
        "print(\"Test MAE: \")\n",
        "print(metrics.mean_absolute_error(y_test,y_pred2))\n",
        "print()\n",
        "print(\"Test MSE: \")\n",
        "print(np.sqrt(metrics.mean_squared_error(y_test,y_pred2)))"
      ],
      "execution_count": 22,
      "outputs": [
        {
          "output_type": "stream",
          "text": [
            "Train MAE: \n",
            "0.0954625616510162\n",
            "\n",
            "Test MAE: \n",
            "0.09442487215664988\n",
            "\n",
            "Test MSE: \n",
            "0.2161144103313393\n"
          ],
          "name": "stdout"
        }
      ]
    },
    {
      "cell_type": "code",
      "metadata": {
        "id": "XQuGF0r1DTnE",
        "colab_type": "code",
        "colab": {
          "base_uri": "https://localhost:8080/",
          "height": 153
        },
        "outputId": "e62141fc-9b8e-438b-99c5-f29b93ed20f2"
      },
      "source": [
        "y_columns = \"identity_hate\"\n",
        "y = train[y_columns]\n",
        "x_train, x_test, y_train, y_test = train_test_split(x, y, train_size=0.8, random_state=300)\n",
        "x_train = x_train.reshape(-1,1)\n",
        "LIN = LinearRegression()\n",
        "LIN.fit(x_train, y_train)\n",
        "x_test = x_test.reshape(-1,1)\n",
        "y_pred = LIN.predict(x_train)\n",
        "y_pred2 = LIN.predict(x_test)\n",
        "print(\"Train MAE: \")\n",
        "print(metrics.mean_absolute_error(y_train,y_pred))\n",
        "print()\n",
        "print(\"Test MAE: \")\n",
        "print(metrics.mean_absolute_error(y_test,y_pred2))\n",
        "print()\n",
        "print(\"Test MSE: \")\n",
        "print(np.sqrt(metrics.mean_squared_error(y_test,y_pred2)))"
      ],
      "execution_count": 23,
      "outputs": [
        {
          "output_type": "stream",
          "text": [
            "Train MAE: \n",
            "0.018928416442130766\n",
            "\n",
            "Test MAE: \n",
            "0.018422149594094432\n",
            "\n",
            "Test MSE: \n",
            "0.09465979980338887\n"
          ],
          "name": "stdout"
        }
      ]
    }
  ]
}