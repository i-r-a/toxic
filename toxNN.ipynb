{
  "nbformat": 4,
  "nbformat_minor": 0,
  "metadata": {
    "colab": {
      "name": "toxNN.ipynb",
      "provenance": [],
      "collapsed_sections": [],
      "authorship_tag": "ABX9TyNvWPePi0yHRj7HjMmzfz/k",
      "include_colab_link": true
    },
    "kernelspec": {
      "name": "python3",
      "display_name": "Python 3"
    }
  },
  "cells": [
    {
      "cell_type": "markdown",
      "metadata": {
        "id": "view-in-github",
        "colab_type": "text"
      },
      "source": [
        "<a href=\"https://colab.research.google.com/github/i-r-a/toxic/blob/master/toxNN.ipynb\" target=\"_parent\"><img src=\"https://colab.research.google.com/assets/colab-badge.svg\" alt=\"Open In Colab\"/></a>"
      ]
    },
    {
      "cell_type": "code",
      "metadata": {
        "id": "i2wdc1EsDuvB",
        "colab_type": "code",
        "colab": {
          "base_uri": "https://localhost:8080/",
          "height": 88
        },
        "outputId": "31cce41f-4edb-4c83-bf50-79b411b8a699"
      },
      "source": [
        "import os\n",
        "import io\n",
        "import matplotlib as mpl\n",
        "import matplotlib.pyplot as plt\n",
        "from IPython.display import display\n",
        "%matplotlib inline\n",
        "\n",
        "import pandas as pd\n",
        "import numpy as np\n",
        "from sklearn.model_selection import train_test_split\n",
        "from sklearn.feature_extraction.text import CountVectorizer\n",
        "from sklearn.metrics import accuracy_score\n",
        "from sklearn.metrics import confusion_matrix\n",
        "from sklearn import preprocessing\n",
        "from sklearn import metrics\n",
        "from keras import Sequential\n",
        "from keras import layers\n",
        "from nltk.corpus import stopwords\n",
        "import seaborn as sns"
      ],
      "execution_count": 1,
      "outputs": [
        {
          "output_type": "stream",
          "text": [
            "Using TensorFlow backend.\n",
            "/usr/local/lib/python3.6/dist-packages/statsmodels/tools/_testing.py:19: FutureWarning: pandas.util.testing is deprecated. Use the functions in the public API at pandas.testing instead.\n",
            "  import pandas.util.testing as tm\n"
          ],
          "name": "stderr"
        }
      ]
    },
    {
      "cell_type": "code",
      "metadata": {
        "id": "oMYpvveuDzrQ",
        "colab_type": "code",
        "colab": {
          "base_uri": "https://localhost:8080/",
          "height": 122
        },
        "outputId": "40e412bc-e157-4905-913d-de88823331bf"
      },
      "source": [
        "from google.colab import drive\n",
        "drive.mount('/content/drive')"
      ],
      "execution_count": 2,
      "outputs": [
        {
          "output_type": "stream",
          "text": [
            "Go to this URL in a browser: https://accounts.google.com/o/oauth2/auth?client_id=947318989803-6bn6qk8qdgf4n4g3pfee6491hc0brc4i.apps.googleusercontent.com&redirect_uri=urn%3aietf%3awg%3aoauth%3a2.0%3aoob&response_type=code&scope=email%20https%3a%2f%2fwww.googleapis.com%2fauth%2fdocs.test%20https%3a%2f%2fwww.googleapis.com%2fauth%2fdrive%20https%3a%2f%2fwww.googleapis.com%2fauth%2fdrive.photos.readonly%20https%3a%2f%2fwww.googleapis.com%2fauth%2fpeopleapi.readonly\n",
            "\n",
            "Enter your authorization code:\n",
            "··········\n",
            "Mounted at /content/drive\n"
          ],
          "name": "stdout"
        }
      ]
    },
    {
      "cell_type": "code",
      "metadata": {
        "id": "ZiXlJb8qEAVW",
        "colab_type": "code",
        "colab": {}
      },
      "source": [
        "train = pd.read_csv('drive/My Drive/new_clean_data.csv')"
      ],
      "execution_count": 3,
      "outputs": []
    },
    {
      "cell_type": "code",
      "metadata": {
        "id": "JpV0MepaEJnA",
        "colab_type": "code",
        "colab": {}
      },
      "source": [
        "y = train['toxic']\n",
        "x = train['comment_text']\n",
        "x_train, x_test, y_train, y_test = train_test_split(x, y, train_size=0.8, random_state=300)"
      ],
      "execution_count": 4,
      "outputs": []
    },
    {
      "cell_type": "code",
      "metadata": {
        "id": "FYCRGEhQErBU",
        "colab_type": "code",
        "colab": {
          "base_uri": "https://localhost:8080/",
          "height": 119
        },
        "outputId": "ab846d38-4101-41aa-cbaf-ef477006f7fd"
      },
      "source": [
        "vectorizer = CountVectorizer()\n",
        "vectorizer.fit(x_train)"
      ],
      "execution_count": 5,
      "outputs": [
        {
          "output_type": "execute_result",
          "data": {
            "text/plain": [
              "CountVectorizer(analyzer='word', binary=False, decode_error='strict',\n",
              "                dtype=<class 'numpy.int64'>, encoding='utf-8', input='content',\n",
              "                lowercase=True, max_df=1.0, max_features=None, min_df=1,\n",
              "                ngram_range=(1, 1), preprocessor=None, stop_words=None,\n",
              "                strip_accents=None, token_pattern='(?u)\\\\b\\\\w\\\\w+\\\\b',\n",
              "                tokenizer=None, vocabulary=None)"
            ]
          },
          "metadata": {
            "tags": []
          },
          "execution_count": 5
        }
      ]
    },
    {
      "cell_type": "code",
      "metadata": {
        "id": "vICca1nrFBdZ",
        "colab_type": "code",
        "colab": {}
      },
      "source": [
        "X_train = vectorizer.transform(x_train)\n",
        "X_test = vectorizer.transform(x_test)"
      ],
      "execution_count": 6,
      "outputs": []
    },
    {
      "cell_type": "code",
      "metadata": {
        "id": "VmjmudXJFQBo",
        "colab_type": "code",
        "colab": {}
      },
      "source": [
        "input_dim = X_train.shape[1]"
      ],
      "execution_count": 7,
      "outputs": []
    },
    {
      "cell_type": "code",
      "metadata": {
        "id": "dOf0AYPVFrY2",
        "colab_type": "code",
        "colab": {}
      },
      "source": [
        "model = Sequential()\n",
        "model.add(layers.Dense(10,input_dim = input_dim, activation='relu'))\n",
        "model.add(layers.Dense(1,activation='sigmoid'))"
      ],
      "execution_count": 8,
      "outputs": []
    },
    {
      "cell_type": "code",
      "metadata": {
        "id": "a68qMM1hF7M4",
        "colab_type": "code",
        "colab": {
          "base_uri": "https://localhost:8080/",
          "height": 221
        },
        "outputId": "3d0717c1-e1da-41db-f830-6765fbe7f856"
      },
      "source": [
        "model.compile(loss='binary_crossentropy',optimizer='adam',metrics=['accuracy'])\n",
        "model.summary()"
      ],
      "execution_count": 9,
      "outputs": [
        {
          "output_type": "stream",
          "text": [
            "Model: \"sequential_1\"\n",
            "_________________________________________________________________\n",
            "Layer (type)                 Output Shape              Param #   \n",
            "=================================================================\n",
            "dense_1 (Dense)              (None, 10)                2829100   \n",
            "_________________________________________________________________\n",
            "dense_2 (Dense)              (None, 1)                 11        \n",
            "=================================================================\n",
            "Total params: 2,829,111\n",
            "Trainable params: 2,829,111\n",
            "Non-trainable params: 0\n",
            "_________________________________________________________________\n"
          ],
          "name": "stdout"
        }
      ]
    },
    {
      "cell_type": "markdown",
      "metadata": {
        "id": "7eGvqzlIshlA",
        "colab_type": "text"
      },
      "source": [
        "##Toxic vs Non-toxic"
      ]
    },
    {
      "cell_type": "code",
      "metadata": {
        "id": "zfLJmqKRGLnc",
        "colab_type": "code",
        "colab": {}
      },
      "source": [
        "history = model.fit(X_train,y_train,epochs=3 ,verbose=False,validation_data=(X_test,y_test),batch_size=200)"
      ],
      "execution_count": 10,
      "outputs": []
    },
    {
      "cell_type": "code",
      "metadata": {
        "id": "dGyn8XxCGqq1",
        "colab_type": "code",
        "colab": {}
      },
      "source": [
        "loss, accuracy = model.evaluate(X_train, y_train, verbose=False)"
      ],
      "execution_count": 11,
      "outputs": []
    },
    {
      "cell_type": "code",
      "metadata": {
        "id": "KNbqRf4sZqdb",
        "colab_type": "code",
        "colab": {
          "base_uri": "https://localhost:8080/",
          "height": 34
        },
        "outputId": "3961e7a9-23f1-4b0c-ba31-4aa3a52ba8ec"
      },
      "source": [
        "print(accuracy)"
      ],
      "execution_count": 12,
      "outputs": [
        {
          "output_type": "stream",
          "text": [
            "0.9729238152503967\n"
          ],
          "name": "stdout"
        }
      ]
    },
    {
      "cell_type": "code",
      "metadata": {
        "id": "TmSmXFZJhtg4",
        "colab_type": "code",
        "colab": {}
      },
      "source": [
        "from sklearn.metrics import confusion_matrix, classification_report, roc_curve, auc"
      ],
      "execution_count": 13,
      "outputs": []
    },
    {
      "cell_type": "code",
      "metadata": {
        "id": "Vkmuop5Fhmf2",
        "colab_type": "code",
        "colab": {}
      },
      "source": [
        "predictions = model.predict(X_train)"
      ],
      "execution_count": 14,
      "outputs": []
    },
    {
      "cell_type": "code",
      "metadata": {
        "id": "4cVI7WR-luFe",
        "colab_type": "code",
        "colab": {}
      },
      "source": [
        "pred = []\n",
        "for elem in predictions:\n",
        "  pred.append(int(round(elem[0])))"
      ],
      "execution_count": 15,
      "outputs": []
    },
    {
      "cell_type": "code",
      "metadata": {
        "id": "ylYObuyWkj8C",
        "colab_type": "code",
        "colab": {
          "base_uri": "https://localhost:8080/",
          "height": 170
        },
        "outputId": "f6960f45-877d-45c9-fbbb-f715ec7e24c8"
      },
      "source": [
        "print(classification_report(y_train,pred))"
      ],
      "execution_count": 16,
      "outputs": [
        {
          "output_type": "stream",
          "text": [
            "              precision    recall  f1-score   support\n",
            "\n",
            "           0       0.98      1.00      0.99    161729\n",
            "           1       0.94      0.76      0.84     17063\n",
            "\n",
            "    accuracy                           0.97    178792\n",
            "   macro avg       0.96      0.88      0.91    178792\n",
            "weighted avg       0.97      0.97      0.97    178792\n",
            "\n"
          ],
          "name": "stdout"
        }
      ]
    },
    {
      "cell_type": "code",
      "metadata": {
        "id": "bFB0er10lwMA",
        "colab_type": "code",
        "colab": {
          "base_uri": "https://localhost:8080/",
          "height": 51
        },
        "outputId": "427d8912-fd33-475a-8a23-d3c20aaed16b"
      },
      "source": [
        "print(confusion_matrix(y_train,pred))"
      ],
      "execution_count": 17,
      "outputs": [
        {
          "output_type": "stream",
          "text": [
            "[[160923    806]\n",
            " [  4035  13028]]\n"
          ],
          "name": "stdout"
        }
      ]
    },
    {
      "cell_type": "code",
      "metadata": {
        "id": "yGyZ5YNSn_WD",
        "colab_type": "code",
        "colab": {}
      },
      "source": [
        "fpr,tpr,thresh = roc_curve(y_train,pred)"
      ],
      "execution_count": 18,
      "outputs": []
    },
    {
      "cell_type": "code",
      "metadata": {
        "id": "-nTZoUHkodtI",
        "colab_type": "code",
        "colab": {
          "base_uri": "https://localhost:8080/",
          "height": 68
        },
        "outputId": "65cb8412-e959-4540-83a1-7288f18e4095"
      },
      "source": [
        "roc_auc = auc(fpr,tpr)\n",
        "print(fpr)\n",
        "print(tpr)\n",
        "print(len(pred))"
      ],
      "execution_count": 19,
      "outputs": [
        {
          "output_type": "stream",
          "text": [
            "[0.         0.00498365 1.        ]\n",
            "[0.         0.76352341 1.        ]\n",
            "178792\n"
          ],
          "name": "stdout"
        }
      ]
    },
    {
      "cell_type": "code",
      "metadata": {
        "id": "kXomiLe9o7Ol",
        "colab_type": "code",
        "colab": {
          "base_uri": "https://localhost:8080/",
          "height": 283
        },
        "outputId": "7b653b16-bfd5-4354-c511-f052c5267220"
      },
      "source": [
        "plt.plot(fpr, tpr, 'b', label = 'AUC = %0.2f' % roc_auc)\n",
        "plt.legend(loc = 'lower right')\n",
        "plt.plot([0, 1], [0, 1],'r--')\n",
        "plt.xlim([0, 1])\n",
        "plt.ylim([0, 1])\n",
        "plt.ylabel('True Positive Rate')\n",
        "plt.xlabel('False Positive Rate')\n",
        "plt.show()\n"
      ],
      "execution_count": 20,
      "outputs": [
        {
          "output_type": "display_data",
          "data": {
            "image/png": "[encoded data removed]",
            "text/plain": [
              "<Figure size 432x288 with 1 Axes>"
            ]
          },
          "metadata": {
            "tags": [],
            "needs_background": "light"
          }
        }
      ]
    },
    {
      "cell_type": "code",
      "metadata": {
        "id": "Up3-MP4BZu4k",
        "colab_type": "code",
        "colab": {}
      },
      "source": [
        "loss, accuracy = model.evaluate(X_test, y_test, verbose=False)"
      ],
      "execution_count": 21,
      "outputs": []
    },
    {
      "cell_type": "code",
      "metadata": {
        "id": "7uJmuG1mZywC",
        "colab_type": "code",
        "colab": {
          "base_uri": "https://localhost:8080/",
          "height": 34
        },
        "outputId": "dc0029e9-584f-4e61-fae5-4b2fca7abdaf"
      },
      "source": [
        "print(accuracy)"
      ],
      "execution_count": 22,
      "outputs": [
        {
          "output_type": "stream",
          "text": [
            "0.9494608044624329\n"
          ],
          "name": "stdout"
        }
      ]
    },
    {
      "cell_type": "code",
      "metadata": {
        "id": "t43daTG6qizi",
        "colab_type": "code",
        "colab": {
          "base_uri": "https://localhost:8080/",
          "height": 204
        },
        "outputId": "eef8df29-b656-4f6f-bea7-3bacbadb8965"
      },
      "source": [
        "predictions = model.predict(X_test)\n",
        "pred = []\n",
        "for elem in predictions:\n",
        "  pred.append(int(round(elem[0])))\n",
        "print(classification_report(y_test,pred))\n",
        "print(confusion_matrix(y_test,pred))\n",
        "fpr,tpr,thresh = roc_curve(y_test,pred)\n",
        "roc_auc = auc(fpr,tpr)"
      ],
      "execution_count": 23,
      "outputs": [
        {
          "output_type": "stream",
          "text": [
            "              precision    recall  f1-score   support\n",
            "\n",
            "           0       0.96      0.99      0.97     40377\n",
            "           1       0.84      0.59      0.69      4321\n",
            "\n",
            "    accuracy                           0.95     44698\n",
            "   macro avg       0.90      0.79      0.83     44698\n",
            "weighted avg       0.95      0.95      0.95     44698\n",
            "\n",
            "[[39889   488]\n",
            " [ 1771  2550]]\n"
          ],
          "name": "stdout"
        }
      ]
    },
    {
      "cell_type": "code",
      "metadata": {
        "id": "R_oVIZc5q2dK",
        "colab_type": "code",
        "colab": {
          "base_uri": "https://localhost:8080/",
          "height": 283
        },
        "outputId": "fb9cf192-d73f-4412-ceb4-75867aea99ec"
      },
      "source": [
        "plt.plot(fpr, tpr, 'b', label = 'AUC = %0.2f' % roc_auc)\n",
        "plt.legend(loc = 'lower right')\n",
        "plt.plot([0, 1], [0, 1],'r--')\n",
        "plt.xlim([0, 1])\n",
        "plt.ylim([0, 1])\n",
        "plt.ylabel('True Positive Rate')\n",
        "plt.xlabel('False Positive Rate')\n",
        "plt.show()\n"
      ],
      "execution_count": 24,
      "outputs": [
        {
          "output_type": "display_data",
          "data": {
            "image/png": "[encoded data removed]",
            "text/plain": [
              "<Figure size 432x288 with 1 Axes>"
            ]
          },
          "metadata": {
            "tags": [],
            "needs_background": "light"
          }
        }
      ]
    },
    {
      "cell_type": "markdown",
      "metadata": {
        "id": "du1tVt98sr-8",
        "colab_type": "text"
      },
      "source": [
        "##Severe Toxic"
      ]
    },
    {
      "cell_type": "code",
      "metadata": {
        "id": "k4jCpHUehnL5",
        "colab_type": "code",
        "colab": {}
      },
      "source": [
        "y = train['severe_toxic']\n",
        "x_train, x_test, y_train, y_test = train_test_split(x, y, train_size=0.8, random_state=300)\n",
        "vectorizer = CountVectorizer()\n",
        "vectorizer.fit(x_train)\n",
        "X_train = vectorizer.transform(x_train)\n",
        "X_test = vectorizer.transform(x_test)"
      ],
      "execution_count": 25,
      "outputs": []
    },
    {
      "cell_type": "code",
      "metadata": {
        "id": "9mX_EEAzyLsx",
        "colab_type": "code",
        "colab": {}
      },
      "source": [
        "historyST = model.fit(X_train,y_train,epochs=3 ,verbose=False,validation_data=(X_test,y_test),batch_size=200)"
      ],
      "execution_count": 26,
      "outputs": []
    },
    {
      "cell_type": "code",
      "metadata": {
        "id": "rvvdio31saND",
        "colab_type": "code",
        "colab": {
          "base_uri": "https://localhost:8080/",
          "height": 204
        },
        "outputId": "8bdd438e-43a5-417e-e6f5-5841e2715a8a"
      },
      "source": [
        "predictions = model.predict(X_train)\n",
        "pred = []\n",
        "for elem in predictions:\n",
        "  pred.append(int(round(elem[0])))\n",
        "print(classification_report(y_train,pred))\n",
        "print(confusion_matrix(y_train,pred))\n",
        "fpr,tpr,thresh = roc_curve(y_train,pred)\n",
        "roc_auc = auc(fpr,tpr)"
      ],
      "execution_count": 27,
      "outputs": [
        {
          "output_type": "stream",
          "text": [
            "              precision    recall  f1-score   support\n",
            "\n",
            "           0       0.99      1.00      1.00    177239\n",
            "           1       0.78      0.32      0.45      1553\n",
            "\n",
            "    accuracy                           0.99    178792\n",
            "   macro avg       0.89      0.66      0.72    178792\n",
            "weighted avg       0.99      0.99      0.99    178792\n",
            "\n",
            "[[177098    141]\n",
            " [  1058    495]]\n"
          ],
          "name": "stdout"
        }
      ]
    },
    {
      "cell_type": "code",
      "metadata": {
        "id": "pB8Y2JB_yEYJ",
        "colab_type": "code",
        "colab": {
          "base_uri": "https://localhost:8080/",
          "height": 283
        },
        "outputId": "af9fc0cf-ffc4-4d61-f9a5-363fef94b260"
      },
      "source": [
        "plt.plot(fpr, tpr, 'b', label = 'AUC = %0.2f' % roc_auc)\n",
        "plt.legend(loc = 'lower right')\n",
        "plt.plot([0, 1], [0, 1],'r--')\n",
        "plt.xlim([0, 1])\n",
        "plt.ylim([0, 1])\n",
        "plt.ylabel('True Positive Rate')\n",
        "plt.xlabel('False Positive Rate')\n",
        "plt.show()\n"
      ],
      "execution_count": 28,
      "outputs": [
        {
          "output_type": "display_data",
          "data": {
            "image/png": "[encoded data removed]",
            "text/plain": [
              "<Figure size 432x288 with 1 Axes>"
            ]
          },
          "metadata": {
            "tags": [],
            "needs_background": "light"
          }
        }
      ]
    },
    {
      "cell_type": "code",
      "metadata": {
        "id": "VUqgDfQoyHRt",
        "colab_type": "code",
        "colab": {
          "base_uri": "https://localhost:8080/",
          "height": 204
        },
        "outputId": "da0e890e-72c3-478c-9f7b-6aaecbc60988"
      },
      "source": [
        "predictions = model.predict(X_test)\n",
        "pred = []\n",
        "for elem in predictions:\n",
        "  pred.append(int(round(elem[0])))\n",
        "print(classification_report(y_test,pred))\n",
        "print(confusion_matrix(y_test,pred))\n",
        "fpr,tpr,thresh = roc_curve(y_test,pred)\n",
        "roc_auc = auc(fpr,tpr)"
      ],
      "execution_count": 29,
      "outputs": [
        {
          "output_type": "stream",
          "text": [
            "              precision    recall  f1-score   support\n",
            "\n",
            "           0       0.99      1.00      1.00     44289\n",
            "           1       0.48      0.18      0.26       409\n",
            "\n",
            "    accuracy                           0.99     44698\n",
            "   macro avg       0.74      0.59      0.63     44698\n",
            "weighted avg       0.99      0.99      0.99     44698\n",
            "\n",
            "[[44209    80]\n",
            " [  335    74]]\n"
          ],
          "name": "stdout"
        }
      ]
    },
    {
      "cell_type": "code",
      "metadata": {
        "id": "YlE_KVh2yHYb",
        "colab_type": "code",
        "colab": {
          "base_uri": "https://localhost:8080/",
          "height": 283
        },
        "outputId": "08d366c4-cf17-4c92-f2b3-8769ee7c6e8f"
      },
      "source": [
        "plt.plot(fpr, tpr, 'b', label = 'AUC = %0.2f' % roc_auc)\n",
        "plt.legend(loc = 'lower right')\n",
        "plt.plot([0, 1], [0, 1],'r--')\n",
        "plt.xlim([0, 1])\n",
        "plt.ylim([0, 1])\n",
        "plt.ylabel('True Positive Rate')\n",
        "plt.xlabel('False Positive Rate')\n",
        "plt.show()\n"
      ],
      "execution_count": 30,
      "outputs": [
        {
          "output_type": "display_data",
          "data": {
            "image/png": "[encoded data removed]",
            "text/plain": [
              "<Figure size 432x288 with 1 Axes>"
            ]
          },
          "metadata": {
            "tags": [],
            "needs_background": "light"
          }
        }
      ]
    },
    {
      "cell_type": "code",
      "metadata": {
        "id": "-vU-C7CEyWyH",
        "colab_type": "code",
        "colab": {
          "base_uri": "https://localhost:8080/",
          "height": 85
        },
        "outputId": "960c9008-cd2b-45c0-f2d4-1563067e83dc"
      },
      "source": [
        "loss, accuracy = model.evaluate(X_train, y_train, verbose=False)\n",
        "print(\"Train accuracy:\")\n",
        "print(accuracy)\n",
        "loss, accuracy = model.evaluate(X_test, y_test, verbose=False)\n",
        "print(\"Test accuracy:\")\n",
        "print(accuracy)"
      ],
      "execution_count": 31,
      "outputs": [
        {
          "output_type": "stream",
          "text": [
            "Train accuracy:\n",
            "0.9932938814163208\n",
            "Test accuracy:\n",
            "0.9907154440879822\n"
          ],
          "name": "stdout"
        }
      ]
    },
    {
      "cell_type": "markdown",
      "metadata": {
        "id": "jiqPE_GisxLO",
        "colab_type": "text"
      },
      "source": [
        "##Obscene"
      ]
    },
    {
      "cell_type": "code",
      "metadata": {
        "id": "_wN5EOzh3PQy",
        "colab_type": "code",
        "colab": {}
      },
      "source": [
        "y = train['obscene']\n",
        "x_train, x_test, y_train, y_test = train_test_split(x, y, train_size=0.8, random_state=300)\n",
        "vectorizer = CountVectorizer()\n",
        "vectorizer.fit(x_train)\n",
        "X_train = vectorizer.transform(x_train)\n",
        "X_test = vectorizer.transform(x_test)"
      ],
      "execution_count": 32,
      "outputs": []
    },
    {
      "cell_type": "code",
      "metadata": {
        "id": "DANQv2HB4haT",
        "colab_type": "code",
        "colab": {}
      },
      "source": [
        "historyST = model.fit(X_train,y_train,epochs=3 ,verbose=False,validation_data=(X_test,y_test),batch_size=200)"
      ],
      "execution_count": 33,
      "outputs": []
    },
    {
      "cell_type": "code",
      "metadata": {
        "id": "ANAELb4HzjK7",
        "colab_type": "code",
        "colab": {
          "base_uri": "https://localhost:8080/",
          "height": 204
        },
        "outputId": "57ad8663-1ecb-454a-cfeb-48b2d3b0666f"
      },
      "source": [
        "predictions = model.predict(X_train)\n",
        "pred = []\n",
        "for elem in predictions:\n",
        "  pred.append(int(round(elem[0])))\n",
        "print(classification_report(y_train,pred))\n",
        "print(confusion_matrix(y_train,pred))\n",
        "fpr,tpr,thresh = roc_curve(y_train,pred)\n",
        "roc_auc = auc(fpr,tpr)"
      ],
      "execution_count": 34,
      "outputs": [
        {
          "output_type": "stream",
          "text": [
            "              precision    recall  f1-score   support\n",
            "\n",
            "           0       0.99      1.00      0.99    169114\n",
            "           1       0.93      0.89      0.91      9678\n",
            "\n",
            "    accuracy                           0.99    178792\n",
            "   macro avg       0.96      0.94      0.95    178792\n",
            "weighted avg       0.99      0.99      0.99    178792\n",
            "\n",
            "[[168436    678]\n",
            " [  1052   8626]]\n"
          ],
          "name": "stdout"
        }
      ]
    },
    {
      "cell_type": "code",
      "metadata": {
        "id": "GAp70nEj_xE9",
        "colab_type": "code",
        "colab": {
          "base_uri": "https://localhost:8080/",
          "height": 283
        },
        "outputId": "8e895175-a9a1-42d9-a813-731478094b13"
      },
      "source": [
        "plt.plot(fpr, tpr, 'b', label = 'AUC = %0.2f' % roc_auc)\n",
        "plt.legend(loc = 'lower right')\n",
        "plt.plot([0, 1], [0, 1],'r--')\n",
        "plt.xlim([0, 1])\n",
        "plt.ylim([0, 1])\n",
        "plt.ylabel('True Positive Rate')\n",
        "plt.xlabel('False Positive Rate')\n",
        "plt.show()\n"
      ],
      "execution_count": 35,
      "outputs": [
        {
          "output_type": "display_data",
          "data": {
            "image/png": "[encoded data removed]",
            "text/plain": [
              "<Figure size 432x288 with 1 Axes>"
            ]
          },
          "metadata": {
            "tags": [],
            "needs_background": "light"
          }
        }
      ]
    },
    {
      "cell_type": "code",
      "metadata": {
        "id": "Pe33bHXN_0ex",
        "colab_type": "code",
        "colab": {
          "base_uri": "https://localhost:8080/",
          "height": 204
        },
        "outputId": "b2231b88-65e7-44b5-f1c2-7608ea873256"
      },
      "source": [
        "predictions = model.predict(X_test)\n",
        "pred = []\n",
        "for elem in predictions:\n",
        "  pred.append(int(round(elem[0])))\n",
        "print(classification_report(y_test,pred))\n",
        "print(confusion_matrix(y_test,pred))\n",
        "fpr,tpr,thresh = roc_curve(y_test,pred)\n",
        "roc_auc = auc(fpr,tpr)"
      ],
      "execution_count": 36,
      "outputs": [
        {
          "output_type": "stream",
          "text": [
            "              precision    recall  f1-score   support\n",
            "\n",
            "           0       0.98      0.99      0.99     42236\n",
            "           1       0.81      0.67      0.73      2462\n",
            "\n",
            "    accuracy                           0.97     44698\n",
            "   macro avg       0.89      0.83      0.86     44698\n",
            "weighted avg       0.97      0.97      0.97     44698\n",
            "\n",
            "[[41837   399]\n",
            " [  811  1651]]\n"
          ],
          "name": "stdout"
        }
      ]
    },
    {
      "cell_type": "code",
      "metadata": {
        "id": "PCaXDUgc_3sn",
        "colab_type": "code",
        "colab": {
          "base_uri": "https://localhost:8080/",
          "height": 283
        },
        "outputId": "f24f44dc-c52b-4c60-93bd-96288d835469"
      },
      "source": [
        "plt.plot(fpr, tpr, 'b', label = 'AUC = %0.2f' % roc_auc)\n",
        "plt.legend(loc = 'lower right')\n",
        "plt.plot([0, 1], [0, 1],'r--')\n",
        "plt.xlim([0, 1])\n",
        "plt.ylim([0, 1])\n",
        "plt.ylabel('True Positive Rate')\n",
        "plt.xlabel('False Positive Rate')\n",
        "plt.show()\n"
      ],
      "execution_count": 37,
      "outputs": [
        {
          "output_type": "display_data",
          "data": {
            "image/png": "[encoded data removed]",
            "text/plain": [
              "<Figure size 432x288 with 1 Axes>"
            ]
          },
          "metadata": {
            "tags": [],
            "needs_background": "light"
          }
        }
      ]
    },
    {
      "cell_type": "code",
      "metadata": {
        "id": "9YTc9KXB43wR",
        "colab_type": "code",
        "colab": {
          "base_uri": "https://localhost:8080/",
          "height": 85
        },
        "outputId": "804ae828-575a-42f5-f2df-1153ab317623"
      },
      "source": [
        "loss, accuracy = model.evaluate(X_train, y_train, verbose=False)\n",
        "print(\"Train accuracy:\")\n",
        "print(accuracy)\n",
        "loss, accuracy = model.evaluate(X_test, y_test, verbose=False)\n",
        "print(\"Test accuracy:\")\n",
        "print(accuracy)"
      ],
      "execution_count": 38,
      "outputs": [
        {
          "output_type": "stream",
          "text": [
            "Train accuracy:\n",
            "0.9903239607810974\n",
            "Test accuracy:\n",
            "0.9729294180870056\n"
          ],
          "name": "stdout"
        }
      ]
    },
    {
      "cell_type": "markdown",
      "metadata": {
        "id": "jovzqSQ9szWZ",
        "colab_type": "text"
      },
      "source": [
        "##Threat"
      ]
    },
    {
      "cell_type": "code",
      "metadata": {
        "id": "f8v6_sg89wWT",
        "colab_type": "code",
        "colab": {}
      },
      "source": [
        "y = train['threat']\n",
        "x_train, x_test, y_train, y_test = train_test_split(x, y, train_size=0.8, random_state=300)\n",
        "vectorizer = CountVectorizer()\n",
        "vectorizer.fit(x_train)\n",
        "X_train = vectorizer.transform(x_train)\n",
        "X_test = vectorizer.transform(x_test)"
      ],
      "execution_count": 39,
      "outputs": []
    },
    {
      "cell_type": "code",
      "metadata": {
        "id": "hZHeI-BQ-2wI",
        "colab_type": "code",
        "colab": {}
      },
      "source": [
        "historyST = model.fit(X_train,y_train,epochs=3 ,verbose=False,validation_data=(X_test,y_test),batch_size=200)"
      ],
      "execution_count": 40,
      "outputs": []
    },
    {
      "cell_type": "code",
      "metadata": {
        "id": "IOuZ6KZsDXWh",
        "colab_type": "code",
        "colab": {
          "base_uri": "https://localhost:8080/",
          "height": 204
        },
        "outputId": "32488364-515e-44a4-e212-230a1ac4f767"
      },
      "source": [
        "predictions = model.predict(X_train)\n",
        "pred = []\n",
        "for elem in predictions:\n",
        "  pred.append(int(round(elem[0])))\n",
        "print(classification_report(y_train,pred))\n",
        "print(confusion_matrix(y_train,pred))\n",
        "fpr,tpr,thresh = roc_curve(y_train,pred)\n",
        "roc_auc = auc(fpr,tpr)"
      ],
      "execution_count": 41,
      "outputs": [
        {
          "output_type": "stream",
          "text": [
            "              precision    recall  f1-score   support\n",
            "\n",
            "           0       1.00      1.00      1.00    178245\n",
            "           1       0.95      0.04      0.07       547\n",
            "\n",
            "    accuracy                           1.00    178792\n",
            "   macro avg       0.98      0.52      0.54    178792\n",
            "weighted avg       1.00      1.00      1.00    178792\n",
            "\n",
            "[[178244      1]\n",
            " [   526     21]]\n"
          ],
          "name": "stdout"
        }
      ]
    },
    {
      "cell_type": "code",
      "metadata": {
        "id": "5Iqdqi_BDaYN",
        "colab_type": "code",
        "colab": {
          "base_uri": "https://localhost:8080/",
          "height": 283
        },
        "outputId": "e9eca772-6e1f-4cad-a518-3907e5ba4a6f"
      },
      "source": [
        "plt.plot(fpr, tpr, 'b', label = 'AUC = %0.2f' % roc_auc)\n",
        "plt.legend(loc = 'lower right')\n",
        "plt.plot([0, 1], [0, 1],'r--')\n",
        "plt.xlim([0, 1])\n",
        "plt.ylim([0, 1])\n",
        "plt.ylabel('True Positive Rate')\n",
        "plt.xlabel('False Positive Rate')\n",
        "plt.show()\n"
      ],
      "execution_count": 42,
      "outputs": [
        {
          "output_type": "display_data",
          "data": {
            "image/png": "[encoded data removed]",
            "text/plain": [
              "<Figure size 432x288 with 1 Axes>"
            ]
          },
          "metadata": {
            "tags": [],
            "needs_background": "light"
          }
        }
      ]
    },
    {
      "cell_type": "code",
      "metadata": {
        "id": "ARhJPgqBDad-",
        "colab_type": "code",
        "colab": {
          "base_uri": "https://localhost:8080/",
          "height": 204
        },
        "outputId": "0788c1b4-faa7-4a0c-c3a9-3098be5e75ee"
      },
      "source": [
        "predictions = model.predict(X_test)\n",
        "pred = []\n",
        "for elem in predictions:\n",
        "  pred.append(int(round(elem[0])))\n",
        "print(classification_report(y_test,pred))\n",
        "print(confusion_matrix(y_test,pred))\n",
        "fpr,tpr,thresh = roc_curve(y_test,pred)\n",
        "roc_auc = auc(fpr,tpr)"
      ],
      "execution_count": 43,
      "outputs": [
        {
          "output_type": "stream",
          "text": [
            "              precision    recall  f1-score   support\n",
            "\n",
            "           0       1.00      1.00      1.00     44556\n",
            "           1       0.38      0.02      0.04       142\n",
            "\n",
            "    accuracy                           1.00     44698\n",
            "   macro avg       0.69      0.51      0.52     44698\n",
            "weighted avg       0.99      1.00      1.00     44698\n",
            "\n",
            "[[44551     5]\n",
            " [  139     3]]\n"
          ],
          "name": "stdout"
        }
      ]
    },
    {
      "cell_type": "code",
      "metadata": {
        "id": "hpjbaZThDaih",
        "colab_type": "code",
        "colab": {
          "base_uri": "https://localhost:8080/",
          "height": 283
        },
        "outputId": "97728228-b4e3-4e5f-ce95-ee6e1369c6be"
      },
      "source": [
        "plt.plot(fpr, tpr, 'b', label = 'AUC = %0.2f' % roc_auc)\n",
        "plt.legend(loc = 'lower right')\n",
        "plt.plot([0, 1], [0, 1],'r--')\n",
        "plt.xlim([0, 1])\n",
        "plt.ylim([0, 1])\n",
        "plt.ylabel('True Positive Rate')\n",
        "plt.xlabel('False Positive Rate')\n",
        "plt.show()\n"
      ],
      "execution_count": 44,
      "outputs": [
        {
          "output_type": "display_data",
          "data": {
            "image/png": "[encoded data removed]",
            "text/plain": [
              "<Figure size 432x288 with 1 Axes>"
            ]
          },
          "metadata": {
            "tags": [],
            "needs_background": "light"
          }
        }
      ]
    },
    {
      "cell_type": "code",
      "metadata": {
        "id": "eNVgv8lJ_BgD",
        "colab_type": "code",
        "colab": {
          "base_uri": "https://localhost:8080/",
          "height": 85
        },
        "outputId": "7722d309-8de7-45e5-ba53-1239086dea89"
      },
      "source": [
        "loss, accuracy = model.evaluate(X_train, y_train, verbose=False)\n",
        "print(\"Train accuracy:\")\n",
        "print(accuracy)\n",
        "loss, accuracy = model.evaluate(X_test, y_test, verbose=False)\n",
        "print(\"Test accuracy:\")\n",
        "print(accuracy)"
      ],
      "execution_count": 45,
      "outputs": [
        {
          "output_type": "stream",
          "text": [
            "Train accuracy:\n",
            "0.9970524311065674\n",
            "Test accuracy:\n",
            "0.9967783689498901\n"
          ],
          "name": "stdout"
        }
      ]
    },
    {
      "cell_type": "markdown",
      "metadata": {
        "id": "KskGELj-s1nM",
        "colab_type": "text"
      },
      "source": [
        "##Insult"
      ]
    },
    {
      "cell_type": "code",
      "metadata": {
        "id": "n2k-bxeaECtu",
        "colab_type": "code",
        "colab": {}
      },
      "source": [
        "y = train['insult']\n",
        "x_train, x_test, y_train, y_test = train_test_split(x, y, train_size=0.8, random_state=300)\n",
        "vectorizer = CountVectorizer()\n",
        "vectorizer.fit(x_train)\n",
        "X_train = vectorizer.transform(x_train)\n",
        "X_test = vectorizer.transform(x_test)"
      ],
      "execution_count": 46,
      "outputs": []
    },
    {
      "cell_type": "code",
      "metadata": {
        "id": "54V6mCxHF13O",
        "colab_type": "code",
        "colab": {}
      },
      "source": [
        "historyST = model.fit(X_train,y_train,epochs=3 ,verbose=False,validation_data=(X_test,y_test),batch_size=200)"
      ],
      "execution_count": 47,
      "outputs": []
    },
    {
      "cell_type": "code",
      "metadata": {
        "id": "Zx5QYIuEQWHQ",
        "colab_type": "code",
        "colab": {
          "base_uri": "https://localhost:8080/",
          "height": 204
        },
        "outputId": "38ef73dd-d083-476c-8660-c89626905116"
      },
      "source": [
        "predictions = model.predict(X_train)\n",
        "pred = []\n",
        "for elem in predictions:\n",
        "  pred.append(int(round(elem[0])))\n",
        "print(classification_report(y_train,pred))\n",
        "print(confusion_matrix(y_train,pred))\n",
        "fpr,tpr,thresh = roc_curve(y_train,pred)\n",
        "roc_auc = auc(fpr,tpr)"
      ],
      "execution_count": 48,
      "outputs": [
        {
          "output_type": "stream",
          "text": [
            "              precision    recall  f1-score   support\n",
            "\n",
            "           0       0.99      0.99      0.99    169768\n",
            "           1       0.88      0.89      0.88      9024\n",
            "\n",
            "    accuracy                           0.99    178792\n",
            "   macro avg       0.94      0.94      0.94    178792\n",
            "weighted avg       0.99      0.99      0.99    178792\n",
            "\n",
            "[[168667   1101]\n",
            " [  1031   7993]]\n"
          ],
          "name": "stdout"
        }
      ]
    },
    {
      "cell_type": "code",
      "metadata": {
        "id": "PRV5EHXnQWLr",
        "colab_type": "code",
        "colab": {
          "base_uri": "https://localhost:8080/",
          "height": 283
        },
        "outputId": "f7d80985-12dd-4db7-d22b-70b08fcb9172"
      },
      "source": [
        "plt.plot(fpr, tpr, 'b', label = 'AUC = %0.2f' % roc_auc)\n",
        "plt.legend(loc = 'lower right')\n",
        "plt.plot([0, 1], [0, 1],'r--')\n",
        "plt.xlim([0, 1])\n",
        "plt.ylim([0, 1])\n",
        "plt.ylabel('True Positive Rate')\n",
        "plt.xlabel('False Positive Rate')\n",
        "plt.show()\n"
      ],
      "execution_count": 49,
      "outputs": [
        {
          "output_type": "display_data",
          "data": {
            "image/png": "[encoded data removed]",
            "text/plain": [
              "<Figure size 432x288 with 1 Axes>"
            ]
          },
          "metadata": {
            "tags": [],
            "needs_background": "light"
          }
        }
      ]
    },
    {
      "cell_type": "code",
      "metadata": {
        "id": "21qXp9BtQWP4",
        "colab_type": "code",
        "colab": {
          "base_uri": "https://localhost:8080/",
          "height": 204
        },
        "outputId": "22e6ec80-7696-47d7-b936-6c4fecbdcc19"
      },
      "source": [
        "predictions = model.predict(X_test)\n",
        "pred = []\n",
        "for elem in predictions:\n",
        "  pred.append(int(round(elem[0])))\n",
        "print(classification_report(y_test,pred))\n",
        "print(confusion_matrix(y_test,pred))\n",
        "fpr,tpr,thresh = roc_curve(y_test,pred)\n",
        "roc_auc = auc(fpr,tpr)"
      ],
      "execution_count": 50,
      "outputs": [
        {
          "output_type": "stream",
          "text": [
            "              precision    recall  f1-score   support\n",
            "\n",
            "           0       0.98      0.99      0.98     42418\n",
            "           1       0.71      0.62      0.66      2280\n",
            "\n",
            "    accuracy                           0.97     44698\n",
            "   macro avg       0.84      0.80      0.82     44698\n",
            "weighted avg       0.97      0.97      0.97     44698\n",
            "\n",
            "[[41838   580]\n",
            " [  870  1410]]\n"
          ],
          "name": "stdout"
        }
      ]
    },
    {
      "cell_type": "code",
      "metadata": {
        "id": "S_ghwvSGQWUN",
        "colab_type": "code",
        "colab": {
          "base_uri": "https://localhost:8080/",
          "height": 283
        },
        "outputId": "e414b8e0-914a-4ed6-b96c-5c4804e8c8cd"
      },
      "source": [
        "plt.plot(fpr, tpr, 'b', label = 'AUC = %0.2f' % roc_auc)\n",
        "plt.legend(loc = 'lower right')\n",
        "plt.plot([0, 1], [0, 1],'r--')\n",
        "plt.xlim([0, 1])\n",
        "plt.ylim([0, 1])\n",
        "plt.ylabel('True Positive Rate')\n",
        "plt.xlabel('False Positive Rate')\n",
        "plt.show()\n"
      ],
      "execution_count": 51,
      "outputs": [
        {
          "output_type": "display_data",
          "data": {
            "image/png": "[encoded data removed]",
            "text/plain": [
              "<Figure size 432x288 with 1 Axes>"
            ]
          },
          "metadata": {
            "tags": [],
            "needs_background": "light"
          }
        }
      ]
    },
    {
      "cell_type": "code",
      "metadata": {
        "id": "o2-VHgFGGkKF",
        "colab_type": "code",
        "colab": {
          "base_uri": "https://localhost:8080/",
          "height": 85
        },
        "outputId": "b1eb8913-f464-412a-ef25-df69854ea306"
      },
      "source": [
        "loss, accuracy = model.evaluate(X_train, y_train, verbose=False)\n",
        "print(\"Train accuracy:\")\n",
        "print(accuracy)\n",
        "loss, accuracy = model.evaluate(X_test, y_test, verbose=False)\n",
        "print(\"Test accuracy:\")\n",
        "print(accuracy)"
      ],
      "execution_count": 52,
      "outputs": [
        {
          "output_type": "stream",
          "text": [
            "Train accuracy:\n",
            "0.9880755543708801\n",
            "Test accuracy:\n",
            "0.9675600528717041\n"
          ],
          "name": "stdout"
        }
      ]
    },
    {
      "cell_type": "markdown",
      "metadata": {
        "id": "PreqArT-s3sO",
        "colab_type": "text"
      },
      "source": [
        "##Identity Hate"
      ]
    },
    {
      "cell_type": "code",
      "metadata": {
        "id": "Zo7q1BLKQuee",
        "colab_type": "code",
        "colab": {}
      },
      "source": [
        "y = train['identity_hate']\n",
        "x_train, x_test, y_train, y_test = train_test_split(x, y, train_size=0.8, random_state=300)\n",
        "vectorizer = CountVectorizer()\n",
        "vectorizer.fit(x_train)\n",
        "X_train = vectorizer.transform(x_train)\n",
        "X_test = vectorizer.transform(x_test)"
      ],
      "execution_count": 53,
      "outputs": []
    },
    {
      "cell_type": "code",
      "metadata": {
        "id": "bvtKtwv0TOPC",
        "colab_type": "code",
        "colab": {}
      },
      "source": [
        "historyST = model.fit(X_train,y_train,epochs=3 ,verbose=False,validation_data=(X_test,y_test),batch_size=200)"
      ],
      "execution_count": 54,
      "outputs": []
    },
    {
      "cell_type": "code",
      "metadata": {
        "id": "LFA9EJ2-e0iM",
        "colab_type": "code",
        "colab": {
          "base_uri": "https://localhost:8080/",
          "height": 204
        },
        "outputId": "e121e079-0ace-4863-ecc3-27c474f43fba"
      },
      "source": [
        "predictions = model.predict(X_train)\n",
        "pred = []\n",
        "for elem in predictions:\n",
        "  pred.append(int(round(elem[0])))\n",
        "print(classification_report(y_train,pred))\n",
        "print(confusion_matrix(y_train,pred))\n",
        "fpr,tpr,thresh = roc_curve(y_train,pred)\n",
        "roc_auc = auc(fpr,tpr)"
      ],
      "execution_count": 55,
      "outputs": [
        {
          "output_type": "stream",
          "text": [
            "              precision    recall  f1-score   support\n",
            "\n",
            "           0       1.00      1.00      1.00    177079\n",
            "           1       0.92      0.53      0.67      1713\n",
            "\n",
            "    accuracy                           1.00    178792\n",
            "   macro avg       0.96      0.76      0.83    178792\n",
            "weighted avg       0.99      1.00      0.99    178792\n",
            "\n",
            "[[177005     74]\n",
            " [   813    900]]\n"
          ],
          "name": "stdout"
        }
      ]
    },
    {
      "cell_type": "code",
      "metadata": {
        "id": "w2KJl_8ne0m6",
        "colab_type": "code",
        "colab": {
          "base_uri": "https://localhost:8080/",
          "height": 283
        },
        "outputId": "f38ae40a-e505-4921-9508-c137977ca577"
      },
      "source": [
        "plt.plot(fpr, tpr, 'b', label = 'AUC = %0.2f' % roc_auc)\n",
        "plt.legend(loc = 'lower right')\n",
        "plt.plot([0, 1], [0, 1],'r--')\n",
        "plt.xlim([0, 1])\n",
        "plt.ylim([0, 1])\n",
        "plt.ylabel('True Positive Rate')\n",
        "plt.xlabel('False Positive Rate')\n",
        "plt.show()\n"
      ],
      "execution_count": 56,
      "outputs": [
        {
          "output_type": "display_data",
          "data": {
            "image/png": "[encoded data removed]",
            "text/plain": [
              "<Figure size 432x288 with 1 Axes>"
            ]
          },
          "metadata": {
            "tags": [],
            "needs_background": "light"
          }
        }
      ]
    },
    {
      "cell_type": "code",
      "metadata": {
        "id": "q3ahld49e0r8",
        "colab_type": "code",
        "colab": {
          "base_uri": "https://localhost:8080/",
          "height": 204
        },
        "outputId": "9433c68b-7561-49e9-9922-ba9e36493ad8"
      },
      "source": [
        "predictions = model.predict(X_test)\n",
        "pred = []\n",
        "for elem in predictions:\n",
        "  pred.append(int(round(elem[0])))\n",
        "print(classification_report(y_test,pred))\n",
        "print(confusion_matrix(y_test,pred))\n",
        "fpr,tpr,thresh = roc_curve(y_test,pred)\n",
        "roc_auc = auc(fpr,tpr)"
      ],
      "execution_count": 57,
      "outputs": [
        {
          "output_type": "stream",
          "text": [
            "              precision    recall  f1-score   support\n",
            "\n",
            "           0       0.99      1.00      1.00     44294\n",
            "           1       0.56      0.17      0.26       404\n",
            "\n",
            "    accuracy                           0.99     44698\n",
            "   macro avg       0.77      0.58      0.63     44698\n",
            "weighted avg       0.99      0.99      0.99     44698\n",
            "\n",
            "[[44240    54]\n",
            " [  336    68]]\n"
          ],
          "name": "stdout"
        }
      ]
    },
    {
      "cell_type": "code",
      "metadata": {
        "id": "iBY6P9vze0v2",
        "colab_type": "code",
        "colab": {
          "base_uri": "https://localhost:8080/",
          "height": 283
        },
        "outputId": "6208d96d-62c6-4027-e265-8fae79a6519d"
      },
      "source": [
        "plt.plot(fpr, tpr, 'b', label = 'AUC = %0.2f' % roc_auc)\n",
        "plt.legend(loc = 'lower right')\n",
        "plt.plot([0, 1], [0, 1],'r--')\n",
        "plt.xlim([0, 1])\n",
        "plt.ylim([0, 1])\n",
        "plt.ylabel('True Positive Rate')\n",
        "plt.xlabel('False Positive Rate')\n",
        "plt.show()\n"
      ],
      "execution_count": 58,
      "outputs": [
        {
          "output_type": "display_data",
          "data": {
            "image/png": "[encoded data removed]",
            "text/plain": [
              "<Figure size 432x288 with 1 Axes>"
            ]
          },
          "metadata": {
            "tags": [],
            "needs_background": "light"
          }
        }
      ]
    },
    {
      "cell_type": "code",
      "metadata": {
        "id": "FeCalIwqVG7a",
        "colab_type": "code",
        "colab": {
          "base_uri": "https://localhost:8080/",
          "height": 85
        },
        "outputId": "2ef760b1-c525-4d03-e1e6-948923f9e78e"
      },
      "source": [
        "loss, accuracy = model.evaluate(X_train, y_train, verbose=False)\n",
        "print(\"Train accuracy:\")\n",
        "print(accuracy)\n",
        "loss, accuracy = model.evaluate(X_test, y_test, verbose=False)\n",
        "print(\"Test accuracy:\")\n",
        "print(accuracy)"
      ],
      "execution_count": 59,
      "outputs": [
        {
          "output_type": "stream",
          "text": [
            "Train accuracy:\n",
            "0.9950389266014099\n",
            "Test accuracy:\n",
            "0.9912747740745544\n"
          ],
          "name": "stdout"
        }
      ]
    },
    {
      "cell_type": "code",
      "metadata": {
        "id": "hOBgzaT8raUp",
        "colab_type": "code",
        "colab": {}
      },
      "source": [
        ""
      ],
      "execution_count": null,
      "outputs": []
    }
  ]
}