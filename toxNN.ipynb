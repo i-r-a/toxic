{
  "nbformat": 4,
  "nbformat_minor": 0,
  "metadata": {
    "colab": {
      "name": "toxNN.ipynb",
      "provenance": [],
      "collapsed_sections": [],
      "authorship_tag": "ABX9TyMKRHEp0qAp4ttXdsnPdKEH",
      "include_colab_link": true
    },
    "kernelspec": {
      "name": "python3",
      "display_name": "Python 3"
    }
  },
  "cells": [
    {
      "cell_type": "markdown",
      "metadata": {
        "id": "view-in-github",
        "colab_type": "text"
      },
      "source": [
        "<a href=\"https://colab.research.google.com/github/i-r-a/toxic/blob/master/toxNN.ipynb\" target=\"_parent\"><img src=\"https://colab.research.google.com/assets/colab-badge.svg\" alt=\"Open In Colab\"/></a>"
      ]
    },
    {
      "cell_type": "code",
      "metadata": {
        "id": "i2wdc1EsDuvB",
        "colab_type": "code",
        "colab": {}
      },
      "source": [
        "import os\n",
        "import io\n",
        "import matplotlib as mpl\n",
        "import matplotlib.pyplot as plt\n",
        "from IPython.display import display\n",
        "%matplotlib inline\n",
        "\n",
        "import pandas as pd\n",
        "import numpy as np\n",
        "from sklearn.model_selection import train_test_split\n",
        "from sklearn.feature_extraction.text import CountVectorizer\n",
        "from sklearn.metrics import accuracy_score\n",
        "from sklearn.metrics import confusion_matrix\n",
        "from sklearn import preprocessing\n",
        "from sklearn import metrics\n",
        "from keras import Sequential\n",
        "from keras import layers\n",
        "from nltk.corpus import stopwords\n",
        "import seaborn as sns"
      ],
      "execution_count": 93,
      "outputs": []
    },
    {
      "cell_type": "code",
      "metadata": {
        "id": "oMYpvveuDzrQ",
        "colab_type": "code",
        "colab": {
          "base_uri": "https://localhost:8080/",
          "height": 122
        },
        "outputId": "4958adbe-76e1-4746-9218-940c6f52b2e3"
      },
      "source": [
        "from google.colab import drive\n",
        "drive.mount('/content/drive')"
      ],
      "execution_count": null,
      "outputs": [
        {
          "output_type": "stream",
          "text": [
            "Go to this URL in a browser: https://accounts.google.com/o/oauth2/auth?client_id=947318989803-6bn6qk8qdgf4n4g3pfee6491hc0brc4i.apps.googleusercontent.com&redirect_uri=urn%3aietf%3awg%3aoauth%3a2.0%3aoob&response_type=code&scope=email%20https%3a%2f%2fwww.googleapis.com%2fauth%2fdocs.test%20https%3a%2f%2fwww.googleapis.com%2fauth%2fdrive%20https%3a%2f%2fwww.googleapis.com%2fauth%2fdrive.photos.readonly%20https%3a%2f%2fwww.googleapis.com%2fauth%2fpeopleapi.readonly\n",
            "\n",
            "Enter your authorization code:\n",
            "··········\n",
            "Mounted at /content/drive\n"
          ],
          "name": "stdout"
        }
      ]
    },
    {
      "cell_type": "code",
      "metadata": {
        "id": "ZiXlJb8qEAVW",
        "colab_type": "code",
        "colab": {}
      },
      "source": [
        "train = pd.read_csv('drive/My Drive/clean_data.csv')"
      ],
      "execution_count": 94,
      "outputs": []
    },
    {
      "cell_type": "code",
      "metadata": {
        "id": "b4xFsqM1EHhe",
        "colab_type": "code",
        "colab": {}
      },
      "source": [
        "train.drop([53787,64904,76037,106891,141293,163251,\n",
        "168946,\n",
        "178686,\n",
        "193979,\n",
        "200638,\n",
        "202961,\n",
        "204721,\n",
        "210601,\n",
        "213685,\n",
        "217810],inplace=True)"
      ],
      "execution_count": 95,
      "outputs": []
    },
    {
      "cell_type": "code",
      "metadata": {
        "id": "JpV0MepaEJnA",
        "colab_type": "code",
        "colab": {}
      },
      "source": [
        "y = train['toxic']\n",
        "x = train['comment_text']\n",
        "x_train, x_test, y_train, y_test = train_test_split(x, y, train_size=0.8, random_state=300)"
      ],
      "execution_count": 96,
      "outputs": []
    },
    {
      "cell_type": "code",
      "metadata": {
        "id": "FYCRGEhQErBU",
        "colab_type": "code",
        "colab": {
          "base_uri": "https://localhost:8080/",
          "height": 119
        },
        "outputId": "e4c51404-900d-4b54-f89a-504a23b8d2dd"
      },
      "source": [
        "vectorizer = CountVectorizer()\n",
        "vectorizer.fit(x_train)"
      ],
      "execution_count": 97,
      "outputs": [
        {
          "output_type": "execute_result",
          "data": {
            "text/plain": [
              "CountVectorizer(analyzer='word', binary=False, decode_error='strict',\n",
              "                dtype=<class 'numpy.int64'>, encoding='utf-8', input='content',\n",
              "                lowercase=True, max_df=1.0, max_features=None, min_df=1,\n",
              "                ngram_range=(1, 1), preprocessor=None, stop_words=None,\n",
              "                strip_accents=None, token_pattern='(?u)\\\\b\\\\w\\\\w+\\\\b',\n",
              "                tokenizer=None, vocabulary=None)"
            ]
          },
          "metadata": {
            "tags": []
          },
          "execution_count": 97
        }
      ]
    },
    {
      "cell_type": "code",
      "metadata": {
        "id": "vICca1nrFBdZ",
        "colab_type": "code",
        "colab": {}
      },
      "source": [
        "X_train = vectorizer.transform(x_train)\n",
        "X_test = vectorizer.transform(x_test)"
      ],
      "execution_count": 98,
      "outputs": []
    },
    {
      "cell_type": "code",
      "metadata": {
        "id": "VmjmudXJFQBo",
        "colab_type": "code",
        "colab": {}
      },
      "source": [
        "input_dim = X_train.shape[1]"
      ],
      "execution_count": 99,
      "outputs": []
    },
    {
      "cell_type": "code",
      "metadata": {
        "id": "dOf0AYPVFrY2",
        "colab_type": "code",
        "colab": {}
      },
      "source": [
        "model = Sequential()\n",
        "model.add(layers.Dense(10,input_dim = input_dim, activation='relu'))\n",
        "model.add(layers.Dense(1,activation='sigmoid'))"
      ],
      "execution_count": 100,
      "outputs": []
    },
    {
      "cell_type": "code",
      "metadata": {
        "id": "a68qMM1hF7M4",
        "colab_type": "code",
        "colab": {
          "base_uri": "https://localhost:8080/",
          "height": 221
        },
        "outputId": "2048db0a-a860-4fc4-99e6-c896717144fd"
      },
      "source": [
        "model.compile(loss='binary_crossentropy',optimizer='adam',metrics=['accuracy'])\n",
        "model.summary()"
      ],
      "execution_count": 101,
      "outputs": [
        {
          "output_type": "stream",
          "text": [
            "Model: \"sequential_4\"\n",
            "_________________________________________________________________\n",
            "Layer (type)                 Output Shape              Param #   \n",
            "=================================================================\n",
            "dense_7 (Dense)              (None, 10)                2851280   \n",
            "_________________________________________________________________\n",
            "dense_8 (Dense)              (None, 1)                 11        \n",
            "=================================================================\n",
            "Total params: 2,851,291\n",
            "Trainable params: 2,851,291\n",
            "Non-trainable params: 0\n",
            "_________________________________________________________________\n"
          ],
          "name": "stdout"
        }
      ]
    },
    {
      "cell_type": "markdown",
      "metadata": {
        "id": "7eGvqzlIshlA",
        "colab_type": "text"
      },
      "source": [
        "##Toxic vs Non-toxic"
      ]
    },
    {
      "cell_type": "code",
      "metadata": {
        "id": "zfLJmqKRGLnc",
        "colab_type": "code",
        "colab": {}
      },
      "source": [
        "history = model.fit(X_train,y_train,epochs=3 ,verbose=False,validation_data=(X_test,y_test),batch_size=200)"
      ],
      "execution_count": null,
      "outputs": []
    },
    {
      "cell_type": "code",
      "metadata": {
        "id": "dGyn8XxCGqq1",
        "colab_type": "code",
        "colab": {}
      },
      "source": [
        "loss, accuracy = model.evaluate(X_train, y_train, verbose=False)"
      ],
      "execution_count": null,
      "outputs": []
    },
    {
      "cell_type": "code",
      "metadata": {
        "id": "KNbqRf4sZqdb",
        "colab_type": "code",
        "colab": {
          "base_uri": "https://localhost:8080/",
          "height": 34
        },
        "outputId": "b2c11456-cae6-4c9b-ffee-c77828de0fe5"
      },
      "source": [
        "print(accuracy)"
      ],
      "execution_count": null,
      "outputs": [
        {
          "output_type": "stream",
          "text": [
            "0.9717883467674255\n"
          ],
          "name": "stdout"
        }
      ]
    },
    {
      "cell_type": "code",
      "metadata": {
        "id": "TmSmXFZJhtg4",
        "colab_type": "code",
        "colab": {}
      },
      "source": [
        "from sklearn.metrics import confusion_matrix, classification_report, roc_curve, auc\n",
        "from plotnine import *"
      ],
      "execution_count": null,
      "outputs": []
    },
    {
      "cell_type": "code",
      "metadata": {
        "id": "Vkmuop5Fhmf2",
        "colab_type": "code",
        "colab": {}
      },
      "source": [
        "predictions = model.predict(X_train)"
      ],
      "execution_count": null,
      "outputs": []
    },
    {
      "cell_type": "code",
      "metadata": {
        "id": "4cVI7WR-luFe",
        "colab_type": "code",
        "colab": {}
      },
      "source": [
        "pred = []\n",
        "for elem in predictions:\n",
        "  pred.append(int(round(elem[0])))"
      ],
      "execution_count": null,
      "outputs": []
    },
    {
      "cell_type": "code",
      "metadata": {
        "id": "ylYObuyWkj8C",
        "colab_type": "code",
        "colab": {
          "base_uri": "https://localhost:8080/",
          "height": 170
        },
        "outputId": "9c8093f7-6b03-434a-c7a9-aaa13abe18f0"
      },
      "source": [
        "print(classification_report(y_train,pred))"
      ],
      "execution_count": null,
      "outputs": [
        {
          "output_type": "stream",
          "text": [
            "              precision    recall  f1-score   support\n",
            "\n",
            "           0       0.97      0.99      0.98    161660\n",
            "           1       0.94      0.76      0.84     17167\n",
            "\n",
            "    accuracy                           0.97    178827\n",
            "   macro avg       0.96      0.88      0.91    178827\n",
            "weighted avg       0.97      0.97      0.97    178827\n",
            "\n"
          ],
          "name": "stdout"
        }
      ]
    },
    {
      "cell_type": "code",
      "metadata": {
        "id": "bFB0er10lwMA",
        "colab_type": "code",
        "colab": {
          "base_uri": "https://localhost:8080/",
          "height": 51
        },
        "outputId": "2e7b5bae-453c-4d2e-d9c2-3be72c16e12b"
      },
      "source": [
        "print(confusion_matrix(y_train,pred))"
      ],
      "execution_count": null,
      "outputs": [
        {
          "output_type": "stream",
          "text": [
            "[[160784    876]\n",
            " [  4169  12998]]\n"
          ],
          "name": "stdout"
        }
      ]
    },
    {
      "cell_type": "code",
      "metadata": {
        "id": "yGyZ5YNSn_WD",
        "colab_type": "code",
        "colab": {}
      },
      "source": [
        "fpr,tpr,thresh = roc_curve(y_train,pred)"
      ],
      "execution_count": null,
      "outputs": []
    },
    {
      "cell_type": "code",
      "metadata": {
        "id": "-nTZoUHkodtI",
        "colab_type": "code",
        "colab": {
          "base_uri": "https://localhost:8080/",
          "height": 68
        },
        "outputId": "b22da31d-da83-4922-a1ef-7b330f7f2f97"
      },
      "source": [
        "roc_auc = auc(fpr,tpr)\n",
        "print(fpr)\n",
        "print(tpr)\n",
        "print(len(pred))"
      ],
      "execution_count": null,
      "outputs": [
        {
          "output_type": "stream",
          "text": [
            "[0.         0.00541878 1.        ]\n",
            "[0.         0.75715035 1.        ]\n",
            "178827\n"
          ],
          "name": "stdout"
        }
      ]
    },
    {
      "cell_type": "code",
      "metadata": {
        "id": "kXomiLe9o7Ol",
        "colab_type": "code",
        "colab": {
          "base_uri": "https://localhost:8080/",
          "height": 283
        },
        "outputId": "af8e69b2-90d4-4854-b90f-7e1af1a89c35"
      },
      "source": [
        "plt.plot(fpr, tpr, 'b', label = 'AUC = %0.2f' % roc_auc)\n",
        "plt.legend(loc = 'lower right')\n",
        "plt.plot([0, 1], [0, 1],'r--')\n",
        "plt.xlim([0, 1])\n",
        "plt.ylim([0, 1])\n",
        "plt.ylabel('True Positive Rate')\n",
        "plt.xlabel('False Positive Rate')\n",
        "plt.show()\n"
      ],
      "execution_count": null,
      "outputs": [
        {
          "output_type": "display_data",
          "data": {
            "image/png": "[encoded data removed]",
            "text/plain": [
              "<Figure size 432x288 with 1 Axes>"
            ]
          },
          "metadata": {
            "tags": [],
            "needs_background": "light"
          }
        }
      ]
    },
    {
      "cell_type": "code",
      "metadata": {
        "id": "Up3-MP4BZu4k",
        "colab_type": "code",
        "colab": {}
      },
      "source": [
        "loss, accuracy = model.evaluate(X_test, y_test, verbose=False)"
      ],
      "execution_count": null,
      "outputs": []
    },
    {
      "cell_type": "code",
      "metadata": {
        "id": "7uJmuG1mZywC",
        "colab_type": "code",
        "colab": {
          "base_uri": "https://localhost:8080/",
          "height": 34
        },
        "outputId": "7a9cd258-b690-448f-f0a0-f7835ba76ed8"
      },
      "source": [
        "print(accuracy)"
      ],
      "execution_count": null,
      "outputs": [
        {
          "output_type": "stream",
          "text": [
            "0.9502539038658142\n"
          ],
          "name": "stdout"
        }
      ]
    },
    {
      "cell_type": "code",
      "metadata": {
        "id": "t43daTG6qizi",
        "colab_type": "code",
        "colab": {
          "base_uri": "https://localhost:8080/",
          "height": 204
        },
        "outputId": "8e80bfad-6fad-466f-925f-84f409532942"
      },
      "source": [
        "predictions = model.predict(X_test)\n",
        "pred = []\n",
        "for elem in predictions:\n",
        "  pred.append(int(round(elem[0])))\n",
        "print(classification_report(y_test,pred))\n",
        "print(confusion_matrix(y_test,pred))\n",
        "fpr,tpr,thresh = roc_curve(y_test,pred)\n",
        "roc_auc = auc(fpr,tpr)"
      ],
      "execution_count": null,
      "outputs": [
        {
          "output_type": "stream",
          "text": [
            "              precision    recall  f1-score   support\n",
            "\n",
            "           0       0.96      0.99      0.97     40490\n",
            "           1       0.82      0.60      0.69      4217\n",
            "\n",
            "    accuracy                           0.95     44707\n",
            "   macro avg       0.89      0.79      0.83     44707\n",
            "weighted avg       0.95      0.95      0.95     44707\n",
            "\n",
            "[[39944   546]\n",
            " [ 1705  2512]]\n"
          ],
          "name": "stdout"
        }
      ]
    },
    {
      "cell_type": "code",
      "metadata": {
        "id": "R_oVIZc5q2dK",
        "colab_type": "code",
        "colab": {
          "base_uri": "https://localhost:8080/",
          "height": 283
        },
        "outputId": "1feb3ca3-2e74-49bf-a3ff-459224d3d8e1"
      },
      "source": [
        "plt.plot(fpr, tpr, 'b', label = 'AUC = %0.2f' % roc_auc)\n",
        "plt.legend(loc = 'lower right')\n",
        "plt.plot([0, 1], [0, 1],'r--')\n",
        "plt.xlim([0, 1])\n",
        "plt.ylim([0, 1])\n",
        "plt.ylabel('True Positive Rate')\n",
        "plt.xlabel('False Positive Rate')\n",
        "plt.show()\n"
      ],
      "execution_count": null,
      "outputs": [
        {
          "output_type": "display_data",
          "data": {
            "image/png": "[encoded data removed]",
            "text/plain": [
              "<Figure size 432x288 with 1 Axes>"
            ]
          },
          "metadata": {
            "tags": [],
            "needs_background": "light"
          }
        }
      ]
    },
    {
      "cell_type": "markdown",
      "metadata": {
        "id": "du1tVt98sr-8",
        "colab_type": "text"
      },
      "source": [
        "##Severe Toxic"
      ]
    },
    {
      "cell_type": "code",
      "metadata": {
        "id": "k4jCpHUehnL5",
        "colab_type": "code",
        "colab": {}
      },
      "source": [
        "y = train['severe_toxic']\n",
        "x_train, x_test, y_train, y_test = train_test_split(x, y, train_size=0.8, random_state=300)\n",
        "vectorizer = CountVectorizer()\n",
        "vectorizer.fit(x_train)\n",
        "X_train = vectorizer.transform(x_train)\n",
        "X_test = vectorizer.transform(x_test)"
      ],
      "execution_count": null,
      "outputs": []
    },
    {
      "cell_type": "code",
      "metadata": {
        "id": "9mX_EEAzyLsx",
        "colab_type": "code",
        "colab": {}
      },
      "source": [
        "historyST = model.fit(X_train,y_train,epochs=3 ,verbose=False,validation_data=(X_test,y_test),batch_size=200)"
      ],
      "execution_count": null,
      "outputs": []
    },
    {
      "cell_type": "code",
      "metadata": {
        "id": "rvvdio31saND",
        "colab_type": "code",
        "colab": {
          "base_uri": "https://localhost:8080/",
          "height": 204
        },
        "outputId": "b3ffe21e-dd2d-44c7-a229-606a52704a21"
      },
      "source": [
        "predictions = model.predict(X_train)\n",
        "pred = []\n",
        "for elem in predictions:\n",
        "  pred.append(int(round(elem[0])))\n",
        "print(classification_report(y_train,pred))\n",
        "print(confusion_matrix(y_train,pred))\n",
        "fpr,tpr,thresh = roc_curve(y_train,pred)\n",
        "roc_auc = auc(fpr,tpr)"
      ],
      "execution_count": null,
      "outputs": [
        {
          "output_type": "stream",
          "text": [
            "              precision    recall  f1-score   support\n",
            "\n",
            "           0       0.99      1.00      1.00    177295\n",
            "           1       0.78      0.30      0.43      1532\n",
            "\n",
            "    accuracy                           0.99    178827\n",
            "   macro avg       0.89      0.65      0.71    178827\n",
            "weighted avg       0.99      0.99      0.99    178827\n",
            "\n",
            "[[177166    129]\n",
            " [  1074    458]]\n"
          ],
          "name": "stdout"
        }
      ]
    },
    {
      "cell_type": "code",
      "metadata": {
        "id": "pB8Y2JB_yEYJ",
        "colab_type": "code",
        "colab": {
          "base_uri": "https://localhost:8080/",
          "height": 283
        },
        "outputId": "69c1028d-3a07-46f5-c235-7d426b060541"
      },
      "source": [
        "plt.plot(fpr, tpr, 'b', label = 'AUC = %0.2f' % roc_auc)\n",
        "plt.legend(loc = 'lower right')\n",
        "plt.plot([0, 1], [0, 1],'r--')\n",
        "plt.xlim([0, 1])\n",
        "plt.ylim([0, 1])\n",
        "plt.ylabel('True Positive Rate')\n",
        "plt.xlabel('False Positive Rate')\n",
        "plt.show()\n"
      ],
      "execution_count": null,
      "outputs": [
        {
          "output_type": "display_data",
          "data": {
            "image/png": "[encoded data removed]",
            "text/plain": [
              "<Figure size 432x288 with 1 Axes>"
            ]
          },
          "metadata": {
            "tags": [],
            "needs_background": "light"
          }
        }
      ]
    },
    {
      "cell_type": "code",
      "metadata": {
        "id": "VUqgDfQoyHRt",
        "colab_type": "code",
        "colab": {
          "base_uri": "https://localhost:8080/",
          "height": 204
        },
        "outputId": "cd68ef99-acf6-4809-f9e6-df7cccd83c4c"
      },
      "source": [
        "predictions = model.predict(X_test)\n",
        "pred = []\n",
        "for elem in predictions:\n",
        "  pred.append(int(round(elem[0])))\n",
        "print(classification_report(y_test,pred))\n",
        "print(confusion_matrix(y_test,pred))\n",
        "fpr,tpr,thresh = roc_curve(y_test,pred)\n",
        "roc_auc = auc(fpr,tpr)"
      ],
      "execution_count": null,
      "outputs": [
        {
          "output_type": "stream",
          "text": [
            "              precision    recall  f1-score   support\n",
            "\n",
            "           0       0.99      1.00      1.00     44277\n",
            "           1       0.53      0.17      0.26       430\n",
            "\n",
            "    accuracy                           0.99     44707\n",
            "   macro avg       0.76      0.58      0.63     44707\n",
            "weighted avg       0.99      0.99      0.99     44707\n",
            "\n",
            "[[44211    66]\n",
            " [  357    73]]\n"
          ],
          "name": "stdout"
        }
      ]
    },
    {
      "cell_type": "code",
      "metadata": {
        "id": "YlE_KVh2yHYb",
        "colab_type": "code",
        "colab": {
          "base_uri": "https://localhost:8080/",
          "height": 283
        },
        "outputId": "a53e6472-3286-438c-ebc6-b298c7533de1"
      },
      "source": [
        "plt.plot(fpr, tpr, 'b', label = 'AUC = %0.2f' % roc_auc)\n",
        "plt.legend(loc = 'lower right')\n",
        "plt.plot([0, 1], [0, 1],'r--')\n",
        "plt.xlim([0, 1])\n",
        "plt.ylim([0, 1])\n",
        "plt.ylabel('True Positive Rate')\n",
        "plt.xlabel('False Positive Rate')\n",
        "plt.show()\n"
      ],
      "execution_count": null,
      "outputs": [
        {
          "output_type": "display_data",
          "data": {
            "image/png": "[encoded data removed]",
            "text/plain": [
              "<Figure size 432x288 with 1 Axes>"
            ]
          },
          "metadata": {
            "tags": [],
            "needs_background": "light"
          }
        }
      ]
    },
    {
      "cell_type": "code",
      "metadata": {
        "id": "-vU-C7CEyWyH",
        "colab_type": "code",
        "colab": {
          "base_uri": "https://localhost:8080/",
          "height": 85
        },
        "outputId": "7cb7bc30-b8c7-4283-e927-994ba34ab941"
      },
      "source": [
        "loss, accuracy = model.evaluate(X_train, y_train, verbose=False)\n",
        "print(\"Train accuracy:\")\n",
        "print(accuracy)\n",
        "loss, accuracy = model.evaluate(X_test, y_test, verbose=False)\n",
        "print(\"Test accuracy:\")\n",
        "print(accuracy)"
      ],
      "execution_count": null,
      "outputs": [
        {
          "output_type": "stream",
          "text": [
            "Train accuracy:\n",
            "0.9940836429595947\n",
            "Test accuracy:\n",
            "0.9904713034629822\n"
          ],
          "name": "stdout"
        }
      ]
    },
    {
      "cell_type": "markdown",
      "metadata": {
        "id": "jiqPE_GisxLO",
        "colab_type": "text"
      },
      "source": [
        "##Obscene"
      ]
    },
    {
      "cell_type": "code",
      "metadata": {
        "id": "_wN5EOzh3PQy",
        "colab_type": "code",
        "colab": {}
      },
      "source": [
        "y = train['obscene']\n",
        "x_train, x_test, y_train, y_test = train_test_split(x, y, train_size=0.8, random_state=300)\n",
        "vectorizer = CountVectorizer()\n",
        "vectorizer.fit(x_train)\n",
        "X_train = vectorizer.transform(x_train)\n",
        "X_test = vectorizer.transform(x_test)"
      ],
      "execution_count": 73,
      "outputs": []
    },
    {
      "cell_type": "code",
      "metadata": {
        "id": "DANQv2HB4haT",
        "colab_type": "code",
        "colab": {}
      },
      "source": [
        "historyST = model.fit(X_train,y_train,epochs=3 ,verbose=False,validation_data=(X_test,y_test),batch_size=200)"
      ],
      "execution_count": 74,
      "outputs": []
    },
    {
      "cell_type": "code",
      "metadata": {
        "id": "ANAELb4HzjK7",
        "colab_type": "code",
        "colab": {
          "base_uri": "https://localhost:8080/",
          "height": 204
        },
        "outputId": "845ccd6a-f616-45e2-9ebd-8e935de6f80a"
      },
      "source": [
        "predictions = model.predict(X_train)\n",
        "pred = []\n",
        "for elem in predictions:\n",
        "  pred.append(int(round(elem[0])))\n",
        "print(classification_report(y_train,pred))\n",
        "print(confusion_matrix(y_train,pred))\n",
        "fpr,tpr,thresh = roc_curve(y_train,pred)\n",
        "roc_auc = auc(fpr,tpr)"
      ],
      "execution_count": 75,
      "outputs": [
        {
          "output_type": "stream",
          "text": [
            "              precision    recall  f1-score   support\n",
            "\n",
            "           0       0.99      1.00      0.99    169058\n",
            "           1       0.93      0.81      0.87      9769\n",
            "\n",
            "    accuracy                           0.99    178827\n",
            "   macro avg       0.96      0.90      0.93    178827\n",
            "weighted avg       0.99      0.99      0.99    178827\n",
            "\n",
            "[[168455    603]\n",
            " [  1839   7930]]\n"
          ],
          "name": "stdout"
        }
      ]
    },
    {
      "cell_type": "code",
      "metadata": {
        "id": "GAp70nEj_xE9",
        "colab_type": "code",
        "colab": {
          "base_uri": "https://localhost:8080/",
          "height": 283
        },
        "outputId": "0f0422c4-5de5-444e-f2ce-decd4e3b5299"
      },
      "source": [
        "plt.plot(fpr, tpr, 'b', label = 'AUC = %0.2f' % roc_auc)\n",
        "plt.legend(loc = 'lower right')\n",
        "plt.plot([0, 1], [0, 1],'r--')\n",
        "plt.xlim([0, 1])\n",
        "plt.ylim([0, 1])\n",
        "plt.ylabel('True Positive Rate')\n",
        "plt.xlabel('False Positive Rate')\n",
        "plt.show()\n"
      ],
      "execution_count": 77,
      "outputs": [
        {
          "output_type": "display_data",
          "data": {
            "image/png": "[encoded data removed]",
            "text/plain": [
              "<Figure size 432x288 with 1 Axes>"
            ]
          },
          "metadata": {
            "tags": [],
            "needs_background": "light"
          }
        }
      ]
    },
    {
      "cell_type": "code",
      "metadata": {
        "id": "Pe33bHXN_0ex",
        "colab_type": "code",
        "colab": {
          "base_uri": "https://localhost:8080/",
          "height": 204
        },
        "outputId": "952662c7-c4a3-45f5-ce18-a37c4095c2f2"
      },
      "source": [
        "predictions = model.predict(X_test)\n",
        "pred = []\n",
        "for elem in predictions:\n",
        "  pred.append(int(round(elem[0])))\n",
        "print(classification_report(y_test,pred))\n",
        "print(confusion_matrix(y_test,pred))\n",
        "fpr,tpr,thresh = roc_curve(y_test,pred)\n",
        "roc_auc = auc(fpr,tpr)"
      ],
      "execution_count": 79,
      "outputs": [
        {
          "output_type": "stream",
          "text": [
            "              precision    recall  f1-score   support\n",
            "\n",
            "           0       0.98      0.99      0.99     42336\n",
            "           1       0.82      0.64      0.72      2371\n",
            "\n",
            "    accuracy                           0.97     44707\n",
            "   macro avg       0.90      0.82      0.85     44707\n",
            "weighted avg       0.97      0.97      0.97     44707\n",
            "\n",
            "[[42011   325]\n",
            " [  854  1517]]\n"
          ],
          "name": "stdout"
        }
      ]
    },
    {
      "cell_type": "code",
      "metadata": {
        "id": "PCaXDUgc_3sn",
        "colab_type": "code",
        "colab": {
          "base_uri": "https://localhost:8080/",
          "height": 283
        },
        "outputId": "4a5cf99d-fc5a-4beb-9f5f-d9d15872fc72"
      },
      "source": [
        "plt.plot(fpr, tpr, 'b', label = 'AUC = %0.2f' % roc_auc)\n",
        "plt.legend(loc = 'lower right')\n",
        "plt.plot([0, 1], [0, 1],'r--')\n",
        "plt.xlim([0, 1])\n",
        "plt.ylim([0, 1])\n",
        "plt.ylabel('True Positive Rate')\n",
        "plt.xlabel('False Positive Rate')\n",
        "plt.show()\n"
      ],
      "execution_count": 80,
      "outputs": [
        {
          "output_type": "display_data",
          "data": {
            "image/png": "[encoded data removed]",
            "text/plain": [
              "<Figure size 432x288 with 1 Axes>"
            ]
          },
          "metadata": {
            "tags": [],
            "needs_background": "light"
          }
        }
      ]
    },
    {
      "cell_type": "code",
      "metadata": {
        "id": "9YTc9KXB43wR",
        "colab_type": "code",
        "colab": {
          "base_uri": "https://localhost:8080/",
          "height": 85
        },
        "outputId": "9293f286-3357-41ca-bfeb-29a7b9f43242"
      },
      "source": [
        "loss, accuracy = model.evaluate(X_train, y_train, verbose=False)\n",
        "print(\"Train accuracy:\")\n",
        "print(accuracy)\n",
        "loss, accuracy = model.evaluate(X_test, y_test, verbose=False)\n",
        "print(\"Test accuracy:\")\n",
        "print(accuracy)"
      ],
      "execution_count": 76,
      "outputs": [
        {
          "output_type": "stream",
          "text": [
            "Train accuracy:\n",
            "0.9863443374633789\n",
            "Test accuracy:\n",
            "0.9736282825469971\n"
          ],
          "name": "stdout"
        }
      ]
    },
    {
      "cell_type": "markdown",
      "metadata": {
        "id": "jovzqSQ9szWZ",
        "colab_type": "text"
      },
      "source": [
        "##Threat"
      ]
    },
    {
      "cell_type": "code",
      "metadata": {
        "id": "f8v6_sg89wWT",
        "colab_type": "code",
        "colab": {}
      },
      "source": [
        "y = train['threat']\n",
        "x_train, x_test, y_train, y_test = train_test_split(x, y, train_size=0.8, random_state=300)\n",
        "vectorizer = CountVectorizer()\n",
        "vectorizer.fit(x_train)\n",
        "X_train = vectorizer.transform(x_train)\n",
        "X_test = vectorizer.transform(x_test)"
      ],
      "execution_count": 83,
      "outputs": []
    },
    {
      "cell_type": "code",
      "metadata": {
        "id": "hZHeI-BQ-2wI",
        "colab_type": "code",
        "colab": {}
      },
      "source": [
        "historyST = model.fit(X_train,y_train,epochs=3 ,verbose=False,validation_data=(X_test,y_test),batch_size=200)"
      ],
      "execution_count": 84,
      "outputs": []
    },
    {
      "cell_type": "code",
      "metadata": {
        "id": "IOuZ6KZsDXWh",
        "colab_type": "code",
        "colab": {
          "base_uri": "https://localhost:8080/",
          "height": 204
        },
        "outputId": "e0354a81-b471-4dc8-c289-6ab490959e9e"
      },
      "source": [
        "predictions = model.predict(X_train)\n",
        "pred = []\n",
        "for elem in predictions:\n",
        "  pred.append(int(round(elem[0])))\n",
        "print(classification_report(y_train,pred))\n",
        "print(confusion_matrix(y_train,pred))\n",
        "fpr,tpr,thresh = roc_curve(y_train,pred)\n",
        "roc_auc = auc(fpr,tpr)"
      ],
      "execution_count": 85,
      "outputs": [
        {
          "output_type": "stream",
          "text": [
            "              precision    recall  f1-score   support\n",
            "\n",
            "           0       1.00      1.00      1.00    178278\n",
            "           1       0.96      0.32      0.48       549\n",
            "\n",
            "    accuracy                           1.00    178827\n",
            "   macro avg       0.98      0.66      0.74    178827\n",
            "weighted avg       1.00      1.00      1.00    178827\n",
            "\n",
            "[[178271      7]\n",
            " [   373    176]]\n"
          ],
          "name": "stdout"
        }
      ]
    },
    {
      "cell_type": "code",
      "metadata": {
        "id": "5Iqdqi_BDaYN",
        "colab_type": "code",
        "colab": {
          "base_uri": "https://localhost:8080/",
          "height": 283
        },
        "outputId": "e2216b2a-cf8a-4d6b-e8cc-ced5c0def862"
      },
      "source": [
        "plt.plot(fpr, tpr, 'b', label = 'AUC = %0.2f' % roc_auc)\n",
        "plt.legend(loc = 'lower right')\n",
        "plt.plot([0, 1], [0, 1],'r--')\n",
        "plt.xlim([0, 1])\n",
        "plt.ylim([0, 1])\n",
        "plt.ylabel('True Positive Rate')\n",
        "plt.xlabel('False Positive Rate')\n",
        "plt.show()\n"
      ],
      "execution_count": 86,
      "outputs": [
        {
          "output_type": "display_data",
          "data": {
            "image/png": "[encoded data removed]",
            "text/plain": [
              "<Figure size 432x288 with 1 Axes>"
            ]
          },
          "metadata": {
            "tags": [],
            "needs_background": "light"
          }
        }
      ]
    },
    {
      "cell_type": "code",
      "metadata": {
        "id": "ARhJPgqBDad-",
        "colab_type": "code",
        "colab": {
          "base_uri": "https://localhost:8080/",
          "height": 204
        },
        "outputId": "88d0421d-1a64-4172-ba86-59b56daf3050"
      },
      "source": [
        "predictions = model.predict(X_test)\n",
        "pred = []\n",
        "for elem in predictions:\n",
        "  pred.append(int(round(elem[0])))\n",
        "print(classification_report(y_test,pred))\n",
        "print(confusion_matrix(y_test,pred))\n",
        "fpr,tpr,thresh = roc_curve(y_test,pred)\n",
        "roc_auc = auc(fpr,tpr)"
      ],
      "execution_count": 87,
      "outputs": [
        {
          "output_type": "stream",
          "text": [
            "              precision    recall  f1-score   support\n",
            "\n",
            "           0       1.00      1.00      1.00     44567\n",
            "           1       0.41      0.06      0.11       140\n",
            "\n",
            "    accuracy                           1.00     44707\n",
            "   macro avg       0.70      0.53      0.55     44707\n",
            "weighted avg       1.00      1.00      1.00     44707\n",
            "\n",
            "[[44554    13]\n",
            " [  131     9]]\n"
          ],
          "name": "stdout"
        }
      ]
    },
    {
      "cell_type": "code",
      "metadata": {
        "id": "hpjbaZThDaih",
        "colab_type": "code",
        "colab": {
          "base_uri": "https://localhost:8080/",
          "height": 283
        },
        "outputId": "0699ed41-b294-40d8-f730-f79467f218cf"
      },
      "source": [
        "plt.plot(fpr, tpr, 'b', label = 'AUC = %0.2f' % roc_auc)\n",
        "plt.legend(loc = 'lower right')\n",
        "plt.plot([0, 1], [0, 1],'r--')\n",
        "plt.xlim([0, 1])\n",
        "plt.ylim([0, 1])\n",
        "plt.ylabel('True Positive Rate')\n",
        "plt.xlabel('False Positive Rate')\n",
        "plt.show()\n"
      ],
      "execution_count": 88,
      "outputs": [
        {
          "output_type": "display_data",
          "data": {
            "image/png": "[encoded data removed]",
            "text/plain": [
              "<Figure size 432x288 with 1 Axes>"
            ]
          },
          "metadata": {
            "tags": [],
            "needs_background": "light"
          }
        }
      ]
    },
    {
      "cell_type": "code",
      "metadata": {
        "id": "eNVgv8lJ_BgD",
        "colab_type": "code",
        "colab": {
          "base_uri": "https://localhost:8080/",
          "height": 85
        },
        "outputId": "6f4a24cf-880c-4d18-8bd7-ca1ce5d28945"
      },
      "source": [
        "loss, accuracy = model.evaluate(X_train, y_train, verbose=False)\n",
        "print(\"Train accuracy:\")\n",
        "print(accuracy)\n",
        "loss, accuracy = model.evaluate(X_test, y_test, verbose=False)\n",
        "print(\"Test accuracy:\")\n",
        "print(accuracy)"
      ],
      "execution_count": null,
      "outputs": [
        {
          "output_type": "stream",
          "text": [
            "Train accuracy:\n",
            "0.9969803094863892\n",
            "Test accuracy:\n",
            "0.996823787689209\n"
          ],
          "name": "stdout"
        }
      ]
    },
    {
      "cell_type": "markdown",
      "metadata": {
        "id": "KskGELj-s1nM",
        "colab_type": "text"
      },
      "source": [
        "##Insult"
      ]
    },
    {
      "cell_type": "code",
      "metadata": {
        "id": "n2k-bxeaECtu",
        "colab_type": "code",
        "colab": {}
      },
      "source": [
        "y = train['insult']\n",
        "x_train, x_test, y_train, y_test = train_test_split(x, y, train_size=0.8, random_state=300)\n",
        "vectorizer = CountVectorizer()\n",
        "vectorizer.fit(x_train)\n",
        "X_train = vectorizer.transform(x_train)\n",
        "X_test = vectorizer.transform(x_test)"
      ],
      "execution_count": 102,
      "outputs": []
    },
    {
      "cell_type": "code",
      "metadata": {
        "id": "54V6mCxHF13O",
        "colab_type": "code",
        "colab": {}
      },
      "source": [
        "historyST = model.fit(X_train,y_train,epochs=3 ,verbose=False,validation_data=(X_test,y_test),batch_size=200)"
      ],
      "execution_count": 103,
      "outputs": []
    },
    {
      "cell_type": "code",
      "metadata": {
        "id": "Zx5QYIuEQWHQ",
        "colab_type": "code",
        "colab": {
          "base_uri": "https://localhost:8080/",
          "height": 204
        },
        "outputId": "72fe1c3e-b594-4185-93e1-a9de8f919251"
      },
      "source": [
        "predictions = model.predict(X_train)\n",
        "pred = []\n",
        "for elem in predictions:\n",
        "  pred.append(int(round(elem[0])))\n",
        "print(classification_report(y_train,pred))\n",
        "print(confusion_matrix(y_train,pred))\n",
        "fpr,tpr,thresh = roc_curve(y_train,pred)\n",
        "roc_auc = auc(fpr,tpr)"
      ],
      "execution_count": 104,
      "outputs": [
        {
          "output_type": "stream",
          "text": [
            "              precision    recall  f1-score   support\n",
            "\n",
            "           0       0.99      0.99      0.99    169746\n",
            "           1       0.89      0.78      0.83      9081\n",
            "\n",
            "    accuracy                           0.98    178827\n",
            "   macro avg       0.94      0.89      0.91    178827\n",
            "weighted avg       0.98      0.98      0.98    178827\n",
            "\n",
            "[[168876    870]\n",
            " [  1985   7096]]\n"
          ],
          "name": "stdout"
        }
      ]
    },
    {
      "cell_type": "code",
      "metadata": {
        "id": "PRV5EHXnQWLr",
        "colab_type": "code",
        "colab": {
          "base_uri": "https://localhost:8080/",
          "height": 283
        },
        "outputId": "f4b42cc2-2767-4790-ebe4-d240f758c389"
      },
      "source": [
        "plt.plot(fpr, tpr, 'b', label = 'AUC = %0.2f' % roc_auc)\n",
        "plt.legend(loc = 'lower right')\n",
        "plt.plot([0, 1], [0, 1],'r--')\n",
        "plt.xlim([0, 1])\n",
        "plt.ylim([0, 1])\n",
        "plt.ylabel('True Positive Rate')\n",
        "plt.xlabel('False Positive Rate')\n",
        "plt.show()\n"
      ],
      "execution_count": 105,
      "outputs": [
        {
          "output_type": "display_data",
          "data": {
            "image/png": "[encoded data removed]",
            "text/plain": [
              "<Figure size 432x288 with 1 Axes>"
            ]
          },
          "metadata": {
            "tags": [],
            "needs_background": "light"
          }
        }
      ]
    },
    {
      "cell_type": "code",
      "metadata": {
        "id": "21qXp9BtQWP4",
        "colab_type": "code",
        "colab": {
          "base_uri": "https://localhost:8080/",
          "height": 204
        },
        "outputId": "fb4428fd-21ee-4a72-ce68-4150c499c749"
      },
      "source": [
        "predictions = model.predict(X_test)\n",
        "pred = []\n",
        "for elem in predictions:\n",
        "  pred.append(int(round(elem[0])))\n",
        "print(classification_report(y_test,pred))\n",
        "print(confusion_matrix(y_test,pred))\n",
        "fpr,tpr,thresh = roc_curve(y_test,pred)\n",
        "roc_auc = auc(fpr,tpr)"
      ],
      "execution_count": 106,
      "outputs": [
        {
          "output_type": "stream",
          "text": [
            "              precision    recall  f1-score   support\n",
            "\n",
            "           0       0.98      0.99      0.98     42484\n",
            "           1       0.76      0.57      0.65      2223\n",
            "\n",
            "    accuracy                           0.97     44707\n",
            "   macro avg       0.87      0.78      0.82     44707\n",
            "weighted avg       0.97      0.97      0.97     44707\n",
            "\n",
            "[[42081   403]\n",
            " [  950  1273]]\n"
          ],
          "name": "stdout"
        }
      ]
    },
    {
      "cell_type": "code",
      "metadata": {
        "id": "S_ghwvSGQWUN",
        "colab_type": "code",
        "colab": {
          "base_uri": "https://localhost:8080/",
          "height": 283
        },
        "outputId": "4d0a3440-bc38-4ecb-92ed-f214cb4ff440"
      },
      "source": [
        "plt.plot(fpr, tpr, 'b', label = 'AUC = %0.2f' % roc_auc)\n",
        "plt.legend(loc = 'lower right')\n",
        "plt.plot([0, 1], [0, 1],'r--')\n",
        "plt.xlim([0, 1])\n",
        "plt.ylim([0, 1])\n",
        "plt.ylabel('True Positive Rate')\n",
        "plt.xlabel('False Positive Rate')\n",
        "plt.show()\n"
      ],
      "execution_count": 107,
      "outputs": [
        {
          "output_type": "display_data",
          "data": {
            "image/png": "[encoded data removed]",
            "text/plain": [
              "<Figure size 432x288 with 1 Axes>"
            ]
          },
          "metadata": {
            "tags": [],
            "needs_background": "light"
          }
        }
      ]
    },
    {
      "cell_type": "code",
      "metadata": {
        "id": "o2-VHgFGGkKF",
        "colab_type": "code",
        "colab": {
          "base_uri": "https://localhost:8080/",
          "height": 85
        },
        "outputId": "e431e167-a12f-43eb-a741-9f3a2eaeb77d"
      },
      "source": [
        "loss, accuracy = model.evaluate(X_train, y_train, verbose=False)\n",
        "print(\"Train accuracy:\")\n",
        "print(accuracy)\n",
        "loss, accuracy = model.evaluate(X_test, y_test, verbose=False)\n",
        "print(\"Test accuracy:\")\n",
        "print(accuracy)"
      ],
      "execution_count": null,
      "outputs": [
        {
          "output_type": "stream",
          "text": [
            "Train accuracy:\n",
            "0.9848792552947998\n",
            "Test accuracy:\n",
            "0.9695349931716919\n"
          ],
          "name": "stdout"
        }
      ]
    },
    {
      "cell_type": "markdown",
      "metadata": {
        "id": "PreqArT-s3sO",
        "colab_type": "text"
      },
      "source": [
        "##Identity Hate"
      ]
    },
    {
      "cell_type": "code",
      "metadata": {
        "id": "Zo7q1BLKQuee",
        "colab_type": "code",
        "colab": {}
      },
      "source": [
        "y = train['identity_hate']\n",
        "x_train, x_test, y_train, y_test = train_test_split(x, y, train_size=0.8, random_state=300)\n",
        "vectorizer = CountVectorizer()\n",
        "vectorizer.fit(x_train)\n",
        "X_train = vectorizer.transform(x_train)\n",
        "X_test = vectorizer.transform(x_test)"
      ],
      "execution_count": 108,
      "outputs": []
    },
    {
      "cell_type": "code",
      "metadata": {
        "id": "bvtKtwv0TOPC",
        "colab_type": "code",
        "colab": {}
      },
      "source": [
        "historyST = model.fit(X_train,y_train,epochs=3 ,verbose=False,validation_data=(X_test,y_test),batch_size=200)"
      ],
      "execution_count": 109,
      "outputs": []
    },
    {
      "cell_type": "code",
      "metadata": {
        "id": "LFA9EJ2-e0iM",
        "colab_type": "code",
        "colab": {
          "base_uri": "https://localhost:8080/",
          "height": 204
        },
        "outputId": "691252ee-bb3e-4bc5-8fd3-a16d22bb4506"
      },
      "source": [
        "predictions = model.predict(X_train)\n",
        "pred = []\n",
        "for elem in predictions:\n",
        "  pred.append(int(round(elem[0])))\n",
        "print(classification_report(y_train,pred))\n",
        "print(confusion_matrix(y_train,pred))\n",
        "fpr,tpr,thresh = roc_curve(y_train,pred)\n",
        "roc_auc = auc(fpr,tpr)"
      ],
      "execution_count": 110,
      "outputs": [
        {
          "output_type": "stream",
          "text": [
            "              precision    recall  f1-score   support\n",
            "\n",
            "           0       1.00      1.00      1.00    177115\n",
            "           1       0.94      0.58      0.72      1712\n",
            "\n",
            "    accuracy                           1.00    178827\n",
            "   macro avg       0.97      0.79      0.86    178827\n",
            "weighted avg       1.00      1.00      1.00    178827\n",
            "\n",
            "[[177054     61]\n",
            " [   713    999]]\n"
          ],
          "name": "stdout"
        }
      ]
    },
    {
      "cell_type": "code",
      "metadata": {
        "id": "w2KJl_8ne0m6",
        "colab_type": "code",
        "colab": {
          "base_uri": "https://localhost:8080/",
          "height": 283
        },
        "outputId": "7c9b780e-ef6d-441f-c819-635c3799a1ff"
      },
      "source": [
        "plt.plot(fpr, tpr, 'b', label = 'AUC = %0.2f' % roc_auc)\n",
        "plt.legend(loc = 'lower right')\n",
        "plt.plot([0, 1], [0, 1],'r--')\n",
        "plt.xlim([0, 1])\n",
        "plt.ylim([0, 1])\n",
        "plt.ylabel('True Positive Rate')\n",
        "plt.xlabel('False Positive Rate')\n",
        "plt.show()\n"
      ],
      "execution_count": 111,
      "outputs": [
        {
          "output_type": "display_data",
          "data": {
            "image/png": "[encoded data removed]",
            "text/plain": [
              "<Figure size 432x288 with 1 Axes>"
            ]
          },
          "metadata": {
            "tags": [],
            "needs_background": "light"
          }
        }
      ]
    },
    {
      "cell_type": "code",
      "metadata": {
        "id": "q3ahld49e0r8",
        "colab_type": "code",
        "colab": {
          "base_uri": "https://localhost:8080/",
          "height": 204
        },
        "outputId": "be84be24-3b8d-4a5f-e3b5-b0da23262a2a"
      },
      "source": [
        "predictions = model.predict(X_test)\n",
        "pred = []\n",
        "for elem in predictions:\n",
        "  pred.append(int(round(elem[0])))\n",
        "print(classification_report(y_test,pred))\n",
        "print(confusion_matrix(y_test,pred))\n",
        "fpr,tpr,thresh = roc_curve(y_test,pred)\n",
        "roc_auc = auc(fpr,tpr)"
      ],
      "execution_count": 112,
      "outputs": [
        {
          "output_type": "stream",
          "text": [
            "              precision    recall  f1-score   support\n",
            "\n",
            "           0       0.99      1.00      1.00     44302\n",
            "           1       0.58      0.21      0.31       405\n",
            "\n",
            "    accuracy                           0.99     44707\n",
            "   macro avg       0.78      0.61      0.65     44707\n",
            "weighted avg       0.99      0.99      0.99     44707\n",
            "\n",
            "[[44238    64]\n",
            " [  318    87]]\n"
          ],
          "name": "stdout"
        }
      ]
    },
    {
      "cell_type": "code",
      "metadata": {
        "id": "iBY6P9vze0v2",
        "colab_type": "code",
        "colab": {
          "base_uri": "https://localhost:8080/",
          "height": 283
        },
        "outputId": "fa00a4ba-ecef-4470-a94d-b0285db4ef94"
      },
      "source": [
        "plt.plot(fpr, tpr, 'b', label = 'AUC = %0.2f' % roc_auc)\n",
        "plt.legend(loc = 'lower right')\n",
        "plt.plot([0, 1], [0, 1],'r--')\n",
        "plt.xlim([0, 1])\n",
        "plt.ylim([0, 1])\n",
        "plt.ylabel('True Positive Rate')\n",
        "plt.xlabel('False Positive Rate')\n",
        "plt.show()\n"
      ],
      "execution_count": 113,
      "outputs": [
        {
          "output_type": "display_data",
          "data": {
            "image/png": "[encoded data removed]",
            "text/plain": [
              "<Figure size 432x288 with 1 Axes>"
            ]
          },
          "metadata": {
            "tags": [],
            "needs_background": "light"
          }
        }
      ]
    },
    {
      "cell_type": "code",
      "metadata": {
        "id": "FeCalIwqVG7a",
        "colab_type": "code",
        "colab": {
          "base_uri": "https://localhost:8080/",
          "height": 85
        },
        "outputId": "457d96a7-100d-41a4-8ff3-06a551bae28a"
      },
      "source": [
        "loss, accuracy = model.evaluate(X_train, y_train, verbose=False)\n",
        "print(\"Train accuracy:\")\n",
        "print(accuracy)\n",
        "loss, accuracy = model.evaluate(X_test, y_test, verbose=False)\n",
        "print(\"Test accuracy:\")\n",
        "print(accuracy)"
      ],
      "execution_count": null,
      "outputs": [
        {
          "output_type": "stream",
          "text": [
            "Train accuracy:\n",
            "0.9952523708343506\n",
            "Test accuracy:\n",
            "0.9915896654129028\n"
          ],
          "name": "stdout"
        }
      ]
    }
  ]
}