{
  "nbformat": 4,
  "nbformat_minor": 0,
  "metadata": {
    "colab": {
      "name": "cleaning.ipynb",
      "provenance": [],
      "authorship_tag": "ABX9TyN3rkyLgPYqWvv3w04ERmt7",
      "include_colab_link": true
    },
    "kernelspec": {
      "name": "python3",
      "display_name": "Python 3"
    }
  },
  "cells": [
    {
      "cell_type": "markdown",
      "metadata": {
        "id": "view-in-github",
        "colab_type": "text"
      },
      "source": [
        "<a href=\"https://colab.research.google.com/github/i-r-a/toxic/blob/master/word_counts.ipynb\" target=\"_parent\"><img src=\"https://colab.research.google.com/assets/colab-badge.svg\" alt=\"Open In Colab\"/></a>"
      ]
    },
    {
      "cell_type": "code",
      "metadata": {
        "id": "0Gzw0md3RIU3",
        "colab_type": "code",
        "colab": {}
      },
      "source": [
        "import os\n",
        "\n",
        "import matplotlib as mpl\n",
        "import matplotlib.pyplot as plt\n",
        "from IPython.display import display\n",
        "%matplotlib inline\n",
        "\n",
        "import pandas as pd\n",
        "import numpy as np\n"
      ],
      "execution_count": 2,
      "outputs": []
    },
    {
      "cell_type": "code",
      "metadata": {
        "id": "Ovs8BFw7RJEb",
        "colab_type": "code",
        "colab": {}
      },
      "source": [
        "import re"
      ],
      "execution_count": 2,
      "outputs": []
    },
    {
      "cell_type": "code",
      "metadata": {
        "id": "57RVm5WuRKqu",
        "colab_type": "code",
        "colab": {
          "base_uri": "https://localhost:8080/",
          "height": 122
        },
        "outputId": "c134a391-a648-4b38-d161-32d3769d2944"
      },
      "source": [
        "from google.colab import drive\n",
        "drive.mount('/content/drive')"
      ],
      "execution_count": 3,
      "outputs": [
        {
          "output_type": "stream",
          "text": [
            "Go to this URL in a browser: https://accounts.google.com/o/oauth2/auth?client_id=947318989803-6bn6qk8qdgf4n4g3pfee6491hc0brc4i.apps.googleusercontent.com&redirect_uri=urn%3aietf%3awg%3aoauth%3a2.0%3aoob&response_type=code&scope=email%20https%3a%2f%2fwww.googleapis.com%2fauth%2fdocs.test%20https%3a%2f%2fwww.googleapis.com%2fauth%2fdrive%20https%3a%2f%2fwww.googleapis.com%2fauth%2fdrive.photos.readonly%20https%3a%2f%2fwww.googleapis.com%2fauth%2fpeopleapi.readonly\n",
            "\n",
            "Enter your authorization code:\n",
            "··········\n",
            "Mounted at /content/drive\n"
          ],
          "name": "stdout"
        }
      ]
    },
    {
      "cell_type": "code",
      "metadata": {
        "id": "t-lFXmFVRNDj",
        "colab_type": "code",
        "colab": {}
      },
      "source": [
        "import io"
      ],
      "execution_count": 3,
      "outputs": []
    },
    {
      "cell_type": "code",
      "metadata": {
        "id": "h14Gj_zdSjoS",
        "colab_type": "code",
        "colab": {}
      },
      "source": [
        "import nltk\n",
        "from nltk.corpus import stopwords"
      ],
      "execution_count": 33,
      "outputs": []
    },
    {
      "cell_type": "code",
      "metadata": {
        "id": "Mf6UlFeNf6fc",
        "colab_type": "code",
        "colab": {}
      },
      "source": [
        "train = pd.read_csv('drive/My Drive/clean_data.csv')"
      ],
      "execution_count": 22,
      "outputs": []
    },
    {
      "cell_type": "code",
      "metadata": {
        "id": "UxssBJTdgBEt",
        "colab_type": "code",
        "colab": {}
      },
      "source": [
        "import itertools"
      ],
      "execution_count": 34,
      "outputs": []
    },
    {
      "cell_type": "code",
      "metadata": {
        "id": "IRrRQbdgg3H7",
        "colab_type": "code",
        "colab": {
          "base_uri": "https://localhost:8080/",
          "height": 272
        },
        "outputId": "e0967976-cb63-44e8-efcd-8041f32782fc"
      },
      "source": [
        "words = []\n",
        "not_work = []\n",
        "counter = 0\n",
        "for txt in train['comment_text']:\n",
        "  try:\n",
        "    counter+=1\n",
        "    words.append(txt.lower().split())\n",
        "  except:\n",
        "    print(counter)\n",
        "    not_work.append(counter-1)\n",
        "    cast = str(txt)\n",
        "    words.append(cast.lower().split())\n",
        "    "
      ],
      "execution_count": 29,
      "outputs": [
        {
          "output_type": "stream",
          "text": [
            "53788\n",
            "64905\n",
            "76038\n",
            "106892\n",
            "141294\n",
            "163252\n",
            "168947\n",
            "178687\n",
            "193980\n",
            "200639\n",
            "202962\n",
            "204722\n",
            "210602\n",
            "213686\n",
            "217811\n"
          ],
          "name": "stdout"
        }
      ]
    },
    {
      "cell_type": "code",
      "metadata": {
        "id": "129a8UcWrvxL",
        "colab_type": "code",
        "colab": {
          "base_uri": "https://localhost:8080/",
          "height": 782
        },
        "outputId": "b6c1da24-44d7-4b50-c0f9-37a73350085e"
      },
      "source": [
        "for num in not_work:\n",
        "  print(train['comment_text'][num])\n",
        "  print(train0['comment_text'][num])\n",
        "  print()"
      ],
      "execution_count": 31,
      "outputs": [
        {
          "output_type": "stream",
          "text": [
            "nan\n",
            "92.24.199.233|92.24.199.233]]\n",
            "\n",
            "nan\n",
            "http://en.wikipedia.org/wiki/Wikipedia_talk:No_original_research/archive15#YouTube_art_as_primary_source\n",
            "\n",
            "nan\n",
            "http://finance.yahoo.com/news/7-fascinating-nuggets-another-bewildering-150348488.html\n",
            "\n",
            "nan\n",
            "http://en.wikipedia.org/wiki/Wikipedia:ELYES\n",
            "\n",
            "nan\n",
            "http://www.haaretz.com/news/diplomacy-defense/2-279-calories-per-person-how-israel-made-sure-gaza-didn-t-starve.premium-1.470419\n",
            "\n",
            "nan\n",
            "http://en.wikipedia.org/wiki/Half-Life_%28series%29\n",
            "\n",
            "nan\n",
            ":http://knowyourmeme.com/memes/baneposting\n",
            "\n",
            "nan\n",
            ":\n",
            "\n",
            "nan\n",
            ":::\n",
            "\n",
            "nan\n",
            "{{\n",
            "\n",
            "nan\n",
            "http://es.wikipedia.org/wiki/Usuario_Discusi%C3%B3n:Sarah_W.\n",
            "\n",
            "nan\n",
            "*\n",
            "\n",
            "nan\n",
            "}}\n",
            "\n",
            "nan\n",
            "http://en.wikipedia.org/wiki/Rayleigh%E2%80%93B%C3%A9nard_convection\n",
            "\n",
            "nan\n",
            "~\n",
            "\n"
          ],
          "name": "stdout"
        }
      ]
    },
    {
      "cell_type": "code",
      "metadata": {
        "id": "JxJK1XV1sq_o",
        "colab_type": "code",
        "colab": {}
      },
      "source": [
        "import collections"
      ],
      "execution_count": 36,
      "outputs": []
    },
    {
      "cell_type": "code",
      "metadata": {
        "id": "iNzLxDO1ssYF",
        "colab_type": "code",
        "colab": {}
      },
      "source": [
        "words"
      ],
      "execution_count": null,
      "outputs": []
    },
    {
      "cell_type": "code",
      "metadata": {
        "id": "nYeO6xjjs_zo",
        "colab_type": "code",
        "colab": {
          "base_uri": "https://localhost:8080/",
          "height": 68
        },
        "outputId": "ddb5b98a-218b-47cc-85b3-ab43ed001335"
      },
      "source": [
        "nltk.download('stopwords')"
      ],
      "execution_count": 40,
      "outputs": [
        {
          "output_type": "stream",
          "text": [
            "[nltk_data] Downloading package stopwords to /root/nltk_data...\n",
            "[nltk_data]   Unzipping corpora/stopwords.zip.\n"
          ],
          "name": "stdout"
        },
        {
          "output_type": "execute_result",
          "data": {
            "text/plain": [
              "True"
            ]
          },
          "metadata": {
            "tags": []
          },
          "execution_count": 40
        }
      ]
    },
    {
      "cell_type": "code",
      "metadata": {
        "id": "yV3_QjSis6nb",
        "colab_type": "code",
        "colab": {}
      },
      "source": [
        "stop_words = set(stopwords.words('english'))"
      ],
      "execution_count": 41,
      "outputs": []
    },
    {
      "cell_type": "code",
      "metadata": {
        "id": "zdaMnICvtGvb",
        "colab_type": "code",
        "colab": {}
      },
      "source": [
        "without_stop = [[word for word in ww if not word in stop_words]\n",
        "                for ww in words]"
      ],
      "execution_count": 42,
      "outputs": []
    },
    {
      "cell_type": "code",
      "metadata": {
        "id": "72TA4cUyuhPT",
        "colab_type": "code",
        "colab": {}
      },
      "source": [
        "all_words = list(itertools.chain(*without_stop))\n",
        "all_words_count = collections.Counter(all_words)"
      ],
      "execution_count": 49,
      "outputs": []
    },
    {
      "cell_type": "code",
      "metadata": {
        "id": "3FyD1zWuu-6q",
        "colab_type": "code",
        "colab": {
          "base_uri": "https://localhost:8080/",
          "height": 272
        },
        "outputId": "b96a103d-8935-42c4-e499-640aa89b8382"
      },
      "source": [
        "all_words_count.most_common(15)"
      ],
      "execution_count": 50,
      "outputs": [
        {
          "output_type": "execute_result",
          "data": {
            "text/plain": [
              "[('article', 76939),\n",
              " ('page', 60112),\n",
              " ('wikipedia', 46470),\n",
              " ('would', 40436),\n",
              " ('please', 39261),\n",
              " ('one', 38576),\n",
              " ('like', 38138),\n",
              " ('talk', 36604),\n",
              " ('dont', 34779),\n",
              " ('see', 29392),\n",
              " ('think', 28094),\n",
              " ('also', 27954),\n",
              " ('im', 26861),\n",
              " ('know', 25628),\n",
              " ('people', 24260)]"
            ]
          },
          "metadata": {
            "tags": []
          },
          "execution_count": 50
        }
      ]
    },
    {
      "cell_type": "code",
      "metadata": {
        "id": "zUp_hwrUvk-o",
        "colab_type": "code",
        "colab": {
          "base_uri": "https://localhost:8080/",
          "height": 34
        },
        "outputId": "477bf33c-2948-4443-e76e-baca5bb94e23"
      },
      "source": [
        "len(without_stop)"
      ],
      "execution_count": 51,
      "outputs": [
        {
          "output_type": "execute_result",
          "data": {
            "text/plain": [
              "223549"
            ]
          },
          "metadata": {
            "tags": []
          },
          "execution_count": 51
        }
      ]
    },
    {
      "cell_type": "code",
      "metadata": {
        "id": "zEhlzEe1xFv_",
        "colab_type": "code",
        "colab": {}
      },
      "source": [
        "most_common = pd.DataFrame(all_words_count.most_common(20),\n",
        "                           columns = ['words','count'])"
      ],
      "execution_count": 54,
      "outputs": []
    },
    {
      "cell_type": "code",
      "metadata": {
        "id": "TbonbwF4wqTX",
        "colab_type": "code",
        "colab": {
          "base_uri": "https://localhost:8080/",
          "height": 499
        },
        "outputId": "84aaed4b-13d5-4eb9-931b-b102b87d55b8"
      },
      "source": [
        "fig, ax = plt.subplots(figsize=(8, 8))\n",
        "\n",
        "# Plot horizontal bar graph\n",
        "most_common.sort_values(by='count').plot.barh(x='words',\n",
        "                      y='count',\n",
        "                      ax=ax,\n",
        "                      color=\"purple\")\n",
        "\n",
        "ax.set_title(\"Common Words Found (Without Stop Words)\")\n",
        "\n",
        "plt.show()"
      ],
      "execution_count": 56,
      "outputs": [
        {
          "output_type": "display_data",
          "data": {
            "image/png": "[encoded data removed]",
            "text/plain": [
              "<Figure size 576x576 with 1 Axes>"
            ]
          },
          "metadata": {
            "tags": [],
            "needs_background": "light"
          }
        }
      ]
    }
  ]
}
